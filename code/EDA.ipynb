{
 "cells": [
  {
   "cell_type": "code",
   "execution_count": 820,
   "metadata": {},
   "outputs": [],
   "source": [
    "# For Analysis\n",
    "import numpy as np\n",
    "import pandas as pd\n",
    "\n",
    "# For Visualizations\n",
    "import matplotlib.pyplot as plt\n",
    "import seaborn as sns\n",
    "\n",
    "# For Calculations\n",
    "from math import floor\n",
    "\n",
    "#For Modeling\n",
    "from sklearn.ensemble import RandomForestRegressor\n",
    "from sklearn.feature_selection import SelectFromModel"
   ]
  },
  {
   "cell_type": "markdown",
   "metadata": {},
   "source": [
    "## Importing and looking at the Data"
   ]
  },
  {
   "cell_type": "markdown",
   "metadata": {},
   "source": [
    "Reading in the datasets"
   ]
  },
  {
   "cell_type": "code",
   "execution_count": 821,
   "metadata": {},
   "outputs": [],
   "source": [
    "listings = pd.read_csv('../data/airbnb_listings.csv')\n",
    "stations = pd.read_csv('../data/train_stations.csv')\n",
    "neighbourhoods = pd.read_csv('../data/neighbourhood_score.csv')\n",
    "attractions = pd.read_csv('../data/attractions.csv')"
   ]
  },
  {
   "cell_type": "code",
   "execution_count": 822,
   "metadata": {},
   "outputs": [
    {
     "data": {
      "text/html": [
       "<div>\n",
       "<style scoped>\n",
       "    .dataframe tbody tr th:only-of-type {\n",
       "        vertical-align: middle;\n",
       "    }\n",
       "\n",
       "    .dataframe tbody tr th {\n",
       "        vertical-align: top;\n",
       "    }\n",
       "\n",
       "    .dataframe thead th {\n",
       "        text-align: right;\n",
       "    }\n",
       "</style>\n",
       "<table border=\"1\" class=\"dataframe\">\n",
       "  <thead>\n",
       "    <tr style=\"text-align: right;\">\n",
       "      <th></th>\n",
       "      <th>id</th>\n",
       "      <th>log_price</th>\n",
       "      <th>property_type</th>\n",
       "      <th>room_type</th>\n",
       "      <th>amenities</th>\n",
       "      <th>accommodates</th>\n",
       "      <th>bathrooms</th>\n",
       "      <th>bed_type</th>\n",
       "      <th>cancellation_policy</th>\n",
       "      <th>cleaning_fee</th>\n",
       "      <th>...</th>\n",
       "      <th>latitude</th>\n",
       "      <th>longitude</th>\n",
       "      <th>name</th>\n",
       "      <th>Neighbourhood</th>\n",
       "      <th>number_of_reviews</th>\n",
       "      <th>review_scores_rating</th>\n",
       "      <th>thumbnail_url</th>\n",
       "      <th>zipcode</th>\n",
       "      <th>bedrooms</th>\n",
       "      <th>beds</th>\n",
       "    </tr>\n",
       "  </thead>\n",
       "  <tbody>\n",
       "    <tr>\n",
       "      <th>0</th>\n",
       "      <td>6901257</td>\n",
       "      <td>5.010635</td>\n",
       "      <td>Apartment</td>\n",
       "      <td>Entire home/apt</td>\n",
       "      <td>{\"Wireless Internet\",\"Air conditioning\",Kitche...</td>\n",
       "      <td>3</td>\n",
       "      <td>1.0</td>\n",
       "      <td>Real Bed</td>\n",
       "      <td>strict</td>\n",
       "      <td>True</td>\n",
       "      <td>...</td>\n",
       "      <td>40.696524</td>\n",
       "      <td>-73.991617</td>\n",
       "      <td>Beautiful brownstone 1-bedroom</td>\n",
       "      <td>Brooklyn Heights</td>\n",
       "      <td>2</td>\n",
       "      <td>100.0</td>\n",
       "      <td>https://a0.muscache.com/im/pictures/6d7cbbf7-c...</td>\n",
       "      <td>11201</td>\n",
       "      <td>1.0</td>\n",
       "      <td>1.0</td>\n",
       "    </tr>\n",
       "    <tr>\n",
       "      <th>1</th>\n",
       "      <td>6304928</td>\n",
       "      <td>5.129899</td>\n",
       "      <td>Apartment</td>\n",
       "      <td>Entire home/apt</td>\n",
       "      <td>{\"Wireless Internet\",\"Air conditioning\",Kitche...</td>\n",
       "      <td>7</td>\n",
       "      <td>1.0</td>\n",
       "      <td>Real Bed</td>\n",
       "      <td>strict</td>\n",
       "      <td>True</td>\n",
       "      <td>...</td>\n",
       "      <td>40.766115</td>\n",
       "      <td>-73.989040</td>\n",
       "      <td>Superb 3BR Apt Located Near Times Square</td>\n",
       "      <td>Hell's Kitchen</td>\n",
       "      <td>6</td>\n",
       "      <td>93.0</td>\n",
       "      <td>https://a0.muscache.com/im/pictures/348a55fe-4...</td>\n",
       "      <td>10019</td>\n",
       "      <td>3.0</td>\n",
       "      <td>3.0</td>\n",
       "    </tr>\n",
       "    <tr>\n",
       "      <th>2</th>\n",
       "      <td>7919400</td>\n",
       "      <td>4.976734</td>\n",
       "      <td>Apartment</td>\n",
       "      <td>Entire home/apt</td>\n",
       "      <td>{TV,\"Cable TV\",\"Wireless Internet\",\"Air condit...</td>\n",
       "      <td>5</td>\n",
       "      <td>1.0</td>\n",
       "      <td>Real Bed</td>\n",
       "      <td>moderate</td>\n",
       "      <td>True</td>\n",
       "      <td>...</td>\n",
       "      <td>40.808110</td>\n",
       "      <td>-73.943756</td>\n",
       "      <td>The Garden Oasis</td>\n",
       "      <td>Harlem</td>\n",
       "      <td>10</td>\n",
       "      <td>92.0</td>\n",
       "      <td>https://a0.muscache.com/im/pictures/6fae5362-9...</td>\n",
       "      <td>10027</td>\n",
       "      <td>1.0</td>\n",
       "      <td>3.0</td>\n",
       "    </tr>\n",
       "    <tr>\n",
       "      <th>3</th>\n",
       "      <td>13418779</td>\n",
       "      <td>6.620073</td>\n",
       "      <td>House</td>\n",
       "      <td>Entire home/apt</td>\n",
       "      <td>{TV,\"Cable TV\",Internet,\"Wireless Internet\",Ki...</td>\n",
       "      <td>4</td>\n",
       "      <td>1.0</td>\n",
       "      <td>Real Bed</td>\n",
       "      <td>flexible</td>\n",
       "      <td>True</td>\n",
       "      <td>...</td>\n",
       "      <td>37.772004</td>\n",
       "      <td>-122.431619</td>\n",
       "      <td>Beautiful Flat in the Heart of SF!</td>\n",
       "      <td>Lower Haight</td>\n",
       "      <td>0</td>\n",
       "      <td>NaN</td>\n",
       "      <td>https://a0.muscache.com/im/pictures/72208dad-9...</td>\n",
       "      <td>94117</td>\n",
       "      <td>2.0</td>\n",
       "      <td>2.0</td>\n",
       "    </tr>\n",
       "    <tr>\n",
       "      <th>4</th>\n",
       "      <td>3808709</td>\n",
       "      <td>4.744932</td>\n",
       "      <td>Apartment</td>\n",
       "      <td>Entire home/apt</td>\n",
       "      <td>{TV,Internet,\"Wireless Internet\",\"Air conditio...</td>\n",
       "      <td>2</td>\n",
       "      <td>1.0</td>\n",
       "      <td>Real Bed</td>\n",
       "      <td>moderate</td>\n",
       "      <td>True</td>\n",
       "      <td>...</td>\n",
       "      <td>38.925627</td>\n",
       "      <td>-77.034596</td>\n",
       "      <td>Great studio in midtown DC</td>\n",
       "      <td>Columbia Heights</td>\n",
       "      <td>4</td>\n",
       "      <td>40.0</td>\n",
       "      <td>NaN</td>\n",
       "      <td>20009</td>\n",
       "      <td>0.0</td>\n",
       "      <td>1.0</td>\n",
       "    </tr>\n",
       "  </tbody>\n",
       "</table>\n",
       "<p>5 rows × 29 columns</p>\n",
       "</div>"
      ],
      "text/plain": [
       "         id  log_price property_type        room_type  \\\n",
       "0   6901257   5.010635     Apartment  Entire home/apt   \n",
       "1   6304928   5.129899     Apartment  Entire home/apt   \n",
       "2   7919400   4.976734     Apartment  Entire home/apt   \n",
       "3  13418779   6.620073         House  Entire home/apt   \n",
       "4   3808709   4.744932     Apartment  Entire home/apt   \n",
       "\n",
       "                                           amenities  accommodates  bathrooms  \\\n",
       "0  {\"Wireless Internet\",\"Air conditioning\",Kitche...             3        1.0   \n",
       "1  {\"Wireless Internet\",\"Air conditioning\",Kitche...             7        1.0   \n",
       "2  {TV,\"Cable TV\",\"Wireless Internet\",\"Air condit...             5        1.0   \n",
       "3  {TV,\"Cable TV\",Internet,\"Wireless Internet\",Ki...             4        1.0   \n",
       "4  {TV,Internet,\"Wireless Internet\",\"Air conditio...             2        1.0   \n",
       "\n",
       "   bed_type cancellation_policy  cleaning_fee  ...    latitude   longitude  \\\n",
       "0  Real Bed              strict          True  ...   40.696524  -73.991617   \n",
       "1  Real Bed              strict          True  ...   40.766115  -73.989040   \n",
       "2  Real Bed            moderate          True  ...   40.808110  -73.943756   \n",
       "3  Real Bed            flexible          True  ...   37.772004 -122.431619   \n",
       "4  Real Bed            moderate          True  ...   38.925627  -77.034596   \n",
       "\n",
       "                                       name     Neighbourhood  \\\n",
       "0            Beautiful brownstone 1-bedroom  Brooklyn Heights   \n",
       "1  Superb 3BR Apt Located Near Times Square    Hell's Kitchen   \n",
       "2                          The Garden Oasis            Harlem   \n",
       "3        Beautiful Flat in the Heart of SF!      Lower Haight   \n",
       "4                Great studio in midtown DC  Columbia Heights   \n",
       "\n",
       "  number_of_reviews review_scores_rating  \\\n",
       "0                 2                100.0   \n",
       "1                 6                 93.0   \n",
       "2                10                 92.0   \n",
       "3                 0                  NaN   \n",
       "4                 4                 40.0   \n",
       "\n",
       "                                       thumbnail_url zipcode bedrooms  beds  \n",
       "0  https://a0.muscache.com/im/pictures/6d7cbbf7-c...   11201      1.0   1.0  \n",
       "1  https://a0.muscache.com/im/pictures/348a55fe-4...   10019      3.0   3.0  \n",
       "2  https://a0.muscache.com/im/pictures/6fae5362-9...   10027      1.0   3.0  \n",
       "3  https://a0.muscache.com/im/pictures/72208dad-9...   94117      2.0   2.0  \n",
       "4                                                NaN   20009      0.0   1.0  \n",
       "\n",
       "[5 rows x 29 columns]"
      ]
     },
     "execution_count": 822,
     "metadata": {},
     "output_type": "execute_result"
    }
   ],
   "source": [
    "listings.head()"
   ]
  },
  {
   "cell_type": "code",
   "execution_count": 823,
   "metadata": {},
   "outputs": [
    {
     "name": "stdout",
     "output_type": "stream",
     "text": [
      "<class 'pandas.core.frame.DataFrame'>\n",
      "RangeIndex: 74111 entries, 0 to 74110\n",
      "Data columns (total 29 columns):\n",
      "id                        74111 non-null int64\n",
      "log_price                 74111 non-null float64\n",
      "property_type             74111 non-null object\n",
      "room_type                 74111 non-null object\n",
      "amenities                 74111 non-null object\n",
      "accommodates              74111 non-null int64\n",
      "bathrooms                 73911 non-null float64\n",
      "bed_type                  74111 non-null object\n",
      "cancellation_policy       74111 non-null object\n",
      "cleaning_fee              74111 non-null bool\n",
      "city                      74111 non-null object\n",
      "description               74111 non-null object\n",
      "first_review              58247 non-null object\n",
      "host_has_profile_pic      73923 non-null object\n",
      "host_identity_verified    73923 non-null object\n",
      "host_response_rate        55812 non-null object\n",
      "host_since                73923 non-null object\n",
      "instant_bookable          74111 non-null object\n",
      "last_review               58284 non-null object\n",
      "latitude                  74111 non-null float64\n",
      "longitude                 74111 non-null float64\n",
      "name                      74111 non-null object\n",
      "Neighbourhood             74111 non-null object\n",
      "number_of_reviews         74111 non-null int64\n",
      "review_scores_rating      57389 non-null float64\n",
      "thumbnail_url             65895 non-null object\n",
      "zipcode                   73529 non-null object\n",
      "bedrooms                  74020 non-null float64\n",
      "beds                      73980 non-null float64\n",
      "dtypes: bool(1), float64(7), int64(3), object(18)\n",
      "memory usage: 15.9+ MB\n"
     ]
    }
   ],
   "source": [
    "listings.info()"
   ]
  },
  {
   "cell_type": "markdown",
   "metadata": {},
   "source": [
    "There were no detailed descriptions given along with the dataset other than for id and log_price. Thus we need to do some EDA to identify the different features.\n",
    " We observe that, the following columns need to be changed to the correect data type.\n",
    "- id to string\n",
    "- first_review, host_since, last_review to date.\n",
    "- instant_bookable, host_identity_verified, host_has_profie_pictore to Number encoded values.\n",
    "- host_response_rate to a numerical column.\n",
    "\n",
    "Some of the things to check\n",
    "- Distributions of the variables\n",
    "- Whether there are duplicates in the zip code\n",
    "- Clusters in the data\n",
    "- There are some facilities with the same names and same descriptions. \n"
   ]
  },
  {
   "cell_type": "code",
   "execution_count": 824,
   "metadata": {},
   "outputs": [
    {
     "data": {
      "text/html": [
       "<div>\n",
       "<style scoped>\n",
       "    .dataframe tbody tr th:only-of-type {\n",
       "        vertical-align: middle;\n",
       "    }\n",
       "\n",
       "    .dataframe tbody tr th {\n",
       "        vertical-align: top;\n",
       "    }\n",
       "\n",
       "    .dataframe thead th {\n",
       "        text-align: right;\n",
       "    }\n",
       "</style>\n",
       "<table border=\"1\" class=\"dataframe\">\n",
       "  <thead>\n",
       "    <tr style=\"text-align: right;\">\n",
       "      <th></th>\n",
       "      <th>id</th>\n",
       "      <th>log_price</th>\n",
       "      <th>accommodates</th>\n",
       "      <th>bathrooms</th>\n",
       "      <th>latitude</th>\n",
       "      <th>longitude</th>\n",
       "      <th>number_of_reviews</th>\n",
       "      <th>review_scores_rating</th>\n",
       "      <th>bedrooms</th>\n",
       "      <th>beds</th>\n",
       "    </tr>\n",
       "  </thead>\n",
       "  <tbody>\n",
       "    <tr>\n",
       "      <th>count</th>\n",
       "      <td>7.411100e+04</td>\n",
       "      <td>74111.000000</td>\n",
       "      <td>74111.000000</td>\n",
       "      <td>73911.000000</td>\n",
       "      <td>74111.000000</td>\n",
       "      <td>74111.000000</td>\n",
       "      <td>74111.000000</td>\n",
       "      <td>57389.000000</td>\n",
       "      <td>74020.000000</td>\n",
       "      <td>73980.000000</td>\n",
       "    </tr>\n",
       "    <tr>\n",
       "      <th>mean</th>\n",
       "      <td>1.126662e+07</td>\n",
       "      <td>4.782069</td>\n",
       "      <td>3.155146</td>\n",
       "      <td>1.235263</td>\n",
       "      <td>38.445958</td>\n",
       "      <td>-92.397525</td>\n",
       "      <td>20.900568</td>\n",
       "      <td>94.067365</td>\n",
       "      <td>1.265793</td>\n",
       "      <td>1.710868</td>\n",
       "    </tr>\n",
       "    <tr>\n",
       "      <th>std</th>\n",
       "      <td>6.081735e+06</td>\n",
       "      <td>0.717394</td>\n",
       "      <td>2.153589</td>\n",
       "      <td>0.582044</td>\n",
       "      <td>3.080167</td>\n",
       "      <td>21.705322</td>\n",
       "      <td>37.828641</td>\n",
       "      <td>7.836556</td>\n",
       "      <td>0.852143</td>\n",
       "      <td>1.254142</td>\n",
       "    </tr>\n",
       "    <tr>\n",
       "      <th>min</th>\n",
       "      <td>3.440000e+02</td>\n",
       "      <td>0.000000</td>\n",
       "      <td>1.000000</td>\n",
       "      <td>0.000000</td>\n",
       "      <td>33.338905</td>\n",
       "      <td>-122.511500</td>\n",
       "      <td>0.000000</td>\n",
       "      <td>20.000000</td>\n",
       "      <td>0.000000</td>\n",
       "      <td>0.000000</td>\n",
       "    </tr>\n",
       "    <tr>\n",
       "      <th>25%</th>\n",
       "      <td>6.261964e+06</td>\n",
       "      <td>4.317488</td>\n",
       "      <td>2.000000</td>\n",
       "      <td>1.000000</td>\n",
       "      <td>34.127908</td>\n",
       "      <td>-118.342374</td>\n",
       "      <td>1.000000</td>\n",
       "      <td>92.000000</td>\n",
       "      <td>1.000000</td>\n",
       "      <td>1.000000</td>\n",
       "    </tr>\n",
       "    <tr>\n",
       "      <th>50%</th>\n",
       "      <td>1.225415e+07</td>\n",
       "      <td>4.709530</td>\n",
       "      <td>2.000000</td>\n",
       "      <td>1.000000</td>\n",
       "      <td>40.662138</td>\n",
       "      <td>-76.996965</td>\n",
       "      <td>6.000000</td>\n",
       "      <td>96.000000</td>\n",
       "      <td>1.000000</td>\n",
       "      <td>1.000000</td>\n",
       "    </tr>\n",
       "    <tr>\n",
       "      <th>75%</th>\n",
       "      <td>1.640226e+07</td>\n",
       "      <td>5.220356</td>\n",
       "      <td>4.000000</td>\n",
       "      <td>1.000000</td>\n",
       "      <td>40.746096</td>\n",
       "      <td>-73.954660</td>\n",
       "      <td>23.000000</td>\n",
       "      <td>100.000000</td>\n",
       "      <td>1.000000</td>\n",
       "      <td>2.000000</td>\n",
       "    </tr>\n",
       "    <tr>\n",
       "      <th>max</th>\n",
       "      <td>2.123090e+07</td>\n",
       "      <td>7.600402</td>\n",
       "      <td>16.000000</td>\n",
       "      <td>8.000000</td>\n",
       "      <td>42.390437</td>\n",
       "      <td>-70.985047</td>\n",
       "      <td>605.000000</td>\n",
       "      <td>100.000000</td>\n",
       "      <td>10.000000</td>\n",
       "      <td>18.000000</td>\n",
       "    </tr>\n",
       "  </tbody>\n",
       "</table>\n",
       "</div>"
      ],
      "text/plain": [
       "                 id     log_price  accommodates     bathrooms      latitude  \\\n",
       "count  7.411100e+04  74111.000000  74111.000000  73911.000000  74111.000000   \n",
       "mean   1.126662e+07      4.782069      3.155146      1.235263     38.445958   \n",
       "std    6.081735e+06      0.717394      2.153589      0.582044      3.080167   \n",
       "min    3.440000e+02      0.000000      1.000000      0.000000     33.338905   \n",
       "25%    6.261964e+06      4.317488      2.000000      1.000000     34.127908   \n",
       "50%    1.225415e+07      4.709530      2.000000      1.000000     40.662138   \n",
       "75%    1.640226e+07      5.220356      4.000000      1.000000     40.746096   \n",
       "max    2.123090e+07      7.600402     16.000000      8.000000     42.390437   \n",
       "\n",
       "          longitude  number_of_reviews  review_scores_rating      bedrooms  \\\n",
       "count  74111.000000       74111.000000          57389.000000  74020.000000   \n",
       "mean     -92.397525          20.900568             94.067365      1.265793   \n",
       "std       21.705322          37.828641              7.836556      0.852143   \n",
       "min     -122.511500           0.000000             20.000000      0.000000   \n",
       "25%     -118.342374           1.000000             92.000000      1.000000   \n",
       "50%      -76.996965           6.000000             96.000000      1.000000   \n",
       "75%      -73.954660          23.000000            100.000000      1.000000   \n",
       "max      -70.985047         605.000000            100.000000     10.000000   \n",
       "\n",
       "               beds  \n",
       "count  73980.000000  \n",
       "mean       1.710868  \n",
       "std        1.254142  \n",
       "min        0.000000  \n",
       "25%        1.000000  \n",
       "50%        1.000000  \n",
       "75%        2.000000  \n",
       "max       18.000000  "
      ]
     },
     "execution_count": 824,
     "metadata": {},
     "output_type": "execute_result"
    }
   ],
   "source": [
    "# Check the statistical distribution for Numerical Columns\n",
    "listings.describe()"
   ]
  },
  {
   "cell_type": "code",
   "execution_count": 825,
   "metadata": {},
   "outputs": [
    {
     "data": {
      "text/html": [
       "<div>\n",
       "<style scoped>\n",
       "    .dataframe tbody tr th:only-of-type {\n",
       "        vertical-align: middle;\n",
       "    }\n",
       "\n",
       "    .dataframe tbody tr th {\n",
       "        vertical-align: top;\n",
       "    }\n",
       "\n",
       "    .dataframe thead th {\n",
       "        text-align: right;\n",
       "    }\n",
       "</style>\n",
       "<table border=\"1\" class=\"dataframe\">\n",
       "  <thead>\n",
       "    <tr style=\"text-align: right;\">\n",
       "      <th></th>\n",
       "      <th>property_type</th>\n",
       "      <th>room_type</th>\n",
       "      <th>amenities</th>\n",
       "      <th>bed_type</th>\n",
       "      <th>cancellation_policy</th>\n",
       "      <th>city</th>\n",
       "      <th>description</th>\n",
       "      <th>first_review</th>\n",
       "      <th>host_has_profile_pic</th>\n",
       "      <th>host_identity_verified</th>\n",
       "      <th>host_response_rate</th>\n",
       "      <th>host_since</th>\n",
       "      <th>instant_bookable</th>\n",
       "      <th>last_review</th>\n",
       "      <th>name</th>\n",
       "      <th>Neighbourhood</th>\n",
       "      <th>thumbnail_url</th>\n",
       "      <th>zipcode</th>\n",
       "    </tr>\n",
       "  </thead>\n",
       "  <tbody>\n",
       "    <tr>\n",
       "      <th>count</th>\n",
       "      <td>74111</td>\n",
       "      <td>74111</td>\n",
       "      <td>74111</td>\n",
       "      <td>74111</td>\n",
       "      <td>74111</td>\n",
       "      <td>74111</td>\n",
       "      <td>74111</td>\n",
       "      <td>58247</td>\n",
       "      <td>73923</td>\n",
       "      <td>73923</td>\n",
       "      <td>55812</td>\n",
       "      <td>73923</td>\n",
       "      <td>74111</td>\n",
       "      <td>58284</td>\n",
       "      <td>74111</td>\n",
       "      <td>74111</td>\n",
       "      <td>65895</td>\n",
       "      <td>73529</td>\n",
       "    </tr>\n",
       "    <tr>\n",
       "      <th>unique</th>\n",
       "      <td>35</td>\n",
       "      <td>3</td>\n",
       "      <td>67122</td>\n",
       "      <td>5</td>\n",
       "      <td>5</td>\n",
       "      <td>6</td>\n",
       "      <td>73472</td>\n",
       "      <td>2554</td>\n",
       "      <td>2</td>\n",
       "      <td>2</td>\n",
       "      <td>80</td>\n",
       "      <td>3087</td>\n",
       "      <td>2</td>\n",
       "      <td>1371</td>\n",
       "      <td>73350</td>\n",
       "      <td>1722</td>\n",
       "      <td>65883</td>\n",
       "      <td>673</td>\n",
       "    </tr>\n",
       "    <tr>\n",
       "      <th>top</th>\n",
       "      <td>Apartment</td>\n",
       "      <td>Entire home/apt</td>\n",
       "      <td>{}</td>\n",
       "      <td>Real Bed</td>\n",
       "      <td>strict</td>\n",
       "      <td>NYC</td>\n",
       "      <td>Hello, I've been running guest house for Korea...</td>\n",
       "      <td>1/1/2017</td>\n",
       "      <td>t</td>\n",
       "      <td>t</td>\n",
       "      <td>100%</td>\n",
       "      <td>3/30/2015</td>\n",
       "      <td>f</td>\n",
       "      <td>4/30/2017</td>\n",
       "      <td>#NAME?</td>\n",
       "      <td>Williamsburg</td>\n",
       "      <td>https://a0.muscache.com/im/pictures/70087089/b...</td>\n",
       "      <td>11211</td>\n",
       "    </tr>\n",
       "    <tr>\n",
       "      <th>freq</th>\n",
       "      <td>49003</td>\n",
       "      <td>41310</td>\n",
       "      <td>586</td>\n",
       "      <td>72028</td>\n",
       "      <td>32374</td>\n",
       "      <td>32349</td>\n",
       "      <td>8</td>\n",
       "      <td>293</td>\n",
       "      <td>73697</td>\n",
       "      <td>49748</td>\n",
       "      <td>43254</td>\n",
       "      <td>246</td>\n",
       "      <td>54660</td>\n",
       "      <td>1344</td>\n",
       "      <td>10</td>\n",
       "      <td>2862</td>\n",
       "      <td>3</td>\n",
       "      <td>1618</td>\n",
       "    </tr>\n",
       "  </tbody>\n",
       "</table>\n",
       "</div>"
      ],
      "text/plain": [
       "       property_type        room_type amenities  bed_type cancellation_policy  \\\n",
       "count          74111            74111     74111     74111               74111   \n",
       "unique            35                3     67122         5                   5   \n",
       "top        Apartment  Entire home/apt        {}  Real Bed              strict   \n",
       "freq           49003            41310       586     72028               32374   \n",
       "\n",
       "         city                                        description first_review  \\\n",
       "count   74111                                              74111        58247   \n",
       "unique      6                                              73472         2554   \n",
       "top       NYC  Hello, I've been running guest house for Korea...     1/1/2017   \n",
       "freq    32349                                                  8          293   \n",
       "\n",
       "       host_has_profile_pic host_identity_verified host_response_rate  \\\n",
       "count                 73923                  73923              55812   \n",
       "unique                    2                      2                 80   \n",
       "top                       t                      t               100%   \n",
       "freq                  73697                  49748              43254   \n",
       "\n",
       "       host_since instant_bookable last_review    name Neighbourhood  \\\n",
       "count       73923            74111       58284   74111         74111   \n",
       "unique       3087                2        1371   73350          1722   \n",
       "top     3/30/2015                f   4/30/2017  #NAME?  Williamsburg   \n",
       "freq          246            54660        1344      10          2862   \n",
       "\n",
       "                                            thumbnail_url zipcode  \n",
       "count                                               65895   73529  \n",
       "unique                                              65883     673  \n",
       "top     https://a0.muscache.com/im/pictures/70087089/b...   11211  \n",
       "freq                                                    3    1618  "
      ]
     },
     "execution_count": 825,
     "metadata": {},
     "output_type": "execute_result"
    }
   ],
   "source": [
    "# Check the distribution of Categorical and Text columns\n",
    "listings.describe(include = [\"O\"])"
   ]
  },
  {
   "cell_type": "code",
   "execution_count": 826,
   "metadata": {},
   "outputs": [
    {
     "data": {
      "text/plain": [
       "Index(['id', 'log_price', 'property_type', 'room_type', 'amenities',\n",
       "       'accommodates', 'bathrooms', 'bed_type', 'cancellation_policy',\n",
       "       'cleaning_fee', 'city', 'description', 'first_review',\n",
       "       'host_has_profile_pic', 'host_identity_verified', 'host_response_rate',\n",
       "       'host_since', 'instant_bookable', 'last_review', 'latitude',\n",
       "       'longitude', 'name', 'Neighbourhood', 'number_of_reviews',\n",
       "       'review_scores_rating', 'thumbnail_url', 'zipcode', 'bedrooms', 'beds'],\n",
       "      dtype='object')"
      ]
     },
     "execution_count": 826,
     "metadata": {},
     "output_type": "execute_result"
    }
   ],
   "source": [
    "listings.columns"
   ]
  },
  {
   "cell_type": "code",
   "execution_count": 827,
   "metadata": {},
   "outputs": [
    {
     "data": {
      "text/plain": [
       "[Apartment             49003\n",
       " House                 16511\n",
       " Condominium            2658\n",
       " Townhouse              1692\n",
       " Loft                   1244\n",
       " Other                   607\n",
       " Guesthouse              498\n",
       " Bed & Breakfast         462\n",
       " Bungalow                366\n",
       " Villa                   179\n",
       " Dorm                    142\n",
       " Guest suite             123\n",
       " Camper/RV                94\n",
       " Timeshare                77\n",
       " Cabin                    72\n",
       " In-law                   71\n",
       " Hostel                   70\n",
       " Boutique hotel           69\n",
       " Boat                     65\n",
       " Serviced apartment       21\n",
       " Tent                     18\n",
       " Castle                   13\n",
       " Vacation home            11\n",
       " Yurt                      9\n",
       " Hut                       8\n",
       " Treehouse                 7\n",
       " Chalet                    6\n",
       " Earth House               4\n",
       " Tipi                      3\n",
       " Cave                      2\n",
       " Train                     2\n",
       " Island                    1\n",
       " Parking Space             1\n",
       " Casa particular           1\n",
       " Lighthouse                1\n",
       " Name: property_type, dtype: int64, Entire home/apt    41310\n",
       " Private room       30638\n",
       " Shared room         2163\n",
       " Name: room_type, dtype: int64, Real Bed         72028\n",
       " Futon              753\n",
       " Pull-out Sofa      585\n",
       " Airbed             477\n",
       " Couch              268\n",
       " Name: bed_type, dtype: int64, strict             32374\n",
       " flexible           22545\n",
       " moderate           19063\n",
       " super_strict_30      112\n",
       " super_strict_60       17\n",
       " Name: cancellation_policy, dtype: int64, True     54403\n",
       " False    19708\n",
       " Name: cleaning_fee, dtype: int64, NYC        32349\n",
       " LA         22453\n",
       " SF          6434\n",
       " DC          5688\n",
       " Chicago     3719\n",
       " Boston      3468\n",
       " Name: city, dtype: int64, t    73697\n",
       " f      226\n",
       " Name: host_has_profile_pic, dtype: int64, t    49748\n",
       " f    24175\n",
       " Name: host_identity_verified, dtype: int64, f    54660\n",
       " t    19451\n",
       " Name: instant_bookable, dtype: int64]"
      ]
     },
     "execution_count": 827,
     "metadata": {},
     "output_type": "execute_result"
    }
   ],
   "source": [
    "lower_dim_categories = ['property_type', 'room_type', 'bed_type', 'cancellation_policy',\n",
    "       'cleaning_fee', 'city', 'host_has_profile_pic', 'host_identity_verified', 'instant_bookable']\n",
    "[listings[c].value_counts() for c in lower_dim_categories]"
   ]
  },
  {
   "cell_type": "code",
   "execution_count": 828,
   "metadata": {},
   "outputs": [],
   "source": [
    "def pp_fix_dtypes(df):\n",
    "    #Correct the types of the data where required\n",
    "    df = df.assign(\n",
    "        id = df.id.astype(str),\n",
    "        first_review = pd.to_datetime(df.first_review),\n",
    "        last_review = pd.to_datetime(df.last_review),\n",
    "        host_since = pd.to_datetime(df.host_since)\n",
    "    )\n",
    "    return df\n",
    "    "
   ]
  },
  {
   "cell_type": "code",
   "execution_count": 829,
   "metadata": {},
   "outputs": [],
   "source": [
    "listings = pp_fix_dtypes(listings)"
   ]
  },
  {
   "cell_type": "markdown",
   "metadata": {},
   "source": [
    "### Functions for handling Missing Values"
   ]
  },
  {
   "cell_type": "code",
   "execution_count": 830,
   "metadata": {},
   "outputs": [],
   "source": [
    "def get_max_date(df):\n",
    "    most_recent_date = max(\n",
    "            max(df.host_since),\n",
    "            max(df.first_review),\n",
    "            max(df.last_review)\n",
    "        )\n",
    "    return most_recent_date"
   ]
  },
  {
   "cell_type": "code",
   "execution_count": 831,
   "metadata": {},
   "outputs": [],
   "source": [
    "most_recent_date = get_max_date(listings)"
   ]
  },
  {
   "cell_type": "code",
   "execution_count": 832,
   "metadata": {},
   "outputs": [
    {
     "data": {
      "text/plain": [
       "host_response_rate        18299\n",
       "review_scores_rating      16722\n",
       "first_review              15864\n",
       "last_review               15827\n",
       "thumbnail_url              8216\n",
       "zipcode                     582\n",
       "bathrooms                   200\n",
       "host_identity_verified      188\n",
       "host_has_profile_pic        188\n",
       "host_since                  188\n",
       "beds                        131\n",
       "bedrooms                     91\n",
       "instant_bookable              0\n",
       "bed_type                      0\n",
       "log_price                     0\n",
       "property_type                 0\n",
       "room_type                     0\n",
       "amenities                     0\n",
       "accommodates                  0\n",
       "number_of_reviews             0\n",
       "cancellation_policy           0\n",
       "latitude                      0\n",
       "cleaning_fee                  0\n",
       "city                          0\n",
       "description                   0\n",
       "Neighbourhood                 0\n",
       "name                          0\n",
       "longitude                     0\n",
       "id                            0\n",
       "dtype: int64"
      ]
     },
     "execution_count": 832,
     "metadata": {},
     "output_type": "execute_result"
    }
   ],
   "source": [
    "listings.isnull().sum().sort_values(ascending = False)"
   ]
  },
  {
   "cell_type": "code",
   "execution_count": 833,
   "metadata": {},
   "outputs": [
    {
     "data": {
      "text/html": [
       "<div>\n",
       "<style scoped>\n",
       "    .dataframe tbody tr th:only-of-type {\n",
       "        vertical-align: middle;\n",
       "    }\n",
       "\n",
       "    .dataframe tbody tr th {\n",
       "        vertical-align: top;\n",
       "    }\n",
       "\n",
       "    .dataframe thead th {\n",
       "        text-align: right;\n",
       "    }\n",
       "</style>\n",
       "<table border=\"1\" class=\"dataframe\">\n",
       "  <thead>\n",
       "    <tr style=\"text-align: right;\">\n",
       "      <th></th>\n",
       "      <th>host_since</th>\n",
       "      <th>first_review</th>\n",
       "      <th>last_review</th>\n",
       "    </tr>\n",
       "  </thead>\n",
       "  <tbody>\n",
       "    <tr>\n",
       "      <th>count</th>\n",
       "      <td>73923</td>\n",
       "      <td>58247</td>\n",
       "      <td>58284</td>\n",
       "    </tr>\n",
       "    <tr>\n",
       "      <th>unique</th>\n",
       "      <td>3087</td>\n",
       "      <td>2554</td>\n",
       "      <td>1371</td>\n",
       "    </tr>\n",
       "    <tr>\n",
       "      <th>top</th>\n",
       "      <td>2015-03-30 00:00:00</td>\n",
       "      <td>2017-01-01 00:00:00</td>\n",
       "      <td>2017-04-30 00:00:00</td>\n",
       "    </tr>\n",
       "    <tr>\n",
       "      <th>freq</th>\n",
       "      <td>246</td>\n",
       "      <td>293</td>\n",
       "      <td>1344</td>\n",
       "    </tr>\n",
       "    <tr>\n",
       "      <th>first</th>\n",
       "      <td>2008-03-03 00:00:00</td>\n",
       "      <td>2008-11-17 00:00:00</td>\n",
       "      <td>2009-01-21 00:00:00</td>\n",
       "    </tr>\n",
       "    <tr>\n",
       "      <th>last</th>\n",
       "      <td>2017-10-04 00:00:00</td>\n",
       "      <td>2017-10-05 00:00:00</td>\n",
       "      <td>2017-10-05 00:00:00</td>\n",
       "    </tr>\n",
       "  </tbody>\n",
       "</table>\n",
       "</div>"
      ],
      "text/plain": [
       "                 host_since         first_review          last_review\n",
       "count                 73923                58247                58284\n",
       "unique                 3087                 2554                 1371\n",
       "top     2015-03-30 00:00:00  2017-01-01 00:00:00  2017-04-30 00:00:00\n",
       "freq                    246                  293                 1344\n",
       "first   2008-03-03 00:00:00  2008-11-17 00:00:00  2009-01-21 00:00:00\n",
       "last    2017-10-04 00:00:00  2017-10-05 00:00:00  2017-10-05 00:00:00"
      ]
     },
     "execution_count": 833,
     "metadata": {},
     "output_type": "execute_result"
    }
   ],
   "source": [
    "listings[['host_since','first_review','last_review']].describe()"
   ]
  },
  {
   "cell_type": "markdown",
   "metadata": {},
   "source": [
    "**Notes for handling Missing Values**\n",
    "\n",
    "host_since:\n",
    "- Take the date of first_review where avilable.\n",
    "- In some records, the date of first review is before the host_date. It is possible that \n",
    "    - the listing was changed at a later date - Update first_review date to host_date\n",
    "    - the dates were read in the wrong order - Swap the first_review_date and host_date"
   ]
  },
  {
   "cell_type": "code",
   "execution_count": 834,
   "metadata": {},
   "outputs": [],
   "source": [
    "def handle_missing(df):\n",
    "    temp_df = df.copy()\n",
    "    \n",
    "    # Fill the Host Since column with the date of first review if available\n",
    "    temp_df.host_since = df.host_since.fillna(df.first_review)\n",
    "    \n",
    "    # Fill the Thumbnails Column and recode it \n",
    "    temp_df.thumbnail_url.fillna(0, inplace=True)\n",
    "    temp_df.loc[temp_df.thumbnail_url != 0, ['thumbnail_url']] = 1\n",
    "    \n",
    "    # Fill missing values for some columns with 0\n",
    "    temp_df.bedrooms.fillna(0, inplace = True)\n",
    "    temp_df.bathrooms.fillna(0, inplace = True)\n",
    "    temp_df.beds.fillna(0, inplace = True)\n",
    "    \n",
    "    # Drop the rows with missing values for particular  columns\n",
    "    temp_df.dropna(subset = ['host_since','host_has_profile_pic'], inplace = True)\n",
    "    \n",
    "    # Drop the columns that have a lot of missing values and are not useful for analysis\n",
    "    #temp_df.drop(['first_review','last_review','zipcode'], axis = 1, inplace = True)\n",
    "    \n",
    "    return temp_df"
   ]
  },
  {
   "cell_type": "code",
   "execution_count": 835,
   "metadata": {},
   "outputs": [
    {
     "data": {
      "text/plain": [
       "host_response_rate        18111\n",
       "review_scores_rating      16675\n",
       "first_review              15822\n",
       "last_review               15791\n",
       "zipcode                     580\n",
       "city                          0\n",
       "cleaning_fee                  0\n",
       "cancellation_policy           0\n",
       "bed_type                      0\n",
       "beds                          0\n",
       "bathrooms                     0\n",
       "description                   0\n",
       "amenities                     0\n",
       "room_type                     0\n",
       "property_type                 0\n",
       "log_price                     0\n",
       "accommodates                  0\n",
       "host_identity_verified        0\n",
       "host_has_profile_pic          0\n",
       "bedrooms                      0\n",
       "host_since                    0\n",
       "instant_bookable              0\n",
       "latitude                      0\n",
       "longitude                     0\n",
       "name                          0\n",
       "Neighbourhood                 0\n",
       "number_of_reviews             0\n",
       "thumbnail_url                 0\n",
       "id                            0\n",
       "dtype: int64"
      ]
     },
     "execution_count": 835,
     "metadata": {},
     "output_type": "execute_result"
    }
   ],
   "source": [
    "listings = handle_missing(listings)\n",
    "listings.isnull().sum().sort_values(ascending = False)"
   ]
  },
  {
   "cell_type": "markdown",
   "metadata": {},
   "source": [
    "### Data Preprocessing"
   ]
  },
  {
   "cell_type": "markdown",
   "metadata": {},
   "source": [
    "**Function for calculating distance to attractions**\n",
    "\n",
    "We have the attractions.csv file that contains the lat long of top 3 attractions in each of the 6 states. We us this to calculate the distance from the listing to each of those locations."
   ]
  },
  {
   "cell_type": "code",
   "execution_count": 839,
   "metadata": {},
   "outputs": [],
   "source": [
    "#https://stackoverflow.com/questions/29545704/fast-haversine-approximation-python-pandas\n",
    "def haversine_np(lat1, lon1, lat2, lon2):\n",
    "    \"\"\"\n",
    "    Calculate the great circle distance between two points\n",
    "    on the earth (specified in decimal degrees)\n",
    "\n",
    "    All args must be of equal length.    \n",
    "\n",
    "    \"\"\"\n",
    "    lon1, lat1, lon2, lat2 = map(np.radians, [lon1, lat1, lon2, lat2])\n",
    "\n",
    "    dlon = lon2 - lon1\n",
    "    dlat = lat2 - lat1\n",
    "\n",
    "    a = np.sin(dlat/2.0)**2 + np.cos(lat1) * np.cos(lat2) * np.sin(dlon/2.0)**2\n",
    "\n",
    "    c = 2 * np.arcsin(np.sqrt(a))\n",
    "    km = 6372.8 * c\n",
    "    return km"
   ]
  },
  {
   "cell_type": "code",
   "execution_count": 840,
   "metadata": {},
   "outputs": [
    {
     "name": "stdout",
     "output_type": "stream",
     "text": [
      "<class 'pandas.core.frame.DataFrame'>\n",
      "RangeIndex: 6 entries, 0 to 5\n",
      "Data columns (total 10 columns):\n",
      "city                6 non-null object\n",
      "attraction1         6 non-null object\n",
      "attraction1_lat     6 non-null float64\n",
      "attraction1_long    6 non-null float64\n",
      "attraction2         6 non-null object\n",
      "attraction2_lat     6 non-null float64\n",
      "attraction2_long    6 non-null float64\n",
      "attraction3         6 non-null object\n",
      "attraction3_lat     6 non-null float64\n",
      "attraction3_long    6 non-null float64\n",
      "dtypes: float64(6), object(4)\n",
      "memory usage: 560.0+ bytes\n"
     ]
    }
   ],
   "source": [
    "# Check the structure of the attractions data\n",
    "attractions.info()"
   ]
  },
  {
   "cell_type": "markdown",
   "metadata": {},
   "source": [
    "**Function to calculate distance to attractions given the LatLong**"
   ]
  },
  {
   "cell_type": "code",
   "execution_count": 841,
   "metadata": {},
   "outputs": [
    {
     "data": {
      "text/html": [
       "<div>\n",
       "<style scoped>\n",
       "    .dataframe tbody tr th:only-of-type {\n",
       "        vertical-align: middle;\n",
       "    }\n",
       "\n",
       "    .dataframe tbody tr th {\n",
       "        vertical-align: top;\n",
       "    }\n",
       "\n",
       "    .dataframe thead th {\n",
       "        text-align: right;\n",
       "    }\n",
       "</style>\n",
       "<table border=\"1\" class=\"dataframe\">\n",
       "  <thead>\n",
       "    <tr style=\"text-align: right;\">\n",
       "      <th></th>\n",
       "      <th>id</th>\n",
       "      <th>log_price</th>\n",
       "      <th>property_type</th>\n",
       "      <th>room_type</th>\n",
       "      <th>amenities</th>\n",
       "      <th>accommodates</th>\n",
       "      <th>bathrooms</th>\n",
       "      <th>bed_type</th>\n",
       "      <th>cancellation_policy</th>\n",
       "      <th>cleaning_fee</th>\n",
       "      <th>...</th>\n",
       "      <th>Neighbourhood</th>\n",
       "      <th>number_of_reviews</th>\n",
       "      <th>review_scores_rating</th>\n",
       "      <th>thumbnail_url</th>\n",
       "      <th>zipcode</th>\n",
       "      <th>bedrooms</th>\n",
       "      <th>beds</th>\n",
       "      <th>dist_to_attr1</th>\n",
       "      <th>dist_to_attr2</th>\n",
       "      <th>dist_to_attr3</th>\n",
       "    </tr>\n",
       "  </thead>\n",
       "  <tbody>\n",
       "    <tr>\n",
       "      <th>0</th>\n",
       "      <td>6901257</td>\n",
       "      <td>5.010635</td>\n",
       "      <td>Apartment</td>\n",
       "      <td>Entire home/apt</td>\n",
       "      <td>{\"Wireless Internet\",\"Air conditioning\",Kitche...</td>\n",
       "      <td>3</td>\n",
       "      <td>1.0</td>\n",
       "      <td>Real Bed</td>\n",
       "      <td>strict</td>\n",
       "      <td>True</td>\n",
       "      <td>...</td>\n",
       "      <td>Brooklyn Heights</td>\n",
       "      <td>2</td>\n",
       "      <td>100.0</td>\n",
       "      <td>1</td>\n",
       "      <td>11201</td>\n",
       "      <td>1.0</td>\n",
       "      <td>1.0</td>\n",
       "      <td>4.533604</td>\n",
       "      <td>9.858104</td>\n",
       "      <td>6.974862</td>\n",
       "    </tr>\n",
       "    <tr>\n",
       "      <th>1</th>\n",
       "      <td>6304928</td>\n",
       "      <td>5.129899</td>\n",
       "      <td>Apartment</td>\n",
       "      <td>Entire home/apt</td>\n",
       "      <td>{\"Wireless Internet\",\"Air conditioning\",Kitche...</td>\n",
       "      <td>7</td>\n",
       "      <td>1.0</td>\n",
       "      <td>Real Bed</td>\n",
       "      <td>strict</td>\n",
       "      <td>True</td>\n",
       "      <td>...</td>\n",
       "      <td>Hell's Kitchen</td>\n",
       "      <td>6</td>\n",
       "      <td>93.0</td>\n",
       "      <td>1</td>\n",
       "      <td>10019</td>\n",
       "      <td>3.0</td>\n",
       "      <td>3.0</td>\n",
       "      <td>9.748908</td>\n",
       "      <td>2.729491</td>\n",
       "      <td>0.878994</td>\n",
       "    </tr>\n",
       "    <tr>\n",
       "      <th>2</th>\n",
       "      <td>7919400</td>\n",
       "      <td>4.976734</td>\n",
       "      <td>Apartment</td>\n",
       "      <td>Entire home/apt</td>\n",
       "      <td>{TV,\"Cable TV\",\"Wireless Internet\",\"Air condit...</td>\n",
       "      <td>5</td>\n",
       "      <td>1.0</td>\n",
       "      <td>Real Bed</td>\n",
       "      <td>moderate</td>\n",
       "      <td>True</td>\n",
       "      <td>...</td>\n",
       "      <td>Harlem</td>\n",
       "      <td>10</td>\n",
       "      <td>92.0</td>\n",
       "      <td>1</td>\n",
       "      <td>10027</td>\n",
       "      <td>1.0</td>\n",
       "      <td>3.0</td>\n",
       "      <td>15.715851</td>\n",
       "      <td>3.344257</td>\n",
       "      <td>6.450707</td>\n",
       "    </tr>\n",
       "    <tr>\n",
       "      <th>3</th>\n",
       "      <td>13418779</td>\n",
       "      <td>6.620073</td>\n",
       "      <td>House</td>\n",
       "      <td>Entire home/apt</td>\n",
       "      <td>{TV,\"Cable TV\",Internet,\"Wireless Internet\",Ki...</td>\n",
       "      <td>4</td>\n",
       "      <td>1.0</td>\n",
       "      <td>Real Bed</td>\n",
       "      <td>flexible</td>\n",
       "      <td>True</td>\n",
       "      <td>...</td>\n",
       "      <td>Lower Haight</td>\n",
       "      <td>0</td>\n",
       "      <td>NaN</td>\n",
       "      <td>1</td>\n",
       "      <td>94117</td>\n",
       "      <td>2.0</td>\n",
       "      <td>2.0</td>\n",
       "      <td>6.724060</td>\n",
       "      <td>6.163671</td>\n",
       "      <td>4.509624</td>\n",
       "    </tr>\n",
       "    <tr>\n",
       "      <th>4</th>\n",
       "      <td>3808709</td>\n",
       "      <td>4.744932</td>\n",
       "      <td>Apartment</td>\n",
       "      <td>Entire home/apt</td>\n",
       "      <td>{TV,Internet,\"Wireless Internet\",\"Air conditio...</td>\n",
       "      <td>2</td>\n",
       "      <td>1.0</td>\n",
       "      <td>Real Bed</td>\n",
       "      <td>moderate</td>\n",
       "      <td>True</td>\n",
       "      <td>...</td>\n",
       "      <td>Columbia Heights</td>\n",
       "      <td>4</td>\n",
       "      <td>40.0</td>\n",
       "      <td>0</td>\n",
       "      <td>20009</td>\n",
       "      <td>0.0</td>\n",
       "      <td>1.0</td>\n",
       "      <td>3.110579</td>\n",
       "      <td>4.260263</td>\n",
       "      <td>4.061666</td>\n",
       "    </tr>\n",
       "  </tbody>\n",
       "</table>\n",
       "<p>5 rows × 32 columns</p>\n",
       "</div>"
      ],
      "text/plain": [
       "         id  log_price property_type        room_type  \\\n",
       "0   6901257   5.010635     Apartment  Entire home/apt   \n",
       "1   6304928   5.129899     Apartment  Entire home/apt   \n",
       "2   7919400   4.976734     Apartment  Entire home/apt   \n",
       "3  13418779   6.620073         House  Entire home/apt   \n",
       "4   3808709   4.744932     Apartment  Entire home/apt   \n",
       "\n",
       "                                           amenities  accommodates  bathrooms  \\\n",
       "0  {\"Wireless Internet\",\"Air conditioning\",Kitche...             3        1.0   \n",
       "1  {\"Wireless Internet\",\"Air conditioning\",Kitche...             7        1.0   \n",
       "2  {TV,\"Cable TV\",\"Wireless Internet\",\"Air condit...             5        1.0   \n",
       "3  {TV,\"Cable TV\",Internet,\"Wireless Internet\",Ki...             4        1.0   \n",
       "4  {TV,Internet,\"Wireless Internet\",\"Air conditio...             2        1.0   \n",
       "\n",
       "   bed_type cancellation_policy  cleaning_fee      ...        \\\n",
       "0  Real Bed              strict          True      ...         \n",
       "1  Real Bed              strict          True      ...         \n",
       "2  Real Bed            moderate          True      ...         \n",
       "3  Real Bed            flexible          True      ...         \n",
       "4  Real Bed            moderate          True      ...         \n",
       "\n",
       "      Neighbourhood number_of_reviews review_scores_rating thumbnail_url  \\\n",
       "0  Brooklyn Heights                 2                100.0             1   \n",
       "1    Hell's Kitchen                 6                 93.0             1   \n",
       "2            Harlem                10                 92.0             1   \n",
       "3      Lower Haight                 0                  NaN             1   \n",
       "4  Columbia Heights                 4                 40.0             0   \n",
       "\n",
       "  zipcode bedrooms beds dist_to_attr1 dist_to_attr2  dist_to_attr3  \n",
       "0   11201      1.0  1.0      4.533604      9.858104       6.974862  \n",
       "1   10019      3.0  3.0      9.748908      2.729491       0.878994  \n",
       "2   10027      1.0  3.0     15.715851      3.344257       6.450707  \n",
       "3   94117      2.0  2.0      6.724060      6.163671       4.509624  \n",
       "4   20009      0.0  1.0      3.110579      4.260263       4.061666  \n",
       "\n",
       "[5 rows x 32 columns]"
      ]
     },
     "execution_count": 841,
     "metadata": {},
     "output_type": "execute_result"
    }
   ],
   "source": [
    "def calc_dist_to_attractions(df):\n",
    "    df = pd.merge(df,attractions, on='city', how=\"left\", indicator=False)\n",
    "    df = df.assign(\n",
    "        dist_to_attr1 = haversine_np(df[\"attraction1_lat\"],df[\"attraction1_long\"],df[\"latitude\"],df[\"longitude\"]),\n",
    "        dist_to_attr2 = haversine_np(df[\"attraction2_lat\"],df[\"attraction2_long\"],df[\"latitude\"],df[\"longitude\"]),\n",
    "        dist_to_attr3 = haversine_np(df[\"attraction3_lat\"],df[\"attraction3_long\"],df[\"latitude\"],df[\"longitude\"])\n",
    "    )\n",
    "    df.drop([\"attraction1\",\"attraction2\",\"attraction3\", \"attraction1_lat\",\"attraction1_long\",\"attraction2_lat\",\"attraction2_long\",\"attraction3_lat\",\"attraction3_long\" ],axis = 1,inplace = True) \n",
    "    return df\n",
    "             \n",
    "listings = calc_dist_to_attractions(listings)   \n",
    "    \n",
    "listings.head()"
   ]
  },
  {
   "cell_type": "markdown",
   "metadata": {},
   "source": [
    "**Function to calculate distance to closest railway station given the LatLong**"
   ]
  },
  {
   "cell_type": "code",
   "execution_count": 842,
   "metadata": {},
   "outputs": [
    {
     "data": {
      "text/html": [
       "<div>\n",
       "<style scoped>\n",
       "    .dataframe tbody tr th:only-of-type {\n",
       "        vertical-align: middle;\n",
       "    }\n",
       "\n",
       "    .dataframe tbody tr th {\n",
       "        vertical-align: top;\n",
       "    }\n",
       "\n",
       "    .dataframe thead th {\n",
       "        text-align: right;\n",
       "    }\n",
       "</style>\n",
       "<table border=\"1\" class=\"dataframe\">\n",
       "  <thead>\n",
       "    <tr style=\"text-align: right;\">\n",
       "      <th></th>\n",
       "      <th>id</th>\n",
       "      <th>log_price</th>\n",
       "      <th>property_type</th>\n",
       "      <th>room_type</th>\n",
       "      <th>amenities</th>\n",
       "      <th>accommodates</th>\n",
       "      <th>bathrooms</th>\n",
       "      <th>bed_type</th>\n",
       "      <th>cancellation_policy</th>\n",
       "      <th>cleaning_fee</th>\n",
       "      <th>...</th>\n",
       "      <th>number_of_reviews</th>\n",
       "      <th>review_scores_rating</th>\n",
       "      <th>thumbnail_url</th>\n",
       "      <th>zipcode</th>\n",
       "      <th>bedrooms</th>\n",
       "      <th>beds</th>\n",
       "      <th>dist_to_attr1</th>\n",
       "      <th>dist_to_attr2</th>\n",
       "      <th>dist_to_attr3</th>\n",
       "      <th>dist_to_station</th>\n",
       "    </tr>\n",
       "  </thead>\n",
       "  <tbody>\n",
       "    <tr>\n",
       "      <th>0</th>\n",
       "      <td>6901257</td>\n",
       "      <td>5.010635</td>\n",
       "      <td>Apartment</td>\n",
       "      <td>Entire home/apt</td>\n",
       "      <td>{\"Wireless Internet\",\"Air conditioning\",Kitche...</td>\n",
       "      <td>3</td>\n",
       "      <td>1.0</td>\n",
       "      <td>Real Bed</td>\n",
       "      <td>strict</td>\n",
       "      <td>True</td>\n",
       "      <td>...</td>\n",
       "      <td>2</td>\n",
       "      <td>100.0</td>\n",
       "      <td>1</td>\n",
       "      <td>11201</td>\n",
       "      <td>1.0</td>\n",
       "      <td>1.0</td>\n",
       "      <td>4.533604</td>\n",
       "      <td>9.858104</td>\n",
       "      <td>6.974862</td>\n",
       "      <td>0.162282</td>\n",
       "    </tr>\n",
       "    <tr>\n",
       "      <th>1</th>\n",
       "      <td>6304928</td>\n",
       "      <td>5.129899</td>\n",
       "      <td>Apartment</td>\n",
       "      <td>Entire home/apt</td>\n",
       "      <td>{\"Wireless Internet\",\"Air conditioning\",Kitche...</td>\n",
       "      <td>7</td>\n",
       "      <td>1.0</td>\n",
       "      <td>Real Bed</td>\n",
       "      <td>strict</td>\n",
       "      <td>True</td>\n",
       "      <td>...</td>\n",
       "      <td>6</td>\n",
       "      <td>93.0</td>\n",
       "      <td>1</td>\n",
       "      <td>10019</td>\n",
       "      <td>3.0</td>\n",
       "      <td>3.0</td>\n",
       "      <td>9.748908</td>\n",
       "      <td>2.729491</td>\n",
       "      <td>0.878994</td>\n",
       "      <td>0.481606</td>\n",
       "    </tr>\n",
       "    <tr>\n",
       "      <th>2</th>\n",
       "      <td>7919400</td>\n",
       "      <td>4.976734</td>\n",
       "      <td>Apartment</td>\n",
       "      <td>Entire home/apt</td>\n",
       "      <td>{TV,\"Cable TV\",\"Wireless Internet\",\"Air condit...</td>\n",
       "      <td>5</td>\n",
       "      <td>1.0</td>\n",
       "      <td>Real Bed</td>\n",
       "      <td>moderate</td>\n",
       "      <td>True</td>\n",
       "      <td>...</td>\n",
       "      <td>10</td>\n",
       "      <td>92.0</td>\n",
       "      <td>1</td>\n",
       "      <td>10027</td>\n",
       "      <td>1.0</td>\n",
       "      <td>3.0</td>\n",
       "      <td>15.715851</td>\n",
       "      <td>3.344257</td>\n",
       "      <td>6.450707</td>\n",
       "      <td>0.151675</td>\n",
       "    </tr>\n",
       "    <tr>\n",
       "      <th>3</th>\n",
       "      <td>13418779</td>\n",
       "      <td>6.620073</td>\n",
       "      <td>House</td>\n",
       "      <td>Entire home/apt</td>\n",
       "      <td>{TV,\"Cable TV\",Internet,\"Wireless Internet\",Ki...</td>\n",
       "      <td>4</td>\n",
       "      <td>1.0</td>\n",
       "      <td>Real Bed</td>\n",
       "      <td>flexible</td>\n",
       "      <td>True</td>\n",
       "      <td>...</td>\n",
       "      <td>0</td>\n",
       "      <td>NaN</td>\n",
       "      <td>1</td>\n",
       "      <td>94117</td>\n",
       "      <td>2.0</td>\n",
       "      <td>2.0</td>\n",
       "      <td>6.724060</td>\n",
       "      <td>6.163671</td>\n",
       "      <td>4.509624</td>\n",
       "      <td>1.302130</td>\n",
       "    </tr>\n",
       "    <tr>\n",
       "      <th>4</th>\n",
       "      <td>3808709</td>\n",
       "      <td>4.744932</td>\n",
       "      <td>Apartment</td>\n",
       "      <td>Entire home/apt</td>\n",
       "      <td>{TV,Internet,\"Wireless Internet\",\"Air conditio...</td>\n",
       "      <td>2</td>\n",
       "      <td>1.0</td>\n",
       "      <td>Real Bed</td>\n",
       "      <td>moderate</td>\n",
       "      <td>True</td>\n",
       "      <td>...</td>\n",
       "      <td>4</td>\n",
       "      <td>40.0</td>\n",
       "      <td>0</td>\n",
       "      <td>20009</td>\n",
       "      <td>0.0</td>\n",
       "      <td>1.0</td>\n",
       "      <td>3.110579</td>\n",
       "      <td>4.260263</td>\n",
       "      <td>4.061666</td>\n",
       "      <td>0.373534</td>\n",
       "    </tr>\n",
       "  </tbody>\n",
       "</table>\n",
       "<p>5 rows × 33 columns</p>\n",
       "</div>"
      ],
      "text/plain": [
       "         id  log_price property_type        room_type  \\\n",
       "0   6901257   5.010635     Apartment  Entire home/apt   \n",
       "1   6304928   5.129899     Apartment  Entire home/apt   \n",
       "2   7919400   4.976734     Apartment  Entire home/apt   \n",
       "3  13418779   6.620073         House  Entire home/apt   \n",
       "4   3808709   4.744932     Apartment  Entire home/apt   \n",
       "\n",
       "                                           amenities  accommodates  bathrooms  \\\n",
       "0  {\"Wireless Internet\",\"Air conditioning\",Kitche...             3        1.0   \n",
       "1  {\"Wireless Internet\",\"Air conditioning\",Kitche...             7        1.0   \n",
       "2  {TV,\"Cable TV\",\"Wireless Internet\",\"Air condit...             5        1.0   \n",
       "3  {TV,\"Cable TV\",Internet,\"Wireless Internet\",Ki...             4        1.0   \n",
       "4  {TV,Internet,\"Wireless Internet\",\"Air conditio...             2        1.0   \n",
       "\n",
       "   bed_type cancellation_policy  cleaning_fee       ...         \\\n",
       "0  Real Bed              strict          True       ...          \n",
       "1  Real Bed              strict          True       ...          \n",
       "2  Real Bed            moderate          True       ...          \n",
       "3  Real Bed            flexible          True       ...          \n",
       "4  Real Bed            moderate          True       ...          \n",
       "\n",
       "  number_of_reviews review_scores_rating thumbnail_url zipcode bedrooms beds  \\\n",
       "0                 2                100.0             1   11201      1.0  1.0   \n",
       "1                 6                 93.0             1   10019      3.0  3.0   \n",
       "2                10                 92.0             1   10027      1.0  3.0   \n",
       "3                 0                  NaN             1   94117      2.0  2.0   \n",
       "4                 4                 40.0             0   20009      0.0  1.0   \n",
       "\n",
       "  dist_to_attr1 dist_to_attr2 dist_to_attr3  dist_to_station  \n",
       "0      4.533604      9.858104      6.974862         0.162282  \n",
       "1      9.748908      2.729491      0.878994         0.481606  \n",
       "2     15.715851      3.344257      6.450707         0.151675  \n",
       "3      6.724060      6.163671      4.509624         1.302130  \n",
       "4      3.110579      4.260263      4.061666         0.373534  \n",
       "\n",
       "[5 rows x 33 columns]"
      ]
     },
     "execution_count": 842,
     "metadata": {},
     "output_type": "execute_result"
    }
   ],
   "source": [
    "def calc_dist_to_closest_station(df):\n",
    "    \n",
    "    # Rename Columns in the stations dataset\n",
    "    stations.columns = ['city', 'station_name', 'station_lat', 'station_long']\n",
    "    \n",
    "    # join with selected columns from the listings dataset\n",
    "    df1 = df[['id','city','latitude','longitude']].merge(stations, on='city', how=\"inner\", indicator=False)\n",
    "    \n",
    "    # Calculate the distance and save to a new column\n",
    "    df1 = df1.assign(\n",
    "        dist_to_station = haversine_np(df1[\"station_lat\"],df1[\"station_long\"],df1[\"latitude\"],df1[\"longitude\"])\n",
    "    )\n",
    "    \n",
    "    \n",
    "    df2 = df1.sort_values(['id', 'dist_to_station']).drop_duplicates(['id'])\n",
    "    df1 = df.merge(df2[['id','dist_to_station']], on =\"id\", how = \"inner\", indicator = False)\n",
    "    return df1\n",
    "             \n",
    "temp = calc_dist_to_closest_station(listings)   \n",
    "    \n",
    "temp.head()"
   ]
  },
  {
   "cell_type": "markdown",
   "metadata": {},
   "source": [
    "**Function to preprocess the features**"
   ]
  },
  {
   "cell_type": "code",
   "execution_count": 843,
   "metadata": {},
   "outputs": [],
   "source": [
    "# Controls for the below function\n",
    "recode_features = True\n",
    "create_dummies = True"
   ]
  },
  {
   "cell_type": "code",
   "execution_count": 844,
   "metadata": {},
   "outputs": [],
   "source": [
    "# Function to Preprocess the Data\n",
    "def preprocess(df, test_data = False):\n",
    "    \n",
    "    global recode_features, create_dummies, most_recent_date\n",
    "    \n",
    "    temp_df = df.copy()\n",
    "    #Recode features where required\n",
    "    if recode_features == True:\n",
    "        temp_df = temp_df.replace(\n",
    "            {\n",
    "            'host_has_profile_pic': {'t': True, 'f': False},\n",
    "            'host_identity_verified': {'t': True, 'f': False},\n",
    "            'instant_bookable': {'t': True, 'f': False},\n",
    "            'cancellation_policy': {'super_strict_30':'strict','super_strict_60':'strict'}\n",
    "            }\n",
    "        )\n",
    "        recode_features = False\n",
    "    \n",
    "    # Create Dummies and Drop the original columns\n",
    "    ## For room_type and city. \n",
    "    if create_dummies == True:\n",
    "        temp_df = pd.concat([temp_df, pd.get_dummies(temp_df['room_type'])], axis=1)\n",
    "        temp_df = pd.concat([temp_df, pd.get_dummies(temp_df['city'])], axis=1)\n",
    "        create_dummies = False\n",
    "    \n",
    "    #Convert date fields into days_since and useful components\n",
    "    ## Calculate the Maximum Date Present in the Data\n",
    "    if test_data == False:\n",
    "        most_recent_date = get_max_date(temp_df)\n",
    "    print(\"Reference Date Used: \", most_recent_date)\n",
    "    \n",
    "    \n",
    "    ## Derive the new columns\n",
    "    temp_df = temp_df.assign(\n",
    "        year_of_listing = temp_df.host_since.dt.year,\n",
    "        month_of_listing = temp_df.host_since.dt.month,\n",
    "        days_since_hosted = (most_recent_date - temp_df.host_since)/np.timedelta64(1, 'D')\n",
    "        #days_since_first_review = (most_recent_date - temp_df.first_review)/np.timedelta64(1, 'D'),\n",
    "        #days_since_last_review = (most_recent_date - temp_df.last_review)/np.timedelta64(1, 'D')\n",
    "    )\n",
    "    \n",
    "    # Calculate the bedroom and bathroom share per person. Higher the share, more the comfort.\n",
    "    temp_df = temp_df.assign(\n",
    "        bedroom_share = temp_df.bedrooms/temp_df.accommodates,\n",
    "        bathroom_share = temp_df.bathrooms/temp_df.accommodates\n",
    "    )\n",
    "    \n",
    "    # Drop the Features that are not needed\n",
    "    temp_df.drop(['beds', 'bedrooms', 'bathrooms', 'room_type', \n",
    "                  'city', 'first_review','last_review','zipcode' ], axis = 1, inplace = True)\n",
    "    \n",
    "    df = temp_df\n",
    "    print(\"Preprocessing Completed\")\n",
    "    \n",
    "    return df"
   ]
  },
  {
   "cell_type": "code",
   "execution_count": 845,
   "metadata": {},
   "outputs": [
    {
     "name": "stdout",
     "output_type": "stream",
     "text": [
      "Reference Date Used:  2017-10-05 00:00:00\n",
      "Preprocessing Completed\n"
     ]
    }
   ],
   "source": [
    "# Preprocess the Listings data\n",
    "listings = preprocess(listings)"
   ]
  },
  {
   "cell_type": "markdown",
   "metadata": {},
   "source": [
    "#### Add in Columns from Topic Modeling"
   ]
  },
  {
   "cell_type": "code",
   "execution_count": 846,
   "metadata": {},
   "outputs": [],
   "source": [
    "# Read in the data\n",
    "description_data = pd.read_csv(\"../data/airbnb_listings_LDA.csv\")"
   ]
  },
  {
   "cell_type": "code",
   "execution_count": 847,
   "metadata": {},
   "outputs": [
    {
     "name": "stdout",
     "output_type": "stream",
     "text": [
      "<class 'pandas.core.frame.DataFrame'>\n",
      "RangeIndex: 74111 entries, 0 to 74110\n",
      "Data columns (total 8 columns):\n",
      "id                     74111 non-null int64\n",
      "description            74111 non-null object\n",
      "Description_Length     74111 non-null float64\n",
      "Sentiment_intensity    74111 non-null float64\n",
      "LDA_attractions        74111 non-null float64\n",
      "LDA_transport          74111 non-null float64\n",
      "LDA_amenities          74111 non-null float64\n",
      "LDA_property_desc      74111 non-null float64\n",
      "dtypes: float64(6), int64(1), object(1)\n",
      "memory usage: 4.5+ MB\n"
     ]
    }
   ],
   "source": [
    "# Check the column names\n",
    "description_data.info()"
   ]
  },
  {
   "cell_type": "code",
   "execution_count": 848,
   "metadata": {},
   "outputs": [],
   "source": [
    "# Rename Columns to standard format\n",
    "description_data.columns = ['id', 'description', 'description_length', \n",
    "                            'sentiment_intensity', 'lda_attractions', \n",
    "                            'lda_transport', 'lda_amenities', 'lda_property_desc']\n",
    "\n",
    "# Change data type of id column\n",
    "description_data.id = description_data.id.astype(str)\n",
    "\n",
    "# Drop the description column to avoid duplicates\n",
    "description_data.drop('description', axis = 1, inplace = True)\n",
    "\n",
    "# Join the Data from Descriptions to the listings data\n",
    "listings = listings.merge(description_data, how = \"inner\", on = 'id')\n",
    "\n",
    "# Drop the description column in listings data as that is no longer required\n",
    "listings.drop('description', axis = 1, inplace = True)\n"
   ]
  },
  {
   "cell_type": "markdown",
   "metadata": {},
   "source": [
    "#### Pre-Processing AMENITIES"
   ]
  },
  {
   "cell_type": "code",
   "execution_count": 849,
   "metadata": {},
   "outputs": [],
   "source": [
    "#Blank missing values in Amenities column\n",
    "listings.loc[listings['amenities'] == '{}','amenities'] = \"\"\n",
    "\n",
    "#Remove the symbols and one hot encode the amenities feature\n",
    "listings['amenities'] = listings['amenities'].map(\n",
    "    lambda amns: \"|\".join([amn.replace(\"}\", \"\").replace(\"{\", \"\").replace('\"', \"\")\\\n",
    "                           for amn in amns.split(\",\")]))\n",
    "amenities = np.unique(np.concatenate(listings['amenities'].map(lambda amns: amns.split(\"|\")).values))\n",
    "amenities_matrix = np.array([listings['amenities'].map(lambda amns: amn in amns).values for amn in amenities])\n",
    "amen=pd.DataFrame(data=amenities_matrix.T, columns=amenities)"
   ]
  },
  {
   "cell_type": "code",
   "execution_count": 850,
   "metadata": {
    "scrolled": true
   },
   "outputs": [
    {
     "name": "stdout",
     "output_type": "stream",
     "text": [
      "Train score:  0.308\n",
      "Test score:  0.251\n",
      "Selected amenities:\n",
      "Air conditioning\n",
      "Breakfast\n",
      "Buzzer/wireless intercom\n",
      "Cable TV\n",
      "Doorman\n",
      "Dryer\n",
      "Elevator\n",
      "Elevator in building\n",
      "Family/kid friendly\n",
      "Free parking on premises\n",
      "Indoor fireplace\n",
      "Kitchen\n",
      "Lock on bedroom door\n",
      "Pets live on this property\n",
      "Pool\n",
      "Private entrance\n",
      "Suitable for events\n",
      "TV\n"
     ]
    }
   ],
   "source": [
    "#Find important features from the amenities for target price prediction\n",
    "listings_amenities = pd.concat([amen,listings['log_price'].reset_index()], axis=1)\n",
    "\n",
    "#Remove junk amenities from the created features\n",
    "listings_amenities=listings_amenities.drop(columns=['index','','translation missing: en.hosting_amenity_49','translation missing: en.hosting_amenity_50'])\n",
    "\n",
    "#Reset and set numpy random seed for generating random numbers\n",
    "np.random.seed(2018)\n",
    "train = np.random.choice([True, False], listings_amenities.shape[0], replace=True, p=[0.8, 0.2])\n",
    "\n",
    "#Using the random generated TRUE FALSE vector, perform the test train split\n",
    "listings_amenities_train = listings_amenities.iloc[train,:].values\n",
    "listings_amenities_test = listings_amenities.iloc[~train,:].values\n",
    "\n",
    "#Split the response variables and independent variables\n",
    "listings_amenities_train_x = listings_amenities_train[:,:-1]\n",
    "listings_amenities_train_y = listings_amenities_train[:,-1]\n",
    "listings_amenities_test_x = listings_amenities_test[:,:-1]\n",
    "listings_amenities_test_y = listings_amenities_test[:,-1]\n",
    "feat_labels=list(listings_amenities)\n",
    "\n",
    "#Create a random forest classifier\n",
    "clf = RandomForestRegressor(max_depth=10)\n",
    "\n",
    "#Train the classifier\n",
    "clf.fit(listings_amenities_train_x, listings_amenities_train_y)\n",
    "\n",
    "#Print the TRAIN and TEST scores\n",
    "print('Train score: ',round(clf.score(listings_amenities_train_x, listings_amenities_train_y),3))\n",
    "print('Test score: ',round(clf.score(listings_amenities_test_x, listings_amenities_test_y),3))\n",
    "\n",
    "#Fit a variable selection from the model using a Gini cut off\n",
    "sfm = SelectFromModel(clf, threshold=0.01)\n",
    "sfm.fit(listings_amenities_train_x, listings_amenities_train_y)\n",
    "\n",
    "#Print selected features\n",
    "selected_amenities = []\n",
    "print('Selected amenities:')\n",
    "for feature_list_index in sfm.get_support(indices=True):\n",
    "    print(feat_labels[feature_list_index])\n",
    "    selected_amenities.append(feat_labels[feature_list_index])\n",
    "\n",
    "#Concat Listing ID and Selected amenities to join to Listings dataframe\n",
    "listings_selected_amenities = pd.concat([listings['id'], amen[amen.columns[amen.columns.isin(selected_amenities)]]],axis=1)"
   ]
  },
  {
   "cell_type": "code",
   "execution_count": 851,
   "metadata": {},
   "outputs": [],
   "source": [
    "#Merge the columns onto the listings table\n",
    "listings = listings.merge(listings_selected_amenities, how = \"inner\", on = \"id\")\n"
   ]
  },
  {
   "cell_type": "markdown",
   "metadata": {},
   "source": [
    "#### Drop The Records with Missing Values\n",
    "\n",
    "This needn't be done here. We can do this just before modelling using Impute in sklearn preprocessing if required. Currently put here for prototyping"
   ]
  },
  {
   "cell_type": "code",
   "execution_count": 852,
   "metadata": {},
   "outputs": [
    {
     "data": {
      "text/plain": [
       "host_response_rate            18111\n",
       "review_scores_rating          16675\n",
       "TV                                0\n",
       "name                              0\n",
       "Chicago                           0\n",
       "Boston                            0\n",
       "Shared room                       0\n",
       "Private room                      0\n",
       "Entire home/apt                   0\n",
       "dist_to_attr3                     0\n",
       "dist_to_attr2                     0\n",
       "dist_to_attr1                     0\n",
       "thumbnail_url                     0\n",
       "number_of_reviews                 0\n",
       "Neighbourhood                     0\n",
       "longitude                         0\n",
       "LA                                0\n",
       "latitude                          0\n",
       "instant_bookable                  0\n",
       "host_since                        0\n",
       "host_identity_verified            0\n",
       "host_has_profile_pic              0\n",
       "cleaning_fee                      0\n",
       "cancellation_policy               0\n",
       "bed_type                          0\n",
       "accommodates                      0\n",
       "amenities                         0\n",
       "property_type                     0\n",
       "log_price                         0\n",
       "DC                                0\n",
       "                              ...  \n",
       "Suitable for events               0\n",
       "SF                                0\n",
       "Private entrance                  0\n",
       "Pool                              0\n",
       "Pets live on this property        0\n",
       "Lock on bedroom door              0\n",
       "Kitchen                           0\n",
       "Indoor fireplace                  0\n",
       "Free parking on premises          0\n",
       "Family/kid friendly               0\n",
       "Elevator in building              0\n",
       "Elevator                          0\n",
       "Dryer                             0\n",
       "Doorman                           0\n",
       "Cable TV                          0\n",
       "Buzzer/wireless intercom          0\n",
       "Breakfast                         0\n",
       "Air conditioning                  0\n",
       "lda_property_desc                 0\n",
       "lda_amenities                     0\n",
       "lda_transport                     0\n",
       "lda_attractions                   0\n",
       "sentiment_intensity               0\n",
       "description_length                0\n",
       "bathroom_share                    0\n",
       "bedroom_share                     0\n",
       "days_since_hosted                 0\n",
       "month_of_listing                  0\n",
       "year_of_listing                   0\n",
       "id                                0\n",
       "Length: 61, dtype: int64"
      ]
     },
     "execution_count": 852,
     "metadata": {},
     "output_type": "execute_result"
    }
   ],
   "source": [
    "listings.isnull().sum().sort_values(ascending = False)"
   ]
  },
  {
   "cell_type": "code",
   "execution_count": 853,
   "metadata": {},
   "outputs": [
    {
     "data": {
      "text/plain": [
       "id                                0\n",
       "log_price                         0\n",
       "property_type                     0\n",
       "amenities                         0\n",
       "accommodates                      0\n",
       "bed_type                          0\n",
       "cancellation_policy               0\n",
       "cleaning_fee                      0\n",
       "host_has_profile_pic              0\n",
       "host_identity_verified            0\n",
       "host_response_rate            18111\n",
       "host_since                        0\n",
       "instant_bookable                  0\n",
       "latitude                          0\n",
       "longitude                         0\n",
       "name                              0\n",
       "Neighbourhood                     0\n",
       "number_of_reviews                 0\n",
       "review_scores_rating          16675\n",
       "thumbnail_url                     0\n",
       "dist_to_attr1                     0\n",
       "dist_to_attr2                     0\n",
       "dist_to_attr3                     0\n",
       "Entire home/apt                   0\n",
       "Private room                      0\n",
       "Shared room                       0\n",
       "Boston                            0\n",
       "Chicago                           0\n",
       "DC                                0\n",
       "LA                                0\n",
       "                              ...  \n",
       "SF                                0\n",
       "year_of_listing                   0\n",
       "month_of_listing                  0\n",
       "days_since_hosted                 0\n",
       "bedroom_share                     0\n",
       "bathroom_share                    0\n",
       "description_length                0\n",
       "sentiment_intensity               0\n",
       "lda_attractions                   0\n",
       "lda_transport                     0\n",
       "lda_amenities                     0\n",
       "lda_property_desc                 0\n",
       "Air conditioning                  0\n",
       "Breakfast                         0\n",
       "Buzzer/wireless intercom          0\n",
       "Cable TV                          0\n",
       "Doorman                           0\n",
       "Dryer                             0\n",
       "Elevator                          0\n",
       "Elevator in building              0\n",
       "Family/kid friendly               0\n",
       "Free parking on premises          0\n",
       "Indoor fireplace                  0\n",
       "Kitchen                           0\n",
       "Lock on bedroom door              0\n",
       "Pets live on this property        0\n",
       "Pool                              0\n",
       "Private entrance                  0\n",
       "Suitable for events               0\n",
       "TV                                0\n",
       "Length: 61, dtype: int64"
      ]
     },
     "execution_count": 853,
     "metadata": {},
     "output_type": "execute_result"
    }
   ],
   "source": [
    "# Store a copy of the original data \n",
    "listings_with_missing = listings.copy()\n",
    "\n",
    "# Drop the Missing Values\n",
    "#listings.dropna(inplace = True)\n",
    "\n",
    "#Print out the counts again\n",
    "listings.isnull().sum()"
   ]
  },
  {
   "cell_type": "markdown",
   "metadata": {},
   "source": [
    "### Data Visualization"
   ]
  },
  {
   "cell_type": "code",
   "execution_count": 854,
   "metadata": {},
   "outputs": [
    {
     "data": {
      "text/plain": [
       "<matplotlib.collections.PathCollection at 0x207cdecdd30>"
      ]
     },
     "execution_count": 854,
     "metadata": {},
     "output_type": "execute_result"
    },
    {
     "data": {
      "image/png": "[encoded data removed]",
      "text/plain": [
       "<Figure size 432x288 with 1 Axes>"
      ]
     },
     "metadata": {},
     "output_type": "display_data"
    }
   ],
   "source": [
    "plt.scatter(listings.year_of_listing, listings.log_price)"
   ]
  },
  {
   "cell_type": "markdown",
   "metadata": {},
   "source": [
    "### Visualization of target variables"
   ]
  },
  {
   "cell_type": "code",
   "execution_count": 855,
   "metadata": {},
   "outputs": [
    {
     "data": {
      "image/png": "[encoded data removed]",
      "text/plain": [
       "<Figure size 432x288 with 1 Axes>"
      ]
     },
     "metadata": {},
     "output_type": "display_data"
    }
   ],
   "source": [
    "# The Log Price column\n",
    "plot = listings.log_price.hist()\n",
    "plt.title('Distribution of Log-Price')\n",
    "plt.xlabel('log-price')\n",
    "plt.ylabel('count')\n",
    "plt.show()"
   ]
  },
  {
   "cell_type": "code",
   "execution_count": 856,
   "metadata": {},
   "outputs": [
    {
     "data": {
      "image/png": "[encoded data removed]",
      "text/plain": [
       "<Figure size 432x288 with 1 Axes>"
      ]
     },
     "metadata": {},
     "output_type": "display_data"
    }
   ],
   "source": [
    "# The review score column\n",
    "listings.review_scores_rating.hist()\n",
    "plt.title('Distribution of Rating Score')\n",
    "plt.xlabel('Rating Score')\n",
    "plt.ylabel('count')\n",
    "plt.show()"
   ]
  },
  {
   "cell_type": "code",
   "execution_count": 857,
   "metadata": {},
   "outputs": [
    {
     "data": {
      "text/plain": [
       "Index(['id', 'log_price', 'property_type', 'amenities', 'accommodates',\n",
       "       'bed_type', 'cancellation_policy', 'cleaning_fee',\n",
       "       'host_has_profile_pic', 'host_identity_verified', 'host_response_rate',\n",
       "       'host_since', 'instant_bookable', 'latitude', 'longitude', 'name',\n",
       "       'Neighbourhood', 'number_of_reviews', 'review_scores_rating',\n",
       "       'thumbnail_url', 'dist_to_attr1', 'dist_to_attr2', 'dist_to_attr3',\n",
       "       'Entire home/apt', 'Private room', 'Shared room', 'Boston', 'Chicago',\n",
       "       'DC', 'LA', 'NYC', 'SF', 'year_of_listing', 'month_of_listing',\n",
       "       'days_since_hosted', 'bedroom_share', 'bathroom_share',\n",
       "       'description_length', 'sentiment_intensity', 'lda_attractions',\n",
       "       'lda_transport', 'lda_amenities', 'lda_property_desc',\n",
       "       'Air conditioning', 'Breakfast', 'Buzzer/wireless intercom', 'Cable TV',\n",
       "       'Doorman', 'Dryer', 'Elevator', 'Elevator in building',\n",
       "       'Family/kid friendly', 'Free parking on premises', 'Indoor fireplace',\n",
       "       'Kitchen', 'Lock on bedroom door', 'Pets live on this property', 'Pool',\n",
       "       'Private entrance', 'Suitable for events', 'TV'],\n",
       "      dtype='object')"
      ]
     },
     "execution_count": 857,
     "metadata": {},
     "output_type": "execute_result"
    }
   ],
   "source": [
    "listings.columns"
   ]
  },
  {
   "cell_type": "code",
   "execution_count": 871,
   "metadata": {},
   "outputs": [],
   "source": [
    "categorical_cols = []\n",
    "numerical_cols = ['log_price', 'accommodates', 'number_of_reviews', \n",
    "                  'review_scores_rating', 'days_since_hosted',\n",
    "                  'bedroom_share', 'bathroom_share']\n",
    "text_cols = []\n"
   ]
  },
  {
   "cell_type": "code",
   "execution_count": 872,
   "metadata": {},
   "outputs": [
    {
     "name": "stdout",
     "output_type": "stream",
     "text": [
      "<class 'pandas.core.frame.DataFrame'>\n",
      "Int64Index: 73923 entries, 0 to 73922\n",
      "Data columns (total 7 columns):\n",
      "log_price               73923 non-null float64\n",
      "accommodates            73923 non-null int64\n",
      "number_of_reviews       73923 non-null int64\n",
      "review_scores_rating    57248 non-null float64\n",
      "days_since_hosted       73923 non-null float64\n",
      "bedroom_share           73923 non-null float64\n",
      "bathroom_share          73923 non-null float64\n",
      "dtypes: float64(5), int64(2)\n",
      "memory usage: 4.5 MB\n"
     ]
    }
   ],
   "source": [
    "listings.loc[:,numerical_cols].info()"
   ]
  },
  {
   "cell_type": "markdown",
   "metadata": {},
   "source": [
    "### Modelling"
   ]
  },
  {
   "cell_type": "code",
   "execution_count": 873,
   "metadata": {},
   "outputs": [],
   "source": [
    "from sklearn.model_selection import train_test_split\n",
    "\n",
    "from sklearn.linear_model import LinearRegression\n",
    "\n",
    "from sklearn.metrics import mean_squared_error"
   ]
  },
  {
   "cell_type": "code",
   "execution_count": 874,
   "metadata": {},
   "outputs": [
    {
     "data": {
      "text/plain": [
       "Index(['id', 'log_price', 'property_type', 'amenities', 'accommodates',\n",
       "       'bed_type', 'cancellation_policy', 'cleaning_fee',\n",
       "       'host_has_profile_pic', 'host_identity_verified', 'host_response_rate',\n",
       "       'host_since', 'instant_bookable', 'latitude', 'longitude', 'name',\n",
       "       'Neighbourhood', 'number_of_reviews', 'review_scores_rating',\n",
       "       'thumbnail_url', 'dist_to_attr1', 'dist_to_attr2', 'dist_to_attr3',\n",
       "       'Entire home/apt', 'Private room', 'Shared room', 'Boston', 'Chicago',\n",
       "       'DC', 'LA', 'NYC', 'SF', 'year_of_listing', 'month_of_listing',\n",
       "       'days_since_hosted', 'bedroom_share', 'bathroom_share',\n",
       "       'description_length', 'sentiment_intensity', 'lda_attractions',\n",
       "       'lda_transport', 'lda_amenities', 'lda_property_desc',\n",
       "       'Air conditioning', 'Breakfast', 'Buzzer/wireless intercom', 'Cable TV',\n",
       "       'Doorman', 'Dryer', 'Elevator', 'Elevator in building',\n",
       "       'Family/kid friendly', 'Free parking on premises', 'Indoor fireplace',\n",
       "       'Kitchen', 'Lock on bedroom door', 'Pets live on this property', 'Pool',\n",
       "       'Private entrance', 'Suitable for events', 'TV'],\n",
       "      dtype='object')"
      ]
     },
     "execution_count": 874,
     "metadata": {},
     "output_type": "execute_result"
    }
   ],
   "source": [
    "listings.columns"
   ]
  },
  {
   "cell_type": "code",
   "execution_count": 875,
   "metadata": {},
   "outputs": [],
   "source": [
    "np.random.seed(2018)\n",
    "train = np.random.choice([True, False], listings.shape[0], replace=True, p=[0.5, 0.5])\n",
    "listings_train = listings.iloc[train,:]\n",
    "listings_test = listings.iloc[~train,:]\n"
   ]
  },
  {
   "cell_type": "code",
   "execution_count": 876,
   "metadata": {},
   "outputs": [
    {
     "name": "stdout",
     "output_type": "stream",
     "text": [
      "(37068, 4) (36855, 4) (37068, 1) (36855, 1)\n"
     ]
    }
   ],
   "source": [
    "train_cols = ['accommodates', 'bedroom_share', 'bathroom_share', 'year_of_listing']\n",
    "target_col = ['log_price']\n",
    "\n",
    "x_train = listings_train[train_cols].values\n",
    "x_test = listings_test[train_cols].values\n",
    "y_train = listings_train[target_col].values\n",
    "y_test = listings_test[target_col].values\n",
    "\n",
    "print(x_train.shape, x_test.shape, y_train.shape, y_test.shape)"
   ]
  },
  {
   "cell_type": "markdown",
   "metadata": {},
   "source": [
    "### Linear Regression Model"
   ]
  },
  {
   "cell_type": "code",
   "execution_count": 877,
   "metadata": {},
   "outputs": [
    {
     "data": {
      "text/plain": [
       "LinearRegression(copy_X=True, fit_intercept=True, n_jobs=1, normalize=False)"
      ]
     },
     "execution_count": 877,
     "metadata": {},
     "output_type": "execute_result"
    }
   ],
   "source": [
    "# Declare an instance of the Linear Regression model.\n",
    "lm = LinearRegression()\n",
    "\n",
    "# Fit the model on to the training data( Train the model ).\n",
    "lm.fit(x_train, y_train)"
   ]
  },
  {
   "cell_type": "code",
   "execution_count": 878,
   "metadata": {},
   "outputs": [
    {
     "name": "stdout",
     "output_type": "stream",
     "text": [
      "R^2 value using score fn: 0.335\n"
     ]
    }
   ],
   "source": [
    "# Check the R^2 value of the model.\n",
    "print(\"R^2 value using score fn: %.3f\" % lm.score(x_test,y_test))"
   ]
  },
  {
   "cell_type": "code",
   "execution_count": 879,
   "metadata": {},
   "outputs": [],
   "source": [
    "# Use the model to predict values\n",
    "y_pred = lm.predict(x_test)"
   ]
  },
  {
   "cell_type": "code",
   "execution_count": 880,
   "metadata": {},
   "outputs": [
    {
     "data": {
      "text/plain": [
       "0.3407720511685944"
      ]
     },
     "execution_count": 880,
     "metadata": {},
     "output_type": "execute_result"
    }
   ],
   "source": [
    "# Calculate the Mean Squared Error using the mean_squared_error function.\n",
    "mean_squared_error(y_test,y_pred)\n"
   ]
  },
  {
   "cell_type": "code",
   "execution_count": 881,
   "metadata": {},
   "outputs": [
    {
     "name": "stdout",
     "output_type": "stream",
     "text": [
      "[69.80430925] [[ 0.17297998 -0.07522346 -0.19066774 -0.03248873]]\n"
     ]
    }
   ],
   "source": [
    "print(lm.intercept_, lm.coef_)"
   ]
  },
  {
   "cell_type": "code",
   "execution_count": 882,
   "metadata": {},
   "outputs": [
    {
     "data": {
      "text/plain": [
       "(36855, 1)"
      ]
     },
     "execution_count": 882,
     "metadata": {},
     "output_type": "execute_result"
    }
   ],
   "source": [
    "y_pred.shape"
   ]
  },
  {
   "cell_type": "code",
   "execution_count": 883,
   "metadata": {},
   "outputs": [
    {
     "data": {
      "text/plain": [
       "Text(0.5,1,'Residuals for the model')"
      ]
     },
     "execution_count": 883,
     "metadata": {},
     "output_type": "execute_result"
    },
    {
     "data": {
      "image/png": "[encoded data removed]",
      "text/plain": [
       "<Figure size 720x216 with 1 Axes>"
      ]
     },
     "metadata": {},
     "output_type": "display_data"
    }
   ],
   "source": [
    "# Plot of Casual and Registered model's residuals:\n",
    "fig = plt.figure(figsize=(10,3))\n",
    "\n",
    "sns.regplot(y_test[:,0],y_test[:,0] - y_pred[:,0])\n",
    "plt.title(\"Residuals for the model\")\n"
   ]
  }
 ],
 "metadata": {
  "kernelspec": {
   "display_name": "Python 3",
   "language": "python",
   "name": "python3"
  },
  "language_info": {
   "codemirror_mode": {
    "name": "ipython",
    "version": 3
   },
   "file_extension": ".py",
   "mimetype": "text/x-python",
   "name": "python",
   "nbconvert_exporter": "python",
   "pygments_lexer": "ipython3",
   "version": "3.6.5"
  }
 },
 "nbformat": 4,
 "nbformat_minor": 2
}
