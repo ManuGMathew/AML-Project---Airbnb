{
 "cells": [
  {
   "cell_type": "code",
   "execution_count": 1,
   "metadata": {},
   "outputs": [],
   "source": [
    "# For Analysis\n",
    "import numpy as np\n",
    "import pandas as pd\n",
    "\n",
    "# For Visualizations\n",
    "import matplotlib.pyplot as plt\n",
    "import seaborn as sns\n",
    "\n",
    "# For Calculations\n",
    "from math import floor\n",
    "\n",
    "#For Feature Selection\n",
    "from sklearn.feature_selection import RFECV\n",
    "from sklearn.feature_selection import SelectFromModel\n",
    "from boruta import BorutaPy\n",
    "\n",
    "#For Modeling\n",
    "from sklearn.model_selection import train_test_split\n",
    "from sklearn.linear_model import LogisticRegression, LinearRegression\n",
    "from sklearn.ensemble import RandomForestRegressor, RandomForestClassifier\n",
    "from sklearn.svm import LinearSVC\n",
    "\n",
    "from sklearn.tree import DecisionTreeRegressor, DecisionTreeClassifier\n",
    "\n",
    "from sklearn import cluster\n",
    "\n",
    "# For Validation\n",
    "from sklearn.metrics import mean_squared_error\n",
    "from sklearn.metrics import confusion_matrix, precision_score, recall_score, f1_score\n",
    "\n",
    "%matplotlib inline"
   ]
  },
  {
   "cell_type": "markdown",
   "metadata": {},
   "source": [
    "## Importing and looking at the Data"
   ]
  },
  {
   "cell_type": "markdown",
   "metadata": {},
   "source": [
    "Reading in the datasets"
   ]
  },
  {
   "cell_type": "code",
   "execution_count": 2,
   "metadata": {},
   "outputs": [],
   "source": [
    "listings = pd.read_csv('../data/airbnb_listings.csv')\n",
    "stations = pd.read_csv('../data/train_stations.csv')\n",
    "neighbourhoods = pd.read_csv('../data/neighbourhood_score.csv')\n",
    "attractions = pd.read_csv('../data/attractions.csv')"
   ]
  },
  {
   "cell_type": "code",
   "execution_count": 3,
   "metadata": {},
   "outputs": [
    {
     "data": {
      "text/html": [
       "<div>\n",
       "<style scoped>\n",
       "    .dataframe tbody tr th:only-of-type {\n",
       "        vertical-align: middle;\n",
       "    }\n",
       "\n",
       "    .dataframe tbody tr th {\n",
       "        vertical-align: top;\n",
       "    }\n",
       "\n",
       "    .dataframe thead th {\n",
       "        text-align: right;\n",
       "    }\n",
       "</style>\n",
       "<table border=\"1\" class=\"dataframe\">\n",
       "  <thead>\n",
       "    <tr style=\"text-align: right;\">\n",
       "      <th></th>\n",
       "      <th>id</th>\n",
       "      <th>log_price</th>\n",
       "      <th>property_type</th>\n",
       "      <th>room_type</th>\n",
       "      <th>amenities</th>\n",
       "      <th>accommodates</th>\n",
       "      <th>bathrooms</th>\n",
       "      <th>bed_type</th>\n",
       "      <th>cancellation_policy</th>\n",
       "      <th>cleaning_fee</th>\n",
       "      <th>...</th>\n",
       "      <th>latitude</th>\n",
       "      <th>longitude</th>\n",
       "      <th>name</th>\n",
       "      <th>Neighbourhood</th>\n",
       "      <th>number_of_reviews</th>\n",
       "      <th>review_scores_rating</th>\n",
       "      <th>thumbnail_url</th>\n",
       "      <th>zipcode</th>\n",
       "      <th>bedrooms</th>\n",
       "      <th>beds</th>\n",
       "    </tr>\n",
       "  </thead>\n",
       "  <tbody>\n",
       "    <tr>\n",
       "      <th>0</th>\n",
       "      <td>6901257</td>\n",
       "      <td>5.010635</td>\n",
       "      <td>Apartment</td>\n",
       "      <td>Entire home/apt</td>\n",
       "      <td>{\"Wireless Internet\",\"Air conditioning\",Kitche...</td>\n",
       "      <td>3</td>\n",
       "      <td>1.0</td>\n",
       "      <td>Real Bed</td>\n",
       "      <td>strict</td>\n",
       "      <td>True</td>\n",
       "      <td>...</td>\n",
       "      <td>40.696524</td>\n",
       "      <td>-73.991617</td>\n",
       "      <td>Beautiful brownstone 1-bedroom</td>\n",
       "      <td>Brooklyn Heights</td>\n",
       "      <td>2</td>\n",
       "      <td>100.0</td>\n",
       "      <td>https://a0.muscache.com/im/pictures/6d7cbbf7-c...</td>\n",
       "      <td>11201</td>\n",
       "      <td>1.0</td>\n",
       "      <td>1.0</td>\n",
       "    </tr>\n",
       "    <tr>\n",
       "      <th>1</th>\n",
       "      <td>6304928</td>\n",
       "      <td>5.129899</td>\n",
       "      <td>Apartment</td>\n",
       "      <td>Entire home/apt</td>\n",
       "      <td>{\"Wireless Internet\",\"Air conditioning\",Kitche...</td>\n",
       "      <td>7</td>\n",
       "      <td>1.0</td>\n",
       "      <td>Real Bed</td>\n",
       "      <td>strict</td>\n",
       "      <td>True</td>\n",
       "      <td>...</td>\n",
       "      <td>40.766115</td>\n",
       "      <td>-73.989040</td>\n",
       "      <td>Superb 3BR Apt Located Near Times Square</td>\n",
       "      <td>Hell's Kitchen</td>\n",
       "      <td>6</td>\n",
       "      <td>93.0</td>\n",
       "      <td>https://a0.muscache.com/im/pictures/348a55fe-4...</td>\n",
       "      <td>10019</td>\n",
       "      <td>3.0</td>\n",
       "      <td>3.0</td>\n",
       "    </tr>\n",
       "    <tr>\n",
       "      <th>2</th>\n",
       "      <td>7919400</td>\n",
       "      <td>4.976734</td>\n",
       "      <td>Apartment</td>\n",
       "      <td>Entire home/apt</td>\n",
       "      <td>{TV,\"Cable TV\",\"Wireless Internet\",\"Air condit...</td>\n",
       "      <td>5</td>\n",
       "      <td>1.0</td>\n",
       "      <td>Real Bed</td>\n",
       "      <td>moderate</td>\n",
       "      <td>True</td>\n",
       "      <td>...</td>\n",
       "      <td>40.808110</td>\n",
       "      <td>-73.943756</td>\n",
       "      <td>The Garden Oasis</td>\n",
       "      <td>Harlem</td>\n",
       "      <td>10</td>\n",
       "      <td>92.0</td>\n",
       "      <td>https://a0.muscache.com/im/pictures/6fae5362-9...</td>\n",
       "      <td>10027</td>\n",
       "      <td>1.0</td>\n",
       "      <td>3.0</td>\n",
       "    </tr>\n",
       "    <tr>\n",
       "      <th>3</th>\n",
       "      <td>13418779</td>\n",
       "      <td>6.620073</td>\n",
       "      <td>House</td>\n",
       "      <td>Entire home/apt</td>\n",
       "      <td>{TV,\"Cable TV\",Internet,\"Wireless Internet\",Ki...</td>\n",
       "      <td>4</td>\n",
       "      <td>1.0</td>\n",
       "      <td>Real Bed</td>\n",
       "      <td>flexible</td>\n",
       "      <td>True</td>\n",
       "      <td>...</td>\n",
       "      <td>37.772004</td>\n",
       "      <td>-122.431619</td>\n",
       "      <td>Beautiful Flat in the Heart of SF!</td>\n",
       "      <td>Lower Haight</td>\n",
       "      <td>0</td>\n",
       "      <td>NaN</td>\n",
       "      <td>https://a0.muscache.com/im/pictures/72208dad-9...</td>\n",
       "      <td>94117</td>\n",
       "      <td>2.0</td>\n",
       "      <td>2.0</td>\n",
       "    </tr>\n",
       "    <tr>\n",
       "      <th>4</th>\n",
       "      <td>3808709</td>\n",
       "      <td>4.744932</td>\n",
       "      <td>Apartment</td>\n",
       "      <td>Entire home/apt</td>\n",
       "      <td>{TV,Internet,\"Wireless Internet\",\"Air conditio...</td>\n",
       "      <td>2</td>\n",
       "      <td>1.0</td>\n",
       "      <td>Real Bed</td>\n",
       "      <td>moderate</td>\n",
       "      <td>True</td>\n",
       "      <td>...</td>\n",
       "      <td>38.925627</td>\n",
       "      <td>-77.034596</td>\n",
       "      <td>Great studio in midtown DC</td>\n",
       "      <td>Columbia Heights</td>\n",
       "      <td>4</td>\n",
       "      <td>40.0</td>\n",
       "      <td>NaN</td>\n",
       "      <td>20009</td>\n",
       "      <td>0.0</td>\n",
       "      <td>1.0</td>\n",
       "    </tr>\n",
       "  </tbody>\n",
       "</table>\n",
       "<p>5 rows × 29 columns</p>\n",
       "</div>"
      ],
      "text/plain": [
       "         id  log_price property_type        room_type  \\\n",
       "0   6901257   5.010635     Apartment  Entire home/apt   \n",
       "1   6304928   5.129899     Apartment  Entire home/apt   \n",
       "2   7919400   4.976734     Apartment  Entire home/apt   \n",
       "3  13418779   6.620073         House  Entire home/apt   \n",
       "4   3808709   4.744932     Apartment  Entire home/apt   \n",
       "\n",
       "                                           amenities  accommodates  bathrooms  \\\n",
       "0  {\"Wireless Internet\",\"Air conditioning\",Kitche...             3        1.0   \n",
       "1  {\"Wireless Internet\",\"Air conditioning\",Kitche...             7        1.0   \n",
       "2  {TV,\"Cable TV\",\"Wireless Internet\",\"Air condit...             5        1.0   \n",
       "3  {TV,\"Cable TV\",Internet,\"Wireless Internet\",Ki...             4        1.0   \n",
       "4  {TV,Internet,\"Wireless Internet\",\"Air conditio...             2        1.0   \n",
       "\n",
       "   bed_type cancellation_policy  cleaning_fee  ...    latitude   longitude  \\\n",
       "0  Real Bed              strict          True  ...   40.696524  -73.991617   \n",
       "1  Real Bed              strict          True  ...   40.766115  -73.989040   \n",
       "2  Real Bed            moderate          True  ...   40.808110  -73.943756   \n",
       "3  Real Bed            flexible          True  ...   37.772004 -122.431619   \n",
       "4  Real Bed            moderate          True  ...   38.925627  -77.034596   \n",
       "\n",
       "                                       name     Neighbourhood  \\\n",
       "0            Beautiful brownstone 1-bedroom  Brooklyn Heights   \n",
       "1  Superb 3BR Apt Located Near Times Square    Hell's Kitchen   \n",
       "2                          The Garden Oasis            Harlem   \n",
       "3        Beautiful Flat in the Heart of SF!      Lower Haight   \n",
       "4                Great studio in midtown DC  Columbia Heights   \n",
       "\n",
       "  number_of_reviews review_scores_rating  \\\n",
       "0                 2                100.0   \n",
       "1                 6                 93.0   \n",
       "2                10                 92.0   \n",
       "3                 0                  NaN   \n",
       "4                 4                 40.0   \n",
       "\n",
       "                                       thumbnail_url zipcode bedrooms  beds  \n",
       "0  https://a0.muscache.com/im/pictures/6d7cbbf7-c...   11201      1.0   1.0  \n",
       "1  https://a0.muscache.com/im/pictures/348a55fe-4...   10019      3.0   3.0  \n",
       "2  https://a0.muscache.com/im/pictures/6fae5362-9...   10027      1.0   3.0  \n",
       "3  https://a0.muscache.com/im/pictures/72208dad-9...   94117      2.0   2.0  \n",
       "4                                                NaN   20009      0.0   1.0  \n",
       "\n",
       "[5 rows x 29 columns]"
      ]
     },
     "execution_count": 3,
     "metadata": {},
     "output_type": "execute_result"
    }
   ],
   "source": [
    "listings.head()"
   ]
  },
  {
   "cell_type": "code",
   "execution_count": 4,
   "metadata": {},
   "outputs": [
    {
     "name": "stdout",
     "output_type": "stream",
     "text": [
      "<class 'pandas.core.frame.DataFrame'>\n",
      "RangeIndex: 74111 entries, 0 to 74110\n",
      "Data columns (total 29 columns):\n",
      "id                        74111 non-null int64\n",
      "log_price                 74111 non-null float64\n",
      "property_type             74111 non-null object\n",
      "room_type                 74111 non-null object\n",
      "amenities                 74111 non-null object\n",
      "accommodates              74111 non-null int64\n",
      "bathrooms                 73911 non-null float64\n",
      "bed_type                  74111 non-null object\n",
      "cancellation_policy       74111 non-null object\n",
      "cleaning_fee              74111 non-null bool\n",
      "city                      74111 non-null object\n",
      "description               74111 non-null object\n",
      "first_review              58247 non-null object\n",
      "host_has_profile_pic      73923 non-null object\n",
      "host_identity_verified    73923 non-null object\n",
      "host_response_rate        55812 non-null object\n",
      "host_since                73923 non-null object\n",
      "instant_bookable          74111 non-null object\n",
      "last_review               58284 non-null object\n",
      "latitude                  74111 non-null float64\n",
      "longitude                 74111 non-null float64\n",
      "name                      74111 non-null object\n",
      "Neighbourhood             74111 non-null object\n",
      "number_of_reviews         74111 non-null int64\n",
      "review_scores_rating      57389 non-null float64\n",
      "thumbnail_url             65895 non-null object\n",
      "zipcode                   73529 non-null object\n",
      "bedrooms                  74020 non-null float64\n",
      "beds                      73980 non-null float64\n",
      "dtypes: bool(1), float64(7), int64(3), object(18)\n",
      "memory usage: 15.9+ MB\n"
     ]
    }
   ],
   "source": [
    "listings.info()"
   ]
  },
  {
   "cell_type": "markdown",
   "metadata": {},
   "source": [
    "There were no detailed descriptions given along with the dataset other than for id and log_price. Thus we need to do some EDA to identify the different features.\n",
    " We observe that, the following columns need to be changed to the correect data type.\n",
    "- id to string\n",
    "- first_review, host_since, last_review to date.\n",
    "- instant_bookable, host_identity_verified, host_has_profie_pictore to Number encoded values.\n",
    "- host_response_rate to a numerical column.\n",
    "\n",
    "Some of the things to check\n",
    "- Distributions of the variables\n",
    "- Whether there are duplicates in the zip code\n",
    "- Clusters in the data\n",
    "- There are some facilities with the same names and same descriptions. \n"
   ]
  },
  {
   "cell_type": "code",
   "execution_count": 5,
   "metadata": {},
   "outputs": [
    {
     "data": {
      "text/html": [
       "<div>\n",
       "<style scoped>\n",
       "    .dataframe tbody tr th:only-of-type {\n",
       "        vertical-align: middle;\n",
       "    }\n",
       "\n",
       "    .dataframe tbody tr th {\n",
       "        vertical-align: top;\n",
       "    }\n",
       "\n",
       "    .dataframe thead th {\n",
       "        text-align: right;\n",
       "    }\n",
       "</style>\n",
       "<table border=\"1\" class=\"dataframe\">\n",
       "  <thead>\n",
       "    <tr style=\"text-align: right;\">\n",
       "      <th></th>\n",
       "      <th>id</th>\n",
       "      <th>log_price</th>\n",
       "      <th>accommodates</th>\n",
       "      <th>bathrooms</th>\n",
       "      <th>latitude</th>\n",
       "      <th>longitude</th>\n",
       "      <th>number_of_reviews</th>\n",
       "      <th>review_scores_rating</th>\n",
       "      <th>bedrooms</th>\n",
       "      <th>beds</th>\n",
       "    </tr>\n",
       "  </thead>\n",
       "  <tbody>\n",
       "    <tr>\n",
       "      <th>count</th>\n",
       "      <td>7.411100e+04</td>\n",
       "      <td>74111.000000</td>\n",
       "      <td>74111.000000</td>\n",
       "      <td>73911.000000</td>\n",
       "      <td>74111.000000</td>\n",
       "      <td>74111.000000</td>\n",
       "      <td>74111.000000</td>\n",
       "      <td>57389.000000</td>\n",
       "      <td>74020.000000</td>\n",
       "      <td>73980.000000</td>\n",
       "    </tr>\n",
       "    <tr>\n",
       "      <th>mean</th>\n",
       "      <td>1.126662e+07</td>\n",
       "      <td>4.782069</td>\n",
       "      <td>3.155146</td>\n",
       "      <td>1.235263</td>\n",
       "      <td>38.445958</td>\n",
       "      <td>-92.397525</td>\n",
       "      <td>20.900568</td>\n",
       "      <td>94.067365</td>\n",
       "      <td>1.265793</td>\n",
       "      <td>1.710868</td>\n",
       "    </tr>\n",
       "    <tr>\n",
       "      <th>std</th>\n",
       "      <td>6.081735e+06</td>\n",
       "      <td>0.717394</td>\n",
       "      <td>2.153589</td>\n",
       "      <td>0.582044</td>\n",
       "      <td>3.080167</td>\n",
       "      <td>21.705322</td>\n",
       "      <td>37.828641</td>\n",
       "      <td>7.836556</td>\n",
       "      <td>0.852143</td>\n",
       "      <td>1.254142</td>\n",
       "    </tr>\n",
       "    <tr>\n",
       "      <th>min</th>\n",
       "      <td>3.440000e+02</td>\n",
       "      <td>0.000000</td>\n",
       "      <td>1.000000</td>\n",
       "      <td>0.000000</td>\n",
       "      <td>33.338905</td>\n",
       "      <td>-122.511500</td>\n",
       "      <td>0.000000</td>\n",
       "      <td>20.000000</td>\n",
       "      <td>0.000000</td>\n",
       "      <td>0.000000</td>\n",
       "    </tr>\n",
       "    <tr>\n",
       "      <th>25%</th>\n",
       "      <td>6.261964e+06</td>\n",
       "      <td>4.317488</td>\n",
       "      <td>2.000000</td>\n",
       "      <td>1.000000</td>\n",
       "      <td>34.127908</td>\n",
       "      <td>-118.342374</td>\n",
       "      <td>1.000000</td>\n",
       "      <td>92.000000</td>\n",
       "      <td>1.000000</td>\n",
       "      <td>1.000000</td>\n",
       "    </tr>\n",
       "    <tr>\n",
       "      <th>50%</th>\n",
       "      <td>1.225415e+07</td>\n",
       "      <td>4.709530</td>\n",
       "      <td>2.000000</td>\n",
       "      <td>1.000000</td>\n",
       "      <td>40.662138</td>\n",
       "      <td>-76.996965</td>\n",
       "      <td>6.000000</td>\n",
       "      <td>96.000000</td>\n",
       "      <td>1.000000</td>\n",
       "      <td>1.000000</td>\n",
       "    </tr>\n",
       "    <tr>\n",
       "      <th>75%</th>\n",
       "      <td>1.640226e+07</td>\n",
       "      <td>5.220356</td>\n",
       "      <td>4.000000</td>\n",
       "      <td>1.000000</td>\n",
       "      <td>40.746096</td>\n",
       "      <td>-73.954660</td>\n",
       "      <td>23.000000</td>\n",
       "      <td>100.000000</td>\n",
       "      <td>1.000000</td>\n",
       "      <td>2.000000</td>\n",
       "    </tr>\n",
       "    <tr>\n",
       "      <th>max</th>\n",
       "      <td>2.123090e+07</td>\n",
       "      <td>7.600402</td>\n",
       "      <td>16.000000</td>\n",
       "      <td>8.000000</td>\n",
       "      <td>42.390437</td>\n",
       "      <td>-70.985047</td>\n",
       "      <td>605.000000</td>\n",
       "      <td>100.000000</td>\n",
       "      <td>10.000000</td>\n",
       "      <td>18.000000</td>\n",
       "    </tr>\n",
       "  </tbody>\n",
       "</table>\n",
       "</div>"
      ],
      "text/plain": [
       "                 id     log_price  accommodates     bathrooms      latitude  \\\n",
       "count  7.411100e+04  74111.000000  74111.000000  73911.000000  74111.000000   \n",
       "mean   1.126662e+07      4.782069      3.155146      1.235263     38.445958   \n",
       "std    6.081735e+06      0.717394      2.153589      0.582044      3.080167   \n",
       "min    3.440000e+02      0.000000      1.000000      0.000000     33.338905   \n",
       "25%    6.261964e+06      4.317488      2.000000      1.000000     34.127908   \n",
       "50%    1.225415e+07      4.709530      2.000000      1.000000     40.662138   \n",
       "75%    1.640226e+07      5.220356      4.000000      1.000000     40.746096   \n",
       "max    2.123090e+07      7.600402     16.000000      8.000000     42.390437   \n",
       "\n",
       "          longitude  number_of_reviews  review_scores_rating      bedrooms  \\\n",
       "count  74111.000000       74111.000000          57389.000000  74020.000000   \n",
       "mean     -92.397525          20.900568             94.067365      1.265793   \n",
       "std       21.705322          37.828641              7.836556      0.852143   \n",
       "min     -122.511500           0.000000             20.000000      0.000000   \n",
       "25%     -118.342374           1.000000             92.000000      1.000000   \n",
       "50%      -76.996965           6.000000             96.000000      1.000000   \n",
       "75%      -73.954660          23.000000            100.000000      1.000000   \n",
       "max      -70.985047         605.000000            100.000000     10.000000   \n",
       "\n",
       "               beds  \n",
       "count  73980.000000  \n",
       "mean       1.710868  \n",
       "std        1.254142  \n",
       "min        0.000000  \n",
       "25%        1.000000  \n",
       "50%        1.000000  \n",
       "75%        2.000000  \n",
       "max       18.000000  "
      ]
     },
     "execution_count": 5,
     "metadata": {},
     "output_type": "execute_result"
    }
   ],
   "source": [
    "# Check the statistical distribution for Numerical Columns\n",
    "listings.describe()"
   ]
  },
  {
   "cell_type": "code",
   "execution_count": 6,
   "metadata": {},
   "outputs": [
    {
     "data": {
      "text/html": [
       "<div>\n",
       "<style scoped>\n",
       "    .dataframe tbody tr th:only-of-type {\n",
       "        vertical-align: middle;\n",
       "    }\n",
       "\n",
       "    .dataframe tbody tr th {\n",
       "        vertical-align: top;\n",
       "    }\n",
       "\n",
       "    .dataframe thead th {\n",
       "        text-align: right;\n",
       "    }\n",
       "</style>\n",
       "<table border=\"1\" class=\"dataframe\">\n",
       "  <thead>\n",
       "    <tr style=\"text-align: right;\">\n",
       "      <th></th>\n",
       "      <th>property_type</th>\n",
       "      <th>room_type</th>\n",
       "      <th>amenities</th>\n",
       "      <th>bed_type</th>\n",
       "      <th>cancellation_policy</th>\n",
       "      <th>city</th>\n",
       "      <th>description</th>\n",
       "      <th>first_review</th>\n",
       "      <th>host_has_profile_pic</th>\n",
       "      <th>host_identity_verified</th>\n",
       "      <th>host_response_rate</th>\n",
       "      <th>host_since</th>\n",
       "      <th>instant_bookable</th>\n",
       "      <th>last_review</th>\n",
       "      <th>name</th>\n",
       "      <th>Neighbourhood</th>\n",
       "      <th>thumbnail_url</th>\n",
       "      <th>zipcode</th>\n",
       "    </tr>\n",
       "  </thead>\n",
       "  <tbody>\n",
       "    <tr>\n",
       "      <th>count</th>\n",
       "      <td>74111</td>\n",
       "      <td>74111</td>\n",
       "      <td>74111</td>\n",
       "      <td>74111</td>\n",
       "      <td>74111</td>\n",
       "      <td>74111</td>\n",
       "      <td>74111</td>\n",
       "      <td>58247</td>\n",
       "      <td>73923</td>\n",
       "      <td>73923</td>\n",
       "      <td>55812</td>\n",
       "      <td>73923</td>\n",
       "      <td>74111</td>\n",
       "      <td>58284</td>\n",
       "      <td>74111</td>\n",
       "      <td>74111</td>\n",
       "      <td>65895</td>\n",
       "      <td>73529</td>\n",
       "    </tr>\n",
       "    <tr>\n",
       "      <th>unique</th>\n",
       "      <td>35</td>\n",
       "      <td>3</td>\n",
       "      <td>67122</td>\n",
       "      <td>5</td>\n",
       "      <td>5</td>\n",
       "      <td>6</td>\n",
       "      <td>73472</td>\n",
       "      <td>2554</td>\n",
       "      <td>2</td>\n",
       "      <td>2</td>\n",
       "      <td>80</td>\n",
       "      <td>3087</td>\n",
       "      <td>2</td>\n",
       "      <td>1371</td>\n",
       "      <td>73350</td>\n",
       "      <td>1722</td>\n",
       "      <td>65883</td>\n",
       "      <td>673</td>\n",
       "    </tr>\n",
       "    <tr>\n",
       "      <th>top</th>\n",
       "      <td>Apartment</td>\n",
       "      <td>Entire home/apt</td>\n",
       "      <td>{}</td>\n",
       "      <td>Real Bed</td>\n",
       "      <td>strict</td>\n",
       "      <td>NYC</td>\n",
       "      <td>Hello, I've been running guest house for Korea...</td>\n",
       "      <td>1/1/2017</td>\n",
       "      <td>t</td>\n",
       "      <td>t</td>\n",
       "      <td>100%</td>\n",
       "      <td>3/30/2015</td>\n",
       "      <td>f</td>\n",
       "      <td>4/30/2017</td>\n",
       "      <td>#NAME?</td>\n",
       "      <td>Williamsburg</td>\n",
       "      <td>https://a0.muscache.com/im/pictures/70087089/b...</td>\n",
       "      <td>11211</td>\n",
       "    </tr>\n",
       "    <tr>\n",
       "      <th>freq</th>\n",
       "      <td>49003</td>\n",
       "      <td>41310</td>\n",
       "      <td>586</td>\n",
       "      <td>72028</td>\n",
       "      <td>32374</td>\n",
       "      <td>32349</td>\n",
       "      <td>8</td>\n",
       "      <td>293</td>\n",
       "      <td>73697</td>\n",
       "      <td>49748</td>\n",
       "      <td>43254</td>\n",
       "      <td>246</td>\n",
       "      <td>54660</td>\n",
       "      <td>1344</td>\n",
       "      <td>10</td>\n",
       "      <td>2862</td>\n",
       "      <td>3</td>\n",
       "      <td>1618</td>\n",
       "    </tr>\n",
       "  </tbody>\n",
       "</table>\n",
       "</div>"
      ],
      "text/plain": [
       "       property_type        room_type amenities  bed_type cancellation_policy  \\\n",
       "count          74111            74111     74111     74111               74111   \n",
       "unique            35                3     67122         5                   5   \n",
       "top        Apartment  Entire home/apt        {}  Real Bed              strict   \n",
       "freq           49003            41310       586     72028               32374   \n",
       "\n",
       "         city                                        description first_review  \\\n",
       "count   74111                                              74111        58247   \n",
       "unique      6                                              73472         2554   \n",
       "top       NYC  Hello, I've been running guest house for Korea...     1/1/2017   \n",
       "freq    32349                                                  8          293   \n",
       "\n",
       "       host_has_profile_pic host_identity_verified host_response_rate  \\\n",
       "count                 73923                  73923              55812   \n",
       "unique                    2                      2                 80   \n",
       "top                       t                      t               100%   \n",
       "freq                  73697                  49748              43254   \n",
       "\n",
       "       host_since instant_bookable last_review    name Neighbourhood  \\\n",
       "count       73923            74111       58284   74111         74111   \n",
       "unique       3087                2        1371   73350          1722   \n",
       "top     3/30/2015                f   4/30/2017  #NAME?  Williamsburg   \n",
       "freq          246            54660        1344      10          2862   \n",
       "\n",
       "                                            thumbnail_url zipcode  \n",
       "count                                               65895   73529  \n",
       "unique                                              65883     673  \n",
       "top     https://a0.muscache.com/im/pictures/70087089/b...   11211  \n",
       "freq                                                    3    1618  "
      ]
     },
     "execution_count": 6,
     "metadata": {},
     "output_type": "execute_result"
    }
   ],
   "source": [
    "# Check the distribution of Categorical and Text columns\n",
    "listings.describe(include = [\"O\"])"
   ]
  },
  {
   "cell_type": "code",
   "execution_count": 7,
   "metadata": {},
   "outputs": [
    {
     "data": {
      "text/plain": [
       "Index(['id', 'log_price', 'property_type', 'room_type', 'amenities',\n",
       "       'accommodates', 'bathrooms', 'bed_type', 'cancellation_policy',\n",
       "       'cleaning_fee', 'city', 'description', 'first_review',\n",
       "       'host_has_profile_pic', 'host_identity_verified', 'host_response_rate',\n",
       "       'host_since', 'instant_bookable', 'last_review', 'latitude',\n",
       "       'longitude', 'name', 'Neighbourhood', 'number_of_reviews',\n",
       "       'review_scores_rating', 'thumbnail_url', 'zipcode', 'bedrooms', 'beds'],\n",
       "      dtype='object')"
      ]
     },
     "execution_count": 7,
     "metadata": {},
     "output_type": "execute_result"
    }
   ],
   "source": [
    "listings.columns"
   ]
  },
  {
   "cell_type": "code",
   "execution_count": 8,
   "metadata": {},
   "outputs": [
    {
     "data": {
      "text/plain": [
       "[Apartment             49003\n",
       " House                 16511\n",
       " Condominium            2658\n",
       " Townhouse              1692\n",
       " Loft                   1244\n",
       " Other                   607\n",
       " Guesthouse              498\n",
       " Bed & Breakfast         462\n",
       " Bungalow                366\n",
       " Villa                   179\n",
       " Dorm                    142\n",
       " Guest suite             123\n",
       " Camper/RV                94\n",
       " Timeshare                77\n",
       " Cabin                    72\n",
       " In-law                   71\n",
       " Hostel                   70\n",
       " Boutique hotel           69\n",
       " Boat                     65\n",
       " Serviced apartment       21\n",
       " Tent                     18\n",
       " Castle                   13\n",
       " Vacation home            11\n",
       " Yurt                      9\n",
       " Hut                       8\n",
       " Treehouse                 7\n",
       " Chalet                    6\n",
       " Earth House               4\n",
       " Tipi                      3\n",
       " Train                     2\n",
       " Cave                      2\n",
       " Parking Space             1\n",
       " Island                    1\n",
       " Casa particular           1\n",
       " Lighthouse                1\n",
       " Name: property_type, dtype: int64, Entire home/apt    41310\n",
       " Private room       30638\n",
       " Shared room         2163\n",
       " Name: room_type, dtype: int64, Real Bed         72028\n",
       " Futon              753\n",
       " Pull-out Sofa      585\n",
       " Airbed             477\n",
       " Couch              268\n",
       " Name: bed_type, dtype: int64, strict             32374\n",
       " flexible           22545\n",
       " moderate           19063\n",
       " super_strict_30      112\n",
       " super_strict_60       17\n",
       " Name: cancellation_policy, dtype: int64, True     54403\n",
       " False    19708\n",
       " Name: cleaning_fee, dtype: int64, NYC        32349\n",
       " LA         22453\n",
       " SF          6434\n",
       " DC          5688\n",
       " Chicago     3719\n",
       " Boston      3468\n",
       " Name: city, dtype: int64, t    73697\n",
       " f      226\n",
       " Name: host_has_profile_pic, dtype: int64, t    49748\n",
       " f    24175\n",
       " Name: host_identity_verified, dtype: int64, f    54660\n",
       " t    19451\n",
       " Name: instant_bookable, dtype: int64]"
      ]
     },
     "execution_count": 8,
     "metadata": {},
     "output_type": "execute_result"
    }
   ],
   "source": [
    "lower_dim_categories = ['property_type', 'room_type', 'bed_type', 'cancellation_policy',\n",
    "       'cleaning_fee', 'city', 'host_has_profile_pic', 'host_identity_verified', 'instant_bookable']\n",
    "[listings[c].value_counts() for c in lower_dim_categories]"
   ]
  },
  {
   "cell_type": "markdown",
   "metadata": {},
   "source": [
    "We convert the following features to the right format.\n",
    "- **id** : Integer to String\n",
    "- **first_review** : String to Datetime\n",
    "- **last_review** : String to Datetime\n",
    "- **host_since** : String to Datetime\n",
    "\n"
   ]
  },
  {
   "cell_type": "code",
   "execution_count": 9,
   "metadata": {},
   "outputs": [],
   "source": [
    "def pp_fix_dtypes(df):\n",
    "    #Correct the types of the data where required\n",
    "    df = df.assign(\n",
    "        id = df.id.astype(str),\n",
    "        first_review = pd.to_datetime(df.first_review),\n",
    "        last_review = pd.to_datetime(df.last_review),\n",
    "        host_since = pd.to_datetime(df.host_since)\n",
    "    )\n",
    "    return df\n",
    "    "
   ]
  },
  {
   "cell_type": "code",
   "execution_count": 10,
   "metadata": {},
   "outputs": [],
   "source": [
    "listings = pp_fix_dtypes(listings)"
   ]
  },
  {
   "cell_type": "markdown",
   "metadata": {},
   "source": [
    "### Support Functions"
   ]
  },
  {
   "cell_type": "code",
   "execution_count": 11,
   "metadata": {},
   "outputs": [],
   "source": [
    "def get_max_date(df):\n",
    "    most_recent_date = max(\n",
    "            max(df.host_since),\n",
    "            max(df.first_review),\n",
    "            max(df.last_review)\n",
    "        )\n",
    "    return most_recent_date"
   ]
  },
  {
   "cell_type": "code",
   "execution_count": 12,
   "metadata": {},
   "outputs": [],
   "source": [
    "most_recent_date = get_max_date(listings)"
   ]
  },
  {
   "cell_type": "code",
   "execution_count": 13,
   "metadata": {},
   "outputs": [],
   "source": [
    "def show_cols_with_missing(df):\n",
    "    missing_vals = df.isnull().sum().sort_values(ascending = False)\n",
    "    \n",
    "    return missing_vals.iloc[missing_vals.nonzero()[0]]"
   ]
  },
  {
   "cell_type": "markdown",
   "metadata": {},
   "source": [
    "### Functions for handling Missing Values"
   ]
  },
  {
   "cell_type": "code",
   "execution_count": 14,
   "metadata": {},
   "outputs": [
    {
     "data": {
      "text/plain": [
       "host_response_rate        18299\n",
       "review_scores_rating      16722\n",
       "first_review              15864\n",
       "last_review               15827\n",
       "thumbnail_url              8216\n",
       "zipcode                     582\n",
       "bathrooms                   200\n",
       "host_identity_verified      188\n",
       "host_has_profile_pic        188\n",
       "host_since                  188\n",
       "beds                        131\n",
       "bedrooms                     91\n",
       "dtype: int64"
      ]
     },
     "execution_count": 14,
     "metadata": {},
     "output_type": "execute_result"
    }
   ],
   "source": [
    "show_cols_with_missing(listings)"
   ]
  },
  {
   "cell_type": "code",
   "execution_count": 15,
   "metadata": {},
   "outputs": [
    {
     "data": {
      "text/html": [
       "<div>\n",
       "<style scoped>\n",
       "    .dataframe tbody tr th:only-of-type {\n",
       "        vertical-align: middle;\n",
       "    }\n",
       "\n",
       "    .dataframe tbody tr th {\n",
       "        vertical-align: top;\n",
       "    }\n",
       "\n",
       "    .dataframe thead th {\n",
       "        text-align: right;\n",
       "    }\n",
       "</style>\n",
       "<table border=\"1\" class=\"dataframe\">\n",
       "  <thead>\n",
       "    <tr style=\"text-align: right;\">\n",
       "      <th></th>\n",
       "      <th>host_since</th>\n",
       "      <th>first_review</th>\n",
       "      <th>last_review</th>\n",
       "    </tr>\n",
       "  </thead>\n",
       "  <tbody>\n",
       "    <tr>\n",
       "      <th>count</th>\n",
       "      <td>73923</td>\n",
       "      <td>58247</td>\n",
       "      <td>58284</td>\n",
       "    </tr>\n",
       "    <tr>\n",
       "      <th>unique</th>\n",
       "      <td>3087</td>\n",
       "      <td>2554</td>\n",
       "      <td>1371</td>\n",
       "    </tr>\n",
       "    <tr>\n",
       "      <th>top</th>\n",
       "      <td>2015-03-30 00:00:00</td>\n",
       "      <td>2017-01-01 00:00:00</td>\n",
       "      <td>2017-04-30 00:00:00</td>\n",
       "    </tr>\n",
       "    <tr>\n",
       "      <th>freq</th>\n",
       "      <td>246</td>\n",
       "      <td>293</td>\n",
       "      <td>1344</td>\n",
       "    </tr>\n",
       "    <tr>\n",
       "      <th>first</th>\n",
       "      <td>2008-03-03 00:00:00</td>\n",
       "      <td>2008-11-17 00:00:00</td>\n",
       "      <td>2009-01-21 00:00:00</td>\n",
       "    </tr>\n",
       "    <tr>\n",
       "      <th>last</th>\n",
       "      <td>2017-10-04 00:00:00</td>\n",
       "      <td>2017-10-05 00:00:00</td>\n",
       "      <td>2017-10-05 00:00:00</td>\n",
       "    </tr>\n",
       "  </tbody>\n",
       "</table>\n",
       "</div>"
      ],
      "text/plain": [
       "                 host_since         first_review          last_review\n",
       "count                 73923                58247                58284\n",
       "unique                 3087                 2554                 1371\n",
       "top     2015-03-30 00:00:00  2017-01-01 00:00:00  2017-04-30 00:00:00\n",
       "freq                    246                  293                 1344\n",
       "first   2008-03-03 00:00:00  2008-11-17 00:00:00  2009-01-21 00:00:00\n",
       "last    2017-10-04 00:00:00  2017-10-05 00:00:00  2017-10-05 00:00:00"
      ]
     },
     "execution_count": 15,
     "metadata": {},
     "output_type": "execute_result"
    }
   ],
   "source": [
    "listings[['host_since','first_review','last_review']].describe()"
   ]
  },
  {
   "cell_type": "markdown",
   "metadata": {},
   "source": [
    "**Notes for handling Missing Values**\n",
    "\n",
    "host_since:\n",
    "- Take the date of first_review where avilable.\n",
    "- In some records, the date of first review is before the host_date. It is possible that \n",
    "    - the listing was changed at a later date - Update first_review date to host_date\n",
    "    - the dates were read in the wrong order - Swap the first_review_date and host_date"
   ]
  },
  {
   "cell_type": "code",
   "execution_count": 16,
   "metadata": {},
   "outputs": [],
   "source": [
    "def handle_missing(df):\n",
    "    temp_df = df.copy()\n",
    "    \n",
    "    # Fill the Host Since column with the date of first review if available\n",
    "    temp_df.host_since = df.host_since.fillna(df.first_review)\n",
    "    \n",
    "    # Fill the Thumbnails Column and recode it \n",
    "    temp_df.thumbnail_url.fillna(0, inplace=True)\n",
    "    temp_df.loc[temp_df.thumbnail_url != 0, ['thumbnail_url']] = 1\n",
    "    \n",
    "    # Fill missing values for some columns with 0\n",
    "    temp_df.bedrooms.fillna(0, inplace = True)\n",
    "    temp_df.bathrooms.fillna(0, inplace = True)\n",
    "    temp_df.beds.fillna(0, inplace = True)\n",
    "    \n",
    "    # Drop the rows with missing values for particular  columns\n",
    "    temp_df.dropna(subset = ['host_since','host_has_profile_pic'], inplace = True)\n",
    "    \n",
    "    # Drop the columns that have a lot of missing values and are not useful for analysis\n",
    "    #temp_df.drop(['first_review','last_review','zipcode'], axis = 1, inplace = True)\n",
    "    \n",
    "    return temp_df"
   ]
  },
  {
   "cell_type": "code",
   "execution_count": 17,
   "metadata": {},
   "outputs": [
    {
     "data": {
      "text/plain": [
       "host_response_rate      18111\n",
       "review_scores_rating    16675\n",
       "first_review            15822\n",
       "last_review             15791\n",
       "zipcode                   580\n",
       "dtype: int64"
      ]
     },
     "execution_count": 17,
     "metadata": {},
     "output_type": "execute_result"
    }
   ],
   "source": [
    "listings = handle_missing(listings)\n",
    "show_cols_with_missing(listings)"
   ]
  },
  {
   "cell_type": "markdown",
   "metadata": {},
   "source": [
    "### Data Preprocessing"
   ]
  },
  {
   "cell_type": "markdown",
   "metadata": {},
   "source": [
    "**Function for calculating distance to attractions**\n",
    "\n",
    "We have the attractions.csv file that contains the lat long of top 3 attractions in each of the 6 states. We us this to calculate the distance from the listing to each of those locations."
   ]
  },
  {
   "cell_type": "code",
   "execution_count": 18,
   "metadata": {},
   "outputs": [],
   "source": [
    "#https://stackoverflow.com/questions/29545704/fast-haversine-approximation-python-pandas\n",
    "def haversine_np(lat1, lon1, lat2, lon2):\n",
    "    \"\"\"\n",
    "    Calculate the great circle distance between two points\n",
    "    on the earth (specified in decimal degrees)\n",
    "\n",
    "    All args must be of equal length.    \n",
    "\n",
    "    \"\"\"\n",
    "    lon1, lat1, lon2, lat2 = map(np.radians, [lon1, lat1, lon2, lat2])\n",
    "\n",
    "    dlon = lon2 - lon1\n",
    "    dlat = lat2 - lat1\n",
    "\n",
    "    a = np.sin(dlat/2.0)**2 + np.cos(lat1) * np.cos(lat2) * np.sin(dlon/2.0)**2\n",
    "\n",
    "    c = 2 * np.arcsin(np.sqrt(a))\n",
    "    km = 6372.8 * c\n",
    "    return km"
   ]
  },
  {
   "cell_type": "code",
   "execution_count": 19,
   "metadata": {},
   "outputs": [
    {
     "name": "stdout",
     "output_type": "stream",
     "text": [
      "<class 'pandas.core.frame.DataFrame'>\n",
      "RangeIndex: 6 entries, 0 to 5\n",
      "Data columns (total 10 columns):\n",
      "city                6 non-null object\n",
      "attraction1         6 non-null object\n",
      "attraction1_lat     6 non-null float64\n",
      "attraction1_long    6 non-null float64\n",
      "attraction2         6 non-null object\n",
      "attraction2_lat     6 non-null float64\n",
      "attraction2_long    6 non-null float64\n",
      "attraction3         6 non-null object\n",
      "attraction3_lat     6 non-null float64\n",
      "attraction3_long    6 non-null float64\n",
      "dtypes: float64(6), object(4)\n",
      "memory usage: 560.0+ bytes\n"
     ]
    }
   ],
   "source": [
    "# Check the structure of the attractions data\n",
    "attractions.info()"
   ]
  },
  {
   "cell_type": "markdown",
   "metadata": {},
   "source": [
    "**Function to calculate distance to attractions given the LatLong**"
   ]
  },
  {
   "cell_type": "code",
   "execution_count": 20,
   "metadata": {},
   "outputs": [],
   "source": [
    "def calc_dist_to_attractions(df):\n",
    "    df = pd.merge(df,attractions, on='city', how=\"left\", indicator=False)\n",
    "    df = df.assign(\n",
    "        dist_to_attr1 = haversine_np(df[\"attraction1_lat\"],df[\"attraction1_long\"],df[\"latitude\"],df[\"longitude\"]),\n",
    "        dist_to_attr2 = haversine_np(df[\"attraction2_lat\"],df[\"attraction2_long\"],df[\"latitude\"],df[\"longitude\"]),\n",
    "        dist_to_attr3 = haversine_np(df[\"attraction3_lat\"],df[\"attraction3_long\"],df[\"latitude\"],df[\"longitude\"])\n",
    "    )\n",
    "    df.drop([\"attraction1\",\"attraction2\",\"attraction3\", \"attraction1_lat\",\"attraction1_long\",\"attraction2_lat\",\"attraction2_long\",\"attraction3_lat\",\"attraction3_long\" ],axis = 1,inplace = True) \n",
    "    return df"
   ]
  },
  {
   "cell_type": "markdown",
   "metadata": {},
   "source": [
    "**Function to calculate distance to closest railway station given the LatLong**"
   ]
  },
  {
   "cell_type": "code",
   "execution_count": 21,
   "metadata": {},
   "outputs": [],
   "source": [
    "def calc_dist_to_closest_station(df):\n",
    "    \n",
    "    # Rename Columns in the stations dataset\n",
    "    stations.columns = ['city', 'station_name', 'station_lat', 'station_long']\n",
    "    \n",
    "    # join with selected columns from the listings dataset\n",
    "    df1 = df[['id','city','latitude','longitude']].merge(stations, on='city', how=\"inner\", indicator=False)\n",
    "    \n",
    "    # Calculate the distance and save to a new column\n",
    "    df1 = df1.assign(\n",
    "        dist_to_station = haversine_np(df1[\"station_lat\"],df1[\"station_long\"],df1[\"latitude\"],df1[\"longitude\"])\n",
    "    )\n",
    "    \n",
    "    \n",
    "    df2 = df1.sort_values(['id', 'dist_to_station']).drop_duplicates(['id'])\n",
    "    df1 = df.merge(df2[['id','dist_to_station']], on =\"id\", how = \"inner\", indicator = False)\n",
    "    return df1"
   ]
  },
  {
   "cell_type": "code",
   "execution_count": 22,
   "metadata": {},
   "outputs": [
    {
     "data": {
      "text/html": [
       "<div>\n",
       "<style scoped>\n",
       "    .dataframe tbody tr th:only-of-type {\n",
       "        vertical-align: middle;\n",
       "    }\n",
       "\n",
       "    .dataframe tbody tr th {\n",
       "        vertical-align: top;\n",
       "    }\n",
       "\n",
       "    .dataframe thead th {\n",
       "        text-align: right;\n",
       "    }\n",
       "</style>\n",
       "<table border=\"1\" class=\"dataframe\">\n",
       "  <thead>\n",
       "    <tr style=\"text-align: right;\">\n",
       "      <th></th>\n",
       "      <th>id</th>\n",
       "      <th>log_price</th>\n",
       "      <th>property_type</th>\n",
       "      <th>room_type</th>\n",
       "      <th>amenities</th>\n",
       "      <th>accommodates</th>\n",
       "      <th>bathrooms</th>\n",
       "      <th>bed_type</th>\n",
       "      <th>cancellation_policy</th>\n",
       "      <th>cleaning_fee</th>\n",
       "      <th>...</th>\n",
       "      <th>number_of_reviews</th>\n",
       "      <th>review_scores_rating</th>\n",
       "      <th>thumbnail_url</th>\n",
       "      <th>zipcode</th>\n",
       "      <th>bedrooms</th>\n",
       "      <th>beds</th>\n",
       "      <th>dist_to_attr1</th>\n",
       "      <th>dist_to_attr2</th>\n",
       "      <th>dist_to_attr3</th>\n",
       "      <th>dist_to_station</th>\n",
       "    </tr>\n",
       "  </thead>\n",
       "  <tbody>\n",
       "    <tr>\n",
       "      <th>0</th>\n",
       "      <td>6901257</td>\n",
       "      <td>5.010635</td>\n",
       "      <td>Apartment</td>\n",
       "      <td>Entire home/apt</td>\n",
       "      <td>{\"Wireless Internet\",\"Air conditioning\",Kitche...</td>\n",
       "      <td>3</td>\n",
       "      <td>1.0</td>\n",
       "      <td>Real Bed</td>\n",
       "      <td>strict</td>\n",
       "      <td>True</td>\n",
       "      <td>...</td>\n",
       "      <td>2</td>\n",
       "      <td>100.0</td>\n",
       "      <td>1</td>\n",
       "      <td>11201</td>\n",
       "      <td>1.0</td>\n",
       "      <td>1.0</td>\n",
       "      <td>4.533604</td>\n",
       "      <td>9.858104</td>\n",
       "      <td>6.974862</td>\n",
       "      <td>0.162282</td>\n",
       "    </tr>\n",
       "    <tr>\n",
       "      <th>1</th>\n",
       "      <td>6304928</td>\n",
       "      <td>5.129899</td>\n",
       "      <td>Apartment</td>\n",
       "      <td>Entire home/apt</td>\n",
       "      <td>{\"Wireless Internet\",\"Air conditioning\",Kitche...</td>\n",
       "      <td>7</td>\n",
       "      <td>1.0</td>\n",
       "      <td>Real Bed</td>\n",
       "      <td>strict</td>\n",
       "      <td>True</td>\n",
       "      <td>...</td>\n",
       "      <td>6</td>\n",
       "      <td>93.0</td>\n",
       "      <td>1</td>\n",
       "      <td>10019</td>\n",
       "      <td>3.0</td>\n",
       "      <td>3.0</td>\n",
       "      <td>9.748908</td>\n",
       "      <td>2.729491</td>\n",
       "      <td>0.878994</td>\n",
       "      <td>0.481606</td>\n",
       "    </tr>\n",
       "    <tr>\n",
       "      <th>2</th>\n",
       "      <td>7919400</td>\n",
       "      <td>4.976734</td>\n",
       "      <td>Apartment</td>\n",
       "      <td>Entire home/apt</td>\n",
       "      <td>{TV,\"Cable TV\",\"Wireless Internet\",\"Air condit...</td>\n",
       "      <td>5</td>\n",
       "      <td>1.0</td>\n",
       "      <td>Real Bed</td>\n",
       "      <td>moderate</td>\n",
       "      <td>True</td>\n",
       "      <td>...</td>\n",
       "      <td>10</td>\n",
       "      <td>92.0</td>\n",
       "      <td>1</td>\n",
       "      <td>10027</td>\n",
       "      <td>1.0</td>\n",
       "      <td>3.0</td>\n",
       "      <td>15.715851</td>\n",
       "      <td>3.344257</td>\n",
       "      <td>6.450707</td>\n",
       "      <td>0.151675</td>\n",
       "    </tr>\n",
       "    <tr>\n",
       "      <th>3</th>\n",
       "      <td>13418779</td>\n",
       "      <td>6.620073</td>\n",
       "      <td>House</td>\n",
       "      <td>Entire home/apt</td>\n",
       "      <td>{TV,\"Cable TV\",Internet,\"Wireless Internet\",Ki...</td>\n",
       "      <td>4</td>\n",
       "      <td>1.0</td>\n",
       "      <td>Real Bed</td>\n",
       "      <td>flexible</td>\n",
       "      <td>True</td>\n",
       "      <td>...</td>\n",
       "      <td>0</td>\n",
       "      <td>NaN</td>\n",
       "      <td>1</td>\n",
       "      <td>94117</td>\n",
       "      <td>2.0</td>\n",
       "      <td>2.0</td>\n",
       "      <td>6.724060</td>\n",
       "      <td>6.163671</td>\n",
       "      <td>4.509624</td>\n",
       "      <td>1.302130</td>\n",
       "    </tr>\n",
       "    <tr>\n",
       "      <th>4</th>\n",
       "      <td>3808709</td>\n",
       "      <td>4.744932</td>\n",
       "      <td>Apartment</td>\n",
       "      <td>Entire home/apt</td>\n",
       "      <td>{TV,Internet,\"Wireless Internet\",\"Air conditio...</td>\n",
       "      <td>2</td>\n",
       "      <td>1.0</td>\n",
       "      <td>Real Bed</td>\n",
       "      <td>moderate</td>\n",
       "      <td>True</td>\n",
       "      <td>...</td>\n",
       "      <td>4</td>\n",
       "      <td>40.0</td>\n",
       "      <td>0</td>\n",
       "      <td>20009</td>\n",
       "      <td>0.0</td>\n",
       "      <td>1.0</td>\n",
       "      <td>3.110579</td>\n",
       "      <td>4.260263</td>\n",
       "      <td>4.061666</td>\n",
       "      <td>0.373534</td>\n",
       "    </tr>\n",
       "  </tbody>\n",
       "</table>\n",
       "<p>5 rows × 33 columns</p>\n",
       "</div>"
      ],
      "text/plain": [
       "         id  log_price property_type        room_type  \\\n",
       "0   6901257   5.010635     Apartment  Entire home/apt   \n",
       "1   6304928   5.129899     Apartment  Entire home/apt   \n",
       "2   7919400   4.976734     Apartment  Entire home/apt   \n",
       "3  13418779   6.620073         House  Entire home/apt   \n",
       "4   3808709   4.744932     Apartment  Entire home/apt   \n",
       "\n",
       "                                           amenities  accommodates  bathrooms  \\\n",
       "0  {\"Wireless Internet\",\"Air conditioning\",Kitche...             3        1.0   \n",
       "1  {\"Wireless Internet\",\"Air conditioning\",Kitche...             7        1.0   \n",
       "2  {TV,\"Cable TV\",\"Wireless Internet\",\"Air condit...             5        1.0   \n",
       "3  {TV,\"Cable TV\",Internet,\"Wireless Internet\",Ki...             4        1.0   \n",
       "4  {TV,Internet,\"Wireless Internet\",\"Air conditio...             2        1.0   \n",
       "\n",
       "   bed_type cancellation_policy  cleaning_fee       ...         \\\n",
       "0  Real Bed              strict          True       ...          \n",
       "1  Real Bed              strict          True       ...          \n",
       "2  Real Bed            moderate          True       ...          \n",
       "3  Real Bed            flexible          True       ...          \n",
       "4  Real Bed            moderate          True       ...          \n",
       "\n",
       "  number_of_reviews review_scores_rating thumbnail_url zipcode bedrooms beds  \\\n",
       "0                 2                100.0             1   11201      1.0  1.0   \n",
       "1                 6                 93.0             1   10019      3.0  3.0   \n",
       "2                10                 92.0             1   10027      1.0  3.0   \n",
       "3                 0                  NaN             1   94117      2.0  2.0   \n",
       "4                 4                 40.0             0   20009      0.0  1.0   \n",
       "\n",
       "  dist_to_attr1 dist_to_attr2 dist_to_attr3  dist_to_station  \n",
       "0      4.533604      9.858104      6.974862         0.162282  \n",
       "1      9.748908      2.729491      0.878994         0.481606  \n",
       "2     15.715851      3.344257      6.450707         0.151675  \n",
       "3      6.724060      6.163671      4.509624         1.302130  \n",
       "4      3.110579      4.260263      4.061666         0.373534  \n",
       "\n",
       "[5 rows x 33 columns]"
      ]
     },
     "execution_count": 22,
     "metadata": {},
     "output_type": "execute_result"
    }
   ],
   "source": [
    "# Update Listings with the new columns\n",
    "listings = calc_dist_to_attractions(listings)   \n",
    "listings = calc_dist_to_closest_station(listings)   \n",
    "    \n",
    "listings.head()"
   ]
  },
  {
   "cell_type": "markdown",
   "metadata": {},
   "source": [
    "**Function to preprocess the features**"
   ]
  },
  {
   "cell_type": "code",
   "execution_count": 23,
   "metadata": {},
   "outputs": [],
   "source": [
    "# Controls for the below function\n",
    "recode_features = True"
   ]
  },
  {
   "cell_type": "code",
   "execution_count": 24,
   "metadata": {},
   "outputs": [],
   "source": [
    "# Function to Preprocess the Data\n",
    "def preprocess(df, test_data = False):\n",
    "    \n",
    "    global recode_features, most_recent_date\n",
    "    \n",
    "    temp_df = df.copy()\n",
    "    \n",
    "    #Recode features where required\n",
    "    if recode_features == True:\n",
    "        temp_df = temp_df.replace(\n",
    "            {\n",
    "            'host_has_profile_pic': {'t': True, 'f': False},\n",
    "            'host_identity_verified': {'t': True, 'f': False},\n",
    "            'instant_bookable': {'t': True, 'f': False},\n",
    "            'cancellation_policy': {'super_strict_30':'strict','super_strict_60':'strict'}\n",
    "            }\n",
    "        )\n",
    "        \n",
    "        ## Recode propoerty_type\n",
    "        def recode_prop(value):\n",
    "            if value not in ['House', 'Apartment']:\n",
    "                return 'other_prop_type'\n",
    "            return value\n",
    "\n",
    "        temp_df['property_type'] = temp_df['property_type'].apply(recode_prop)\n",
    "\n",
    "        ## Recode bed_type\n",
    "        def recode_bed(value):\n",
    "            if value not in ['Real Bed']:\n",
    "                return 'other_bed_type'\n",
    "            return value\n",
    "\n",
    "        temp_df['bed_type'] = temp_df['bed_type'].apply(recode_bed)\n",
    "    \n",
    "        recode_features = False\n",
    "    \n",
    "    #Convert date fields into days_since and useful components\n",
    "    ## Calculate the Maximum Date Present in the Data\n",
    "    if test_data == False:\n",
    "        most_recent_date = get_max_date(temp_df)\n",
    "    print(\"Reference Date Used: \", most_recent_date)\n",
    "    \n",
    "    ## Derive the new columns\n",
    "    temp_df = temp_df.assign(\n",
    "        year_of_listing = temp_df.host_since.dt.year,\n",
    "        month_of_listing = temp_df.host_since.dt.month,\n",
    "        days_since_hosted = (most_recent_date - temp_df.host_since)/np.timedelta64(1, 'D'),\n",
    "        price = np.exp(listings['log_price']),\n",
    "        host_response_rate = temp_df.host_response_rate.str.strip('%').astype(float)/100\n",
    "        \n",
    "        #days_since_first_review = (most_recent_date - temp_df.first_review)/np.timedelta64(1, 'D'),\n",
    "        #days_since_last_review = (most_recent_date - temp_df.last_review)/np.timedelta64(1, 'D')\n",
    "    )\n",
    "    \n",
    "    # Calculate the bedroom and bathroom share per person. Higher the share, more the comfort.\n",
    "    temp_df = temp_df.assign(\n",
    "        bedroom_share = temp_df.bedrooms/temp_df.accommodates,\n",
    "        bathroom_share = temp_df.bathrooms/temp_df.accommodates\n",
    "    )\n",
    "    \n",
    "    # Drop the Features that are not needed\n",
    "    #temp_df.drop(['beds', 'bedrooms', 'bathrooms', 'first_review','last_review','zipcode' ], axis = 1, inplace = True)\n",
    "    \n",
    "    df = temp_df\n",
    "    print(\"Preprocessing Completed\")\n",
    "    \n",
    "    return df"
   ]
  },
  {
   "cell_type": "code",
   "execution_count": 25,
   "metadata": {},
   "outputs": [
    {
     "name": "stdout",
     "output_type": "stream",
     "text": [
      "Reference Date Used:  2017-10-05 00:00:00\n",
      "Preprocessing Completed\n"
     ]
    }
   ],
   "source": [
    "# Preprocess the Listings data\n",
    "listings = preprocess(listings)"
   ]
  },
  {
   "cell_type": "code",
   "execution_count": 26,
   "metadata": {},
   "outputs": [],
   "source": [
    "# Create Dummy Columns\n",
    "def create_dummies(df, columns = ['room_type', 'city', 'property_type', 'bed_type', 'cancellation_policy']):\n",
    "    for column in columns:\n",
    "        dummies = pd.get_dummies(df[column], prefix = column)\n",
    "        df = pd.concat([df,dummies], axis = 1)\n",
    "    return df"
   ]
  },
  {
   "cell_type": "code",
   "execution_count": 27,
   "metadata": {},
   "outputs": [],
   "source": [
    "# Create the required dummy columns, By default creates for 'room_type' and 'city'\n",
    "listings = create_dummies(listings)"
   ]
  },
  {
   "cell_type": "markdown",
   "metadata": {},
   "source": [
    "#### Add in Columns from Topic Modeling"
   ]
  },
  {
   "cell_type": "code",
   "execution_count": 28,
   "metadata": {},
   "outputs": [],
   "source": [
    "# Read in the data\n",
    "description_data = pd.read_csv(\"../data/airbnb_listings_LDA.csv\")"
   ]
  },
  {
   "cell_type": "code",
   "execution_count": 29,
   "metadata": {},
   "outputs": [
    {
     "name": "stdout",
     "output_type": "stream",
     "text": [
      "<class 'pandas.core.frame.DataFrame'>\n",
      "RangeIndex: 74111 entries, 0 to 74110\n",
      "Data columns (total 8 columns):\n",
      "id                     74111 non-null int64\n",
      "description            74111 non-null object\n",
      "Description_Length     74111 non-null float64\n",
      "Sentiment_intensity    74111 non-null float64\n",
      "LDA_attractions        74111 non-null float64\n",
      "LDA_transport          74111 non-null float64\n",
      "LDA_amenities          74111 non-null float64\n",
      "LDA_property_desc      74111 non-null float64\n",
      "dtypes: float64(6), int64(1), object(1)\n",
      "memory usage: 4.5+ MB\n"
     ]
    }
   ],
   "source": [
    "# Check the column names\n",
    "description_data.info()"
   ]
  },
  {
   "cell_type": "code",
   "execution_count": 30,
   "metadata": {},
   "outputs": [],
   "source": [
    "# Rename Columns to standard format\n",
    "description_data.columns = ['id', 'description', 'description_length', \n",
    "                            'sentiment_intensity', 'lda_attractions', \n",
    "                            'lda_transport', 'lda_amenities', 'lda_property_desc']\n",
    "\n",
    "# Change data type of id column\n",
    "description_data.id = description_data.id.astype(str)\n",
    "\n",
    "# Drop the description column to avoid duplicates\n",
    "description_data.drop('description', axis = 1, inplace = True)\n",
    "\n",
    "# Join the Data from Descriptions to the listings data\n",
    "listings = listings.merge(description_data, how = \"inner\", on = 'id')\n",
    "\n",
    "# Drop the description column in listings data as that is no longer required\n",
    "listings.drop('description', axis = 1, inplace = True)\n"
   ]
  },
  {
   "cell_type": "markdown",
   "metadata": {},
   "source": [
    "#### Pre-Processing AMENITIES"
   ]
  },
  {
   "cell_type": "code",
   "execution_count": 31,
   "metadata": {},
   "outputs": [],
   "source": [
    "#Blank missing values in Amenities column\n",
    "listings.loc[listings['amenities'] == '{}','amenities'] = \"\"\n",
    "\n",
    "#Remove the symbols and one hot encode the amenities feature\n",
    "listings['amenities'] = listings['amenities'].map(\n",
    "    lambda amns: \"|\".join([amn.replace(\"}\", \"\").replace(\"{\", \"\").replace('\"', \"\")\\\n",
    "                           for amn in amns.split(\",\")]))\n",
    "\n",
    "amenities = np.unique(np.concatenate(listings['amenities'].map(lambda amns: amns.split(\"|\")).values))\n",
    "\n",
    "amenities_matrix = np.array([listings['amenities'].map(lambda amns: amn in amns).values for amn in amenities])\n",
    "amen=pd.DataFrame(data=amenities_matrix.T, columns=amenities)"
   ]
  },
  {
   "cell_type": "code",
   "execution_count": 32,
   "metadata": {
    "scrolled": true
   },
   "outputs": [],
   "source": [
    "#Find important features from the amenities for target price prediction\n",
    "listings_amenities = pd.concat([amen,listings[['id','log_price']]], axis=1)"
   ]
  },
  {
   "cell_type": "code",
   "execution_count": 33,
   "metadata": {},
   "outputs": [
    {
     "data": {
      "text/html": [
       "<div>\n",
       "<style scoped>\n",
       "    .dataframe tbody tr th:only-of-type {\n",
       "        vertical-align: middle;\n",
       "    }\n",
       "\n",
       "    .dataframe tbody tr th {\n",
       "        vertical-align: top;\n",
       "    }\n",
       "\n",
       "    .dataframe thead th {\n",
       "        text-align: right;\n",
       "    }\n",
       "</style>\n",
       "<table border=\"1\" class=\"dataframe\">\n",
       "  <thead>\n",
       "    <tr style=\"text-align: right;\">\n",
       "      <th></th>\n",
       "      <th></th>\n",
       "      <th>smooth pathway to front door</th>\n",
       "      <th>24-hour check-in</th>\n",
       "      <th>Accessible-height bed</th>\n",
       "      <th>Accessible-height toilet</th>\n",
       "      <th>Air conditioning</th>\n",
       "      <th>Air purifier</th>\n",
       "      <th>BBQ grill</th>\n",
       "      <th>Baby bath</th>\n",
       "      <th>Baby monitor</th>\n",
       "      <th>...</th>\n",
       "      <th>Wide clearance to shower and toilet</th>\n",
       "      <th>Wide doorway</th>\n",
       "      <th>Wide entryway</th>\n",
       "      <th>Wide hallway clearance</th>\n",
       "      <th>Window guards</th>\n",
       "      <th>Wireless Internet</th>\n",
       "      <th>translation missing: en.hosting_amenity_49</th>\n",
       "      <th>translation missing: en.hosting_amenity_50</th>\n",
       "      <th>id</th>\n",
       "      <th>log_price</th>\n",
       "    </tr>\n",
       "  </thead>\n",
       "  <tbody>\n",
       "    <tr>\n",
       "      <th>0</th>\n",
       "      <td>True</td>\n",
       "      <td>False</td>\n",
       "      <td>False</td>\n",
       "      <td>False</td>\n",
       "      <td>False</td>\n",
       "      <td>True</td>\n",
       "      <td>False</td>\n",
       "      <td>False</td>\n",
       "      <td>False</td>\n",
       "      <td>False</td>\n",
       "      <td>...</td>\n",
       "      <td>False</td>\n",
       "      <td>False</td>\n",
       "      <td>False</td>\n",
       "      <td>False</td>\n",
       "      <td>False</td>\n",
       "      <td>True</td>\n",
       "      <td>False</td>\n",
       "      <td>True</td>\n",
       "      <td>6901257</td>\n",
       "      <td>5.010635</td>\n",
       "    </tr>\n",
       "    <tr>\n",
       "      <th>1</th>\n",
       "      <td>True</td>\n",
       "      <td>False</td>\n",
       "      <td>False</td>\n",
       "      <td>False</td>\n",
       "      <td>False</td>\n",
       "      <td>True</td>\n",
       "      <td>False</td>\n",
       "      <td>False</td>\n",
       "      <td>False</td>\n",
       "      <td>False</td>\n",
       "      <td>...</td>\n",
       "      <td>False</td>\n",
       "      <td>False</td>\n",
       "      <td>False</td>\n",
       "      <td>False</td>\n",
       "      <td>False</td>\n",
       "      <td>True</td>\n",
       "      <td>False</td>\n",
       "      <td>True</td>\n",
       "      <td>6304928</td>\n",
       "      <td>5.129899</td>\n",
       "    </tr>\n",
       "    <tr>\n",
       "      <th>2</th>\n",
       "      <td>True</td>\n",
       "      <td>False</td>\n",
       "      <td>False</td>\n",
       "      <td>False</td>\n",
       "      <td>False</td>\n",
       "      <td>True</td>\n",
       "      <td>False</td>\n",
       "      <td>False</td>\n",
       "      <td>False</td>\n",
       "      <td>False</td>\n",
       "      <td>...</td>\n",
       "      <td>False</td>\n",
       "      <td>False</td>\n",
       "      <td>False</td>\n",
       "      <td>False</td>\n",
       "      <td>False</td>\n",
       "      <td>True</td>\n",
       "      <td>False</td>\n",
       "      <td>True</td>\n",
       "      <td>7919400</td>\n",
       "      <td>4.976734</td>\n",
       "    </tr>\n",
       "    <tr>\n",
       "      <th>3</th>\n",
       "      <td>True</td>\n",
       "      <td>False</td>\n",
       "      <td>False</td>\n",
       "      <td>False</td>\n",
       "      <td>False</td>\n",
       "      <td>False</td>\n",
       "      <td>False</td>\n",
       "      <td>False</td>\n",
       "      <td>False</td>\n",
       "      <td>False</td>\n",
       "      <td>...</td>\n",
       "      <td>False</td>\n",
       "      <td>False</td>\n",
       "      <td>False</td>\n",
       "      <td>False</td>\n",
       "      <td>False</td>\n",
       "      <td>True</td>\n",
       "      <td>False</td>\n",
       "      <td>False</td>\n",
       "      <td>13418779</td>\n",
       "      <td>6.620073</td>\n",
       "    </tr>\n",
       "    <tr>\n",
       "      <th>4</th>\n",
       "      <td>True</td>\n",
       "      <td>False</td>\n",
       "      <td>False</td>\n",
       "      <td>False</td>\n",
       "      <td>False</td>\n",
       "      <td>True</td>\n",
       "      <td>False</td>\n",
       "      <td>False</td>\n",
       "      <td>False</td>\n",
       "      <td>False</td>\n",
       "      <td>...</td>\n",
       "      <td>False</td>\n",
       "      <td>False</td>\n",
       "      <td>False</td>\n",
       "      <td>False</td>\n",
       "      <td>False</td>\n",
       "      <td>True</td>\n",
       "      <td>False</td>\n",
       "      <td>False</td>\n",
       "      <td>3808709</td>\n",
       "      <td>4.744932</td>\n",
       "    </tr>\n",
       "  </tbody>\n",
       "</table>\n",
       "<p>5 rows × 133 columns</p>\n",
       "</div>"
      ],
      "text/plain": [
       "          smooth pathway to front door  24-hour check-in  \\\n",
       "0  True                          False             False   \n",
       "1  True                          False             False   \n",
       "2  True                          False             False   \n",
       "3  True                          False             False   \n",
       "4  True                          False             False   \n",
       "\n",
       "   Accessible-height bed  Accessible-height toilet  Air conditioning  \\\n",
       "0                  False                     False              True   \n",
       "1                  False                     False              True   \n",
       "2                  False                     False              True   \n",
       "3                  False                     False             False   \n",
       "4                  False                     False              True   \n",
       "\n",
       "   Air purifier  BBQ grill  Baby bath  Baby monitor    ...      \\\n",
       "0         False      False      False         False    ...       \n",
       "1         False      False      False         False    ...       \n",
       "2         False      False      False         False    ...       \n",
       "3         False      False      False         False    ...       \n",
       "4         False      False      False         False    ...       \n",
       "\n",
       "   Wide clearance to shower and toilet  Wide doorway  Wide entryway  \\\n",
       "0                                False         False          False   \n",
       "1                                False         False          False   \n",
       "2                                False         False          False   \n",
       "3                                False         False          False   \n",
       "4                                False         False          False   \n",
       "\n",
       "   Wide hallway clearance  Window guards  Wireless Internet  \\\n",
       "0                   False          False               True   \n",
       "1                   False          False               True   \n",
       "2                   False          False               True   \n",
       "3                   False          False               True   \n",
       "4                   False          False               True   \n",
       "\n",
       "   translation missing: en.hosting_amenity_49  \\\n",
       "0                                       False   \n",
       "1                                       False   \n",
       "2                                       False   \n",
       "3                                       False   \n",
       "4                                       False   \n",
       "\n",
       "   translation missing: en.hosting_amenity_50        id  log_price  \n",
       "0                                        True   6901257   5.010635  \n",
       "1                                        True   6304928   5.129899  \n",
       "2                                        True   7919400   4.976734  \n",
       "3                                       False  13418779   6.620073  \n",
       "4                                       False   3808709   4.744932  \n",
       "\n",
       "[5 rows x 133 columns]"
      ]
     },
     "execution_count": 33,
     "metadata": {},
     "output_type": "execute_result"
    }
   ],
   "source": [
    "listings_amenities.head()"
   ]
  },
  {
   "cell_type": "code",
   "execution_count": 34,
   "metadata": {},
   "outputs": [],
   "source": [
    "#Remove junk amenities from the created features\n",
    "listings_amenities=listings_amenities.drop(columns=['','translation missing: en.hosting_amenity_49','translation missing: en.hosting_amenity_50'])\n",
    "\n",
    "#Convert the amenities table into long format\n",
    "listings_amenities_long = listings_amenities.melt(id_vars=['id', 'log_price'], var_name='amenity')"
   ]
  },
  {
   "cell_type": "markdown",
   "metadata": {},
   "source": [
    "Take a count of all the amenities present in the Data"
   ]
  },
  {
   "cell_type": "code",
   "execution_count": 35,
   "metadata": {},
   "outputs": [],
   "source": [
    "amenity_counts = listings_amenities.drop(['id','log_price'], axis = 1).sum(axis = 0)"
   ]
  },
  {
   "cell_type": "markdown",
   "metadata": {},
   "source": [
    "We can explore that data using the below code. Kept for reference and Debugging"
   ]
  },
  {
   "cell_type": "code",
   "execution_count": 36,
   "metadata": {},
   "outputs": [
    {
     "data": {
      "text/plain": [
       "Flat                             406\n",
       " smooth pathway to front door    406\n",
       "dtype: int64"
      ]
     },
     "execution_count": 36,
     "metadata": {},
     "output_type": "execute_result"
    }
   ],
   "source": [
    "amenity_counts.sort_values(ascending = False)[['Flat',' smooth pathway to front door']]"
   ]
  },
  {
   "cell_type": "markdown",
   "metadata": {},
   "source": [
    "We observe that the above 2 columns are most probably the same."
   ]
  },
  {
   "cell_type": "code",
   "execution_count": 37,
   "metadata": {},
   "outputs": [
    {
     "data": {
      "text/html": [
       "<div>\n",
       "<style scoped>\n",
       "    .dataframe tbody tr th:only-of-type {\n",
       "        vertical-align: middle;\n",
       "    }\n",
       "\n",
       "    .dataframe tbody tr th {\n",
       "        vertical-align: top;\n",
       "    }\n",
       "\n",
       "    .dataframe thead th {\n",
       "        text-align: right;\n",
       "    }\n",
       "</style>\n",
       "<table border=\"1\" class=\"dataframe\">\n",
       "  <thead>\n",
       "    <tr style=\"text-align: right;\">\n",
       "      <th></th>\n",
       "      <th>EV charger</th>\n",
       "      <th>Free parking on premises</th>\n",
       "      <th>Free parking on street</th>\n",
       "      <th>Paid parking off premises</th>\n",
       "    </tr>\n",
       "  </thead>\n",
       "  <tbody>\n",
       "    <tr>\n",
       "      <th>EV charger</th>\n",
       "      <td>1.000000</td>\n",
       "      <td>0.007153</td>\n",
       "      <td>-0.000832</td>\n",
       "      <td>-0.000251</td>\n",
       "    </tr>\n",
       "    <tr>\n",
       "      <th>Free parking on premises</th>\n",
       "      <td>0.007153</td>\n",
       "      <td>1.000000</td>\n",
       "      <td>-0.006835</td>\n",
       "      <td>-0.006668</td>\n",
       "    </tr>\n",
       "    <tr>\n",
       "      <th>Free parking on street</th>\n",
       "      <td>-0.000832</td>\n",
       "      <td>-0.006835</td>\n",
       "      <td>1.000000</td>\n",
       "      <td>-0.000314</td>\n",
       "    </tr>\n",
       "    <tr>\n",
       "      <th>Paid parking off premises</th>\n",
       "      <td>-0.000251</td>\n",
       "      <td>-0.006668</td>\n",
       "      <td>-0.000314</td>\n",
       "      <td>1.000000</td>\n",
       "    </tr>\n",
       "  </tbody>\n",
       "</table>\n",
       "</div>"
      ],
      "text/plain": [
       "                           EV charger  Free parking on premises  \\\n",
       "EV charger                   1.000000                  0.007153   \n",
       "Free parking on premises     0.007153                  1.000000   \n",
       "Free parking on street      -0.000832                 -0.006835   \n",
       "Paid parking off premises   -0.000251                 -0.006668   \n",
       "\n",
       "                           Free parking on street  Paid parking off premises  \n",
       "EV charger                              -0.000832                  -0.000251  \n",
       "Free parking on premises                -0.006835                  -0.006668  \n",
       "Free parking on street                   1.000000                  -0.000314  \n",
       "Paid parking off premises               -0.000314                   1.000000  "
      ]
     },
     "execution_count": 37,
     "metadata": {},
     "output_type": "execute_result"
    }
   ],
   "source": [
    "listings_amenities[['EV charger','Free parking on premises','Free parking on street','Paid parking off premises']].corr()"
   ]
  },
  {
   "cell_type": "markdown",
   "metadata": {},
   "source": [
    "Looking at the correlation is not really useful for categorical values. Thus we explore the amenities using Two Way tables"
   ]
  },
  {
   "cell_type": "code",
   "execution_count": 38,
   "metadata": {},
   "outputs": [
    {
     "data": {
      "text/html": [
       "<div>\n",
       "<style scoped>\n",
       "    .dataframe tbody tr th:only-of-type {\n",
       "        vertical-align: middle;\n",
       "    }\n",
       "\n",
       "    .dataframe tbody tr th {\n",
       "        vertical-align: top;\n",
       "    }\n",
       "\n",
       "    .dataframe thead th {\n",
       "        text-align: right;\n",
       "    }\n",
       "</style>\n",
       "<table border=\"1\" class=\"dataframe\">\n",
       "  <thead>\n",
       "    <tr style=\"text-align: right;\">\n",
       "      <th>Refrigerator</th>\n",
       "      <th>False</th>\n",
       "      <th>True</th>\n",
       "    </tr>\n",
       "    <tr>\n",
       "      <th>Coffee maker</th>\n",
       "      <th></th>\n",
       "      <th></th>\n",
       "    </tr>\n",
       "  </thead>\n",
       "  <tbody>\n",
       "    <tr>\n",
       "      <th>False</th>\n",
       "      <td>69243</td>\n",
       "      <td>1132</td>\n",
       "    </tr>\n",
       "    <tr>\n",
       "      <th>True</th>\n",
       "      <td>42</td>\n",
       "      <td>3506</td>\n",
       "    </tr>\n",
       "  </tbody>\n",
       "</table>\n",
       "</div>"
      ],
      "text/plain": [
       "Refrigerator  False  True \n",
       "Coffee maker              \n",
       "False         69243   1132\n",
       "True             42   3506"
      ]
     },
     "execution_count": 38,
     "metadata": {},
     "output_type": "execute_result"
    }
   ],
   "source": [
    "pd.crosstab(listings_amenities['Coffee maker'],listings_amenities['Refrigerator'])"
   ]
  },
  {
   "cell_type": "code",
   "execution_count": 39,
   "metadata": {},
   "outputs": [],
   "source": [
    "# The Dictionary for Recoding Amenities\n",
    "\n",
    "## The original Amenities grouped by their nature.\n",
    "amenitiy_recodings = {\n",
    "    'Flat' : 'Accessible Room',\n",
    "    ' smooth pathway to front door' : 'Accessible Room',\n",
    "    'Accessible-height bed' : 'Accessible Room', \n",
    "    'Accessible-height toilet'  : 'Accessible Room',\n",
    "    'Flat smooth pathway to front door'  : 'Accessible Room',\n",
    "    'Fixed grab bars for shower & toilet'  : 'Accessible Room',\n",
    "    'Grab-rails for shower and toilet'  : 'Accessible Room', \n",
    "    'Step-free access'  : 'Accessible Room',\n",
    "    'Wheelchair accessible'  : 'Accessible Room',\n",
    "    'Wide clearance to bed'  : 'Accessible Room', \n",
    "    'Wide clearance to shower & toilet'  : 'Accessible Room',\n",
    "    'Wide clearance to shower and toilet'  : 'Accessible Room',\n",
    "    'Wide doorway'  : 'Accessible Room',\n",
    "    'Wide entryway'  : 'Accessible Room', \n",
    "    'Wide hallway clearance'  : 'Accessible Room',\n",
    "    'Roll-in shower with chair'  : 'Accessible Room',\n",
    "    'Bathtub with shower chair'  : 'Accessible Room',\n",
    "    'Disabled parking spot'  : 'Accessible Room',\n",
    "    'Ground floor access'  : 'Accessible Room',\n",
    "    'Handheld shower head'  : 'Accessible Room',\n",
    "    \n",
    "    'Cat(s)' : 'Pet Friendly',\n",
    "    'Other pet(s)' : 'Pet Friendly',\n",
    "    'Pets allowed' : 'Pet Friendly',\n",
    "    'Dog(s)' : 'Pet Friendly',\n",
    "    #'Pets live on this property', \n",
    "    \n",
    "    'Table corner guards' : 'Family/kid friendly',\n",
    "    'Fireplace guards' : 'Family/kid friendly',\n",
    "    'Childrenâ€™s books and toys' : 'Family/kid friendly',\n",
    "    'Childrenâ€™s dinnerware' : 'Family/kid friendly', \n",
    "    'Outlet covers' : 'Family/kid friendly',\n",
    "    'Babysitter recommendations' : 'Family/kid friendly',\n",
    "    'Window guards' : 'Family/kid friendly',\n",
    "    \n",
    "    'Baby bath': 'Baby Friendly',\n",
    "    'Baby monitor': 'Baby Friendly',\n",
    "    'Pack â€™n Play/travel crib': 'Baby Friendly',\n",
    "    'Crib': 'Baby Friendly', \n",
    "    'Changing table': 'Baby Friendly',\n",
    "    'Stair gates': 'Baby Friendly',\n",
    "    'High chair': 'Baby Friendly',\n",
    "       \n",
    "    \n",
    "    'Doorman': 'Security',\n",
    "    'Doorman Entry': 'Security',\n",
    "    'Buzzer/wireless intercom': 'Security',\n",
    "    'Smart lock': 'Security', \n",
    "    'Smartlock': 'Security',\n",
    "    'Keypad': 'Security', \n",
    "    \n",
    "    'Internet' : 'Internet',\n",
    "    'Pocket wifi' : 'Internet',\n",
    "    'Wireless Internet' : 'Internet',\n",
    "    'Ethernet connection' : 'Internet',\n",
    "    \n",
    "    'Self Check-In' : '24-hour check-in',\n",
    "    '24-hour check-in': '24-hour check-in',\n",
    "    'Luggage dropoff allowed': '24-hour check-in',\n",
    "    \n",
    "    'Free parking on premises' : 'Free parking',\n",
    "    'Free parking on street' : 'Free parking',\n",
    "    \n",
    "    'Paid parking off premises' : 'Paid parking',\n",
    "    \n",
    "    #'EV charger',\n",
    "    \n",
    "    #'Elevator',\n",
    "    'Elevator in building' : 'Elevator', \n",
    "    \n",
    "    'Lake access' : 'Near Water',\n",
    "    'Beachfront': 'Near Water',\n",
    "    'Beach essentials': 'Near Water',\n",
    "    'Waterfront': 'Near Water',\n",
    "    \n",
    "    'Cooking basics' : 'Cooking Allowed', \n",
    "    'Dishes and silverware' : 'Cooking Allowed', \n",
    "    'Dishwasher' : 'Cooking Allowed',\n",
    "    'Microwave' : 'Cooking Allowed', \n",
    "    'Oven' : 'Cooking Allowed',\n",
    "    'BBQ grill' : 'Cooking Allowed',\n",
    "    'Stove' : 'Cooking Allowed', \n",
    "    'Kitchen' : 'Cooking Allowed',\n",
    "    #'Refrigerator', \n",
    "    \n",
    "    #'Coffee maker', \n",
    "    \n",
    "    'Cable TV' : 'TV', \n",
    "    #'TV',\n",
    "    \n",
    "    #'Game console', \n",
    "    \n",
    "    'Private bathroom' : \"Privacy Centric\", \n",
    "    'Private entrance' : \"Privacy Centric\",\n",
    "    'Private living room' : \"Privacy Centric\",\n",
    "    'Lock on bedroom door' : \"Privacy Centric\",\n",
    "       \n",
    "    'Dryer' : \"Laundry Facility\", \n",
    "    'Washer' : \"Laundry Facility\", \n",
    "    'Washer / Dryer' : \"Laundry Facility\",\n",
    "    \n",
    "    #'Iron', \n",
    "    #'Hangers', \n",
    "    \n",
    "    #'Breakfast',\n",
    "    \n",
    "    'First aid kit' : 'Fire and Safety Features',\n",
    "    'Carbon monoxide detector' : 'Fire and Safety Features',\n",
    "    'Smoke detector' : 'Fire and Safety Features',\n",
    "    'Fire extinguisher' : 'Fire and Safety Features', \n",
    "    'Safety card' : 'Fire and Safety Features',\n",
    "    \n",
    "    'Path to entrance lit at night' : 'Outdoor Lighting', \n",
    "    'Well-lit path to entrance' : 'Outdoor Lighting',\n",
    "    \n",
    "    'Air conditioning' : 'Climate Control',\n",
    "    'Heating' : 'Climate Control', \n",
    "    'Indoor fireplace' : 'Climate Control', \n",
    "    \n",
    "    #'Gym',\n",
    "    \n",
    "    'Body soap' : 'Essentials', \n",
    "    'Bath towel' : 'Essentials',\n",
    "    'Bed linens' : 'Essentials', \n",
    "    'Hand or paper towel' : 'Essentials', \n",
    "    'Hand soap' : 'Essentials',\n",
    "    'Shampoo' : 'Essentials',\n",
    "    'Toilet paper' : 'Essentials',\n",
    "    'Essentials' : 'Essentials',\n",
    "    \n",
    "    #'Cleaning before checkout',\n",
    "    \n",
    "    #'Patio or balcony', \n",
    "    #'Garden or backyard',\n",
    "    \n",
    "    'Bathtub' :'Bathtub',\n",
    "    'Hot tub' : 'Bathtub', \n",
    "     \n",
    "    \n",
    "    'Hot water' : 'Hot water', \n",
    "    'Hot water kettle' : 'Hot water',\n",
    "    \n",
    "    #'Host greets you', \n",
    "    \n",
    "    'Extra pillows and blankets' : 'Comfortable Sleep',\n",
    "    'Firm matress' : 'Comfortable Sleep',\n",
    "    'Firm mattress' : 'Comfortable Sleep',\n",
    "    'Room-darkening shades' : 'Comfortable Sleep'\n",
    "    #'Hair dryer',\n",
    "    #'Laptop friendly workspace',\n",
    "    #'Lockbox', \n",
    "    #'Long term stays allowed', \n",
    "    #'Pool',\n",
    "    #'Single level home', \n",
    "    #'Ski in/Ski out', \n",
    "\n",
    "    #'Smoking allowed', \n",
    "\n",
    "    #'Suitable for events'\n",
    "    }\n"
   ]
  },
  {
   "cell_type": "code",
   "execution_count": 42,
   "metadata": {},
   "outputs": [
    {
     "data": {
      "text/html": [
       "<div>\n",
       "<style scoped>\n",
       "    .dataframe tbody tr th:only-of-type {\n",
       "        vertical-align: middle;\n",
       "    }\n",
       "\n",
       "    .dataframe tbody tr th {\n",
       "        vertical-align: top;\n",
       "    }\n",
       "\n",
       "    .dataframe thead th {\n",
       "        text-align: right;\n",
       "    }\n",
       "</style>\n",
       "<table border=\"1\" class=\"dataframe\">\n",
       "  <thead>\n",
       "    <tr style=\"text-align: right;\">\n",
       "      <th></th>\n",
       "      <th>id</th>\n",
       "      <th>log_price</th>\n",
       "      <th>amenity</th>\n",
       "      <th>value</th>\n",
       "      <th>amenity_modified</th>\n",
       "    </tr>\n",
       "  </thead>\n",
       "  <tbody>\n",
       "    <tr>\n",
       "      <th>0</th>\n",
       "      <td>6901257</td>\n",
       "      <td>5.010635</td>\n",
       "      <td>smooth pathway to front door</td>\n",
       "      <td>False</td>\n",
       "      <td>Accessible Room</td>\n",
       "    </tr>\n",
       "    <tr>\n",
       "      <th>1</th>\n",
       "      <td>6304928</td>\n",
       "      <td>5.129899</td>\n",
       "      <td>smooth pathway to front door</td>\n",
       "      <td>False</td>\n",
       "      <td>Accessible Room</td>\n",
       "    </tr>\n",
       "    <tr>\n",
       "      <th>2</th>\n",
       "      <td>7919400</td>\n",
       "      <td>4.976734</td>\n",
       "      <td>smooth pathway to front door</td>\n",
       "      <td>False</td>\n",
       "      <td>Accessible Room</td>\n",
       "    </tr>\n",
       "    <tr>\n",
       "      <th>3</th>\n",
       "      <td>13418779</td>\n",
       "      <td>6.620073</td>\n",
       "      <td>smooth pathway to front door</td>\n",
       "      <td>False</td>\n",
       "      <td>Accessible Room</td>\n",
       "    </tr>\n",
       "    <tr>\n",
       "      <th>4</th>\n",
       "      <td>3808709</td>\n",
       "      <td>4.744932</td>\n",
       "      <td>smooth pathway to front door</td>\n",
       "      <td>False</td>\n",
       "      <td>Accessible Room</td>\n",
       "    </tr>\n",
       "  </tbody>\n",
       "</table>\n",
       "</div>"
      ],
      "text/plain": [
       "         id  log_price                        amenity  value amenity_modified\n",
       "0   6901257   5.010635   smooth pathway to front door  False  Accessible Room\n",
       "1   6304928   5.129899   smooth pathway to front door  False  Accessible Room\n",
       "2   7919400   4.976734   smooth pathway to front door  False  Accessible Room\n",
       "3  13418779   6.620073   smooth pathway to front door  False  Accessible Room\n",
       "4   3808709   4.744932   smooth pathway to front door  False  Accessible Room"
      ]
     },
     "execution_count": 42,
     "metadata": {},
     "output_type": "execute_result"
    }
   ],
   "source": [
    "listings_amenities_long = listings_amenities_long.assign(\n",
    "    amenity_modified = listings_amenities_long.amenity.replace(amenitiy_recodings)\n",
    ")\n",
    "\n",
    "listings_amenities_long.head()"
   ]
  },
  {
   "cell_type": "code",
   "execution_count": 43,
   "metadata": {},
   "outputs": [],
   "source": [
    "listings_amenities_simplified = listings_amenities_long.pivot_table(\n",
    "    index='id',\n",
    "    columns='amenity_modified',\n",
    "    values='value', \n",
    "    aggfunc='max'\n",
    ")"
   ]
  },
  {
   "cell_type": "code",
   "execution_count": 44,
   "metadata": {},
   "outputs": [],
   "source": [
    "#Merge the price column from the listings table\n",
    "listings_amenities_simplified = listings_amenities_simplified.merge(\n",
    "    listings.loc[:,['id','log_price']], \n",
    "    how = \"inner\", \n",
    "    on = \"id\"\n",
    ")"
   ]
  },
  {
   "cell_type": "code",
   "execution_count": 45,
   "metadata": {},
   "outputs": [
    {
     "data": {
      "text/html": [
       "<div>\n",
       "<style scoped>\n",
       "    .dataframe tbody tr th:only-of-type {\n",
       "        vertical-align: middle;\n",
       "    }\n",
       "\n",
       "    .dataframe tbody tr th {\n",
       "        vertical-align: top;\n",
       "    }\n",
       "\n",
       "    .dataframe thead th {\n",
       "        text-align: right;\n",
       "    }\n",
       "</style>\n",
       "<table border=\"1\" class=\"dataframe\">\n",
       "  <thead>\n",
       "    <tr style=\"text-align: right;\">\n",
       "      <th></th>\n",
       "      <th>id</th>\n",
       "      <th>24-hour check-in</th>\n",
       "      <th>Accessible Room</th>\n",
       "      <th>Air purifier</th>\n",
       "      <th>Baby Friendly</th>\n",
       "      <th>Bathtub</th>\n",
       "      <th>Breakfast</th>\n",
       "      <th>Cleaning before checkout</th>\n",
       "      <th>Climate Control</th>\n",
       "      <th>Coffee maker</th>\n",
       "      <th>...</th>\n",
       "      <th>Pool</th>\n",
       "      <th>Privacy Centric</th>\n",
       "      <th>Refrigerator</th>\n",
       "      <th>Security</th>\n",
       "      <th>Single level home</th>\n",
       "      <th>Ski in/Ski out</th>\n",
       "      <th>Smoking allowed</th>\n",
       "      <th>Suitable for events</th>\n",
       "      <th>TV</th>\n",
       "      <th>log_price</th>\n",
       "    </tr>\n",
       "  </thead>\n",
       "  <tbody>\n",
       "    <tr>\n",
       "      <th>0</th>\n",
       "      <td>10000073</td>\n",
       "      <td>True</td>\n",
       "      <td>False</td>\n",
       "      <td>False</td>\n",
       "      <td>False</td>\n",
       "      <td>False</td>\n",
       "      <td>False</td>\n",
       "      <td>False</td>\n",
       "      <td>True</td>\n",
       "      <td>False</td>\n",
       "      <td>...</td>\n",
       "      <td>False</td>\n",
       "      <td>False</td>\n",
       "      <td>False</td>\n",
       "      <td>True</td>\n",
       "      <td>False</td>\n",
       "      <td>False</td>\n",
       "      <td>False</td>\n",
       "      <td>False</td>\n",
       "      <td>True</td>\n",
       "      <td>5.521461</td>\n",
       "    </tr>\n",
       "    <tr>\n",
       "      <th>1</th>\n",
       "      <td>100002</td>\n",
       "      <td>False</td>\n",
       "      <td>False</td>\n",
       "      <td>False</td>\n",
       "      <td>False</td>\n",
       "      <td>False</td>\n",
       "      <td>True</td>\n",
       "      <td>False</td>\n",
       "      <td>True</td>\n",
       "      <td>False</td>\n",
       "      <td>...</td>\n",
       "      <td>False</td>\n",
       "      <td>True</td>\n",
       "      <td>False</td>\n",
       "      <td>False</td>\n",
       "      <td>False</td>\n",
       "      <td>False</td>\n",
       "      <td>False</td>\n",
       "      <td>False</td>\n",
       "      <td>True</td>\n",
       "      <td>4.382027</td>\n",
       "    </tr>\n",
       "    <tr>\n",
       "      <th>2</th>\n",
       "      <td>10000342</td>\n",
       "      <td>False</td>\n",
       "      <td>False</td>\n",
       "      <td>False</td>\n",
       "      <td>False</td>\n",
       "      <td>False</td>\n",
       "      <td>False</td>\n",
       "      <td>False</td>\n",
       "      <td>True</td>\n",
       "      <td>False</td>\n",
       "      <td>...</td>\n",
       "      <td>False</td>\n",
       "      <td>True</td>\n",
       "      <td>False</td>\n",
       "      <td>False</td>\n",
       "      <td>False</td>\n",
       "      <td>False</td>\n",
       "      <td>False</td>\n",
       "      <td>False</td>\n",
       "      <td>False</td>\n",
       "      <td>4.094345</td>\n",
       "    </tr>\n",
       "    <tr>\n",
       "      <th>3</th>\n",
       "      <td>10000384</td>\n",
       "      <td>True</td>\n",
       "      <td>True</td>\n",
       "      <td>False</td>\n",
       "      <td>False</td>\n",
       "      <td>False</td>\n",
       "      <td>False</td>\n",
       "      <td>False</td>\n",
       "      <td>True</td>\n",
       "      <td>False</td>\n",
       "      <td>...</td>\n",
       "      <td>False</td>\n",
       "      <td>False</td>\n",
       "      <td>False</td>\n",
       "      <td>True</td>\n",
       "      <td>False</td>\n",
       "      <td>False</td>\n",
       "      <td>True</td>\n",
       "      <td>False</td>\n",
       "      <td>True</td>\n",
       "      <td>4.382027</td>\n",
       "    </tr>\n",
       "    <tr>\n",
       "      <th>4</th>\n",
       "      <td>10000470</td>\n",
       "      <td>True</td>\n",
       "      <td>False</td>\n",
       "      <td>False</td>\n",
       "      <td>False</td>\n",
       "      <td>False</td>\n",
       "      <td>False</td>\n",
       "      <td>False</td>\n",
       "      <td>True</td>\n",
       "      <td>False</td>\n",
       "      <td>...</td>\n",
       "      <td>True</td>\n",
       "      <td>False</td>\n",
       "      <td>False</td>\n",
       "      <td>True</td>\n",
       "      <td>False</td>\n",
       "      <td>False</td>\n",
       "      <td>False</td>\n",
       "      <td>False</td>\n",
       "      <td>True</td>\n",
       "      <td>5.298317</td>\n",
       "    </tr>\n",
       "  </tbody>\n",
       "</table>\n",
       "<p>5 rows × 48 columns</p>\n",
       "</div>"
      ],
      "text/plain": [
       "         id  24-hour check-in  Accessible Room  Air purifier  Baby Friendly  \\\n",
       "0  10000073              True            False         False          False   \n",
       "1    100002             False            False         False          False   \n",
       "2  10000342             False            False         False          False   \n",
       "3  10000384              True             True         False          False   \n",
       "4  10000470              True            False         False          False   \n",
       "\n",
       "   Bathtub  Breakfast  Cleaning before checkout  Climate Control  \\\n",
       "0    False      False                     False             True   \n",
       "1    False       True                     False             True   \n",
       "2    False      False                     False             True   \n",
       "3    False      False                     False             True   \n",
       "4    False      False                     False             True   \n",
       "\n",
       "   Coffee maker    ...       Pool  Privacy Centric  Refrigerator  Security  \\\n",
       "0         False    ...      False            False         False      True   \n",
       "1         False    ...      False             True         False     False   \n",
       "2         False    ...      False             True         False     False   \n",
       "3         False    ...      False            False         False      True   \n",
       "4         False    ...       True            False         False      True   \n",
       "\n",
       "   Single level home  Ski in/Ski out  Smoking allowed  Suitable for events  \\\n",
       "0              False           False            False                False   \n",
       "1              False           False            False                False   \n",
       "2              False           False            False                False   \n",
       "3              False           False             True                False   \n",
       "4              False           False            False                False   \n",
       "\n",
       "      TV  log_price  \n",
       "0   True   5.521461  \n",
       "1   True   4.382027  \n",
       "2  False   4.094345  \n",
       "3   True   4.382027  \n",
       "4   True   5.298317  \n",
       "\n",
       "[5 rows x 48 columns]"
      ]
     },
     "execution_count": 45,
     "metadata": {},
     "output_type": "execute_result"
    }
   ],
   "source": [
    "listings_amenities_simplified.head()"
   ]
  },
  {
   "cell_type": "markdown",
   "metadata": {},
   "source": [
    "#### Checking Feature Importance for Amenity columns"
   ]
  },
  {
   "cell_type": "code",
   "execution_count": 46,
   "metadata": {},
   "outputs": [],
   "source": [
    "listings_amenities = listings_amenities_simplified"
   ]
  },
  {
   "cell_type": "code",
   "execution_count": 47,
   "metadata": {
    "scrolled": true
   },
   "outputs": [],
   "source": [
    "#Reset and set numpy random seed for generating random numbers\n",
    "np.random.seed(2018)\n",
    "train = np.random.choice([True, False], listings_amenities.shape[0], replace=True, p=[0.8, 0.2])\n",
    "\n",
    "#Using the random generated TRUE FALSE vector, perform the test train split\n",
    "listings_amenities_train = listings_amenities.iloc[train,:].values\n",
    "listings_amenities_test = listings_amenities.iloc[~train,:].values\n",
    "\n",
    "#Split the response variables and independent variables\n",
    "listings_amenities_train_x = listings_amenities_train[:,1:-1]\n",
    "listings_amenities_train_y = listings_amenities_train[:,-1]\n",
    "listings_amenities_test_x = listings_amenities_test[:,1:-1]\n",
    "listings_amenities_test_y = listings_amenities_test[:,-1]\n",
    "feat_labels=list(listings_amenities)"
   ]
  },
  {
   "cell_type": "markdown",
   "metadata": {},
   "source": [
    "##### Using RFECV"
   ]
  },
  {
   "cell_type": "markdown",
   "metadata": {},
   "source": [
    "```python\n",
    "lr = LinearRegression()\n",
    "selector = RFECV(lr, cv = 10)\n",
    "\n",
    "selector.fit(listings_amenities.iloc[:,1:-1], listings_amenities['log_price'])\n",
    "\n",
    "rfecv_optimized_columns = listings_amenities.iloc[:,1:-1].columns[selector.support_]\n",
    "rfecv_optimized_columns\n",
    "```"
   ]
  },
  {
   "cell_type": "code",
   "execution_count": null,
   "metadata": {},
   "outputs": [],
   "source": [
    "rfecv_optimized_columns = ['Air purifier', 'Baby Friendly', 'Bathtub', 'Breakfast',\n",
    "       'Climate Control', 'Coffee maker', 'Comfortable Sleep',\n",
    "       'Cooking Allowed', 'EV charger', 'Elevator', 'Family/kid friendly',\n",
    "       'Fire and Safety Features', 'Free parking', 'Game console', 'Gym',\n",
    "       'Hair dryer', 'Hangers', 'Host greets you', 'Hot water', 'Internet',\n",
    "       'Iron', 'Laptop friendly workspace', 'Laundry Facility', 'Lockbox',\n",
    "       'Long term stays allowed', 'Near Water', 'Other', 'Outdoor Lighting',\n",
    "       'Paid parking', 'Patio or balcony', 'Pet Friendly',\n",
    "       'Pets live on this property', 'Privacy Centric', 'Refrigerator',\n",
    "       'Security', 'Single level home', 'Ski in/Ski out', 'Smoking allowed',\n",
    "       'Suitable for events', 'TV']"
   ]
  },
  {
   "cell_type": "markdown",
   "metadata": {},
   "source": [
    "##### Using Random Forest"
   ]
  },
  {
   "cell_type": "markdown",
   "metadata": {},
   "source": [
    "```python\n",
    "#Create a random forest classifier\n",
    "clf = RandomForestRegressor(max_depth=10, n_estimators=100)\n",
    "\n",
    "#Train the classifier\n",
    "clf.fit(listings_amenities_train_x, listings_amenities_train_y)\n",
    "\n",
    "#Print the TRAIN and TEST scores\n",
    "print('Train score: ',round(clf.score(listings_amenities_train_x, listings_amenities_train_y),3))\n",
    "print('Test score: ',round(clf.score(listings_amenities_test_x, listings_amenities_test_y),3))\n",
    "\n",
    "#Fit a variable selection from the model using a Gini cut off\n",
    "sfm = SelectFromModel(clf, threshold=0.01)\n",
    "sfm.fit(listings_amenities_train_x, listings_amenities_train_y)\n",
    "\n",
    "#Print selected features\n",
    "selected_amenities = []\n",
    "print('Selected amenities:')\n",
    "for feature_list_index in sfm.get_support(indices=True):\n",
    "    print(feat_labels[feature_list_index])\n",
    "    selected_amenities.append(feat_labels[feature_list_index])\n",
    "    \n",
    "#Store the results\n",
    "rf_optimized_columns = selected_amenities\n",
    "```"
   ]
  },
  {
   "cell_type": "code",
   "execution_count": 50,
   "metadata": {},
   "outputs": [],
   "source": [
    "rf_optimized_columns = ['id', 'Baby Friendly', 'Bathtub',\n",
    " 'Comfortable Sleep', 'EV charger', 'Essentials',\n",
    " 'Fire and Safety Features', 'Garden or backyard',\n",
    " 'Gym', 'Hair dryer','Iron','Laptop friendly workspace',\n",
    " 'Patio or balcony', 'Pet Friendly', 'Pool',\n",
    " 'Refrigerator', 'Ski in/Ski out', 'Smoking allowed',\n",
    " 'Suitable for events']"
   ]
  },
  {
   "cell_type": "markdown",
   "metadata": {},
   "source": [
    "##### Using Boruta Algorithm"
   ]
  },
  {
   "cell_type": "markdown",
   "metadata": {},
   "source": [
    "```python\n",
    "listings_amenities_train_y = listings_amenities_train_y.ravel()\n",
    "\n",
    "# define Boruta feature selection method\n",
    "feat_selector = BorutaPy(\n",
    "    clf, \n",
    "    n_estimators='auto', \n",
    "    verbose=2, \n",
    "    random_state=2018,\n",
    "    max_iter=50\n",
    ")\n",
    "\n",
    "# find all relevant features - 5 features should be selected\n",
    "feat_selector.fit(listings_amenities_train_x, listings_amenities_train_y)\n",
    "\n",
    "#Get a list of column names selected from the Boruta algorithm\n",
    "boruta_optimized_columns = listings_amenities.iloc[:,1:-1].columns[feat_selector.support_]\n",
    "\n",
    "boruta_optimized_columns\n",
    "```"
   ]
  },
  {
   "cell_type": "code",
   "execution_count": 51,
   "metadata": {},
   "outputs": [],
   "source": [
    "boruta_optimized_columns = ['24-hour check-in', 'Bathtub', 'Breakfast', 'Cooking Allowed',\n",
    "       'Elevator', 'Essentials', 'Family/kid friendly',\n",
    "       'Fire and Safety Features', 'Free parking', 'Gym', 'Hair dryer',\n",
    "       'Hangers', 'Internet', 'Iron', 'Laptop friendly workspace',\n",
    "       'Laundry Facility', 'Lockbox', 'Pet Friendly',\n",
    "       'Pets live on this property', 'Pool', 'Privacy Centric', 'Security',\n",
    "       'Smoking allowed', 'Suitable for events', 'TV']"
   ]
  },
  {
   "cell_type": "markdown",
   "metadata": {},
   "source": [
    "**Merge the columns onto the listings table**"
   ]
  },
  {
   "cell_type": "markdown",
   "metadata": {},
   "source": [
    "listings = listings.columns.drop(rfecv_optimized_columns)"
   ]
  },
  {
   "cell_type": "code",
   "execution_count": 52,
   "metadata": {
    "scrolled": true
   },
   "outputs": [],
   "source": [
    "#Concat Listing ID and Selected amenities to join to Listings dataframe\n",
    "# Use rf_optimized_columns or rfecv_optimized_columns\n",
    "listings_selected_amenities = pd.concat(\n",
    "    [\n",
    "        listings_amenities_simplified['id'], \n",
    "        listings_amenities_simplified[boruta_optimized_columns]\n",
    "    ],\n",
    "    axis=1\n",
    ")"
   ]
  },
  {
   "cell_type": "code",
   "execution_count": 53,
   "metadata": {},
   "outputs": [],
   "source": [
    "listings = listings.merge(listings_selected_amenities, how = \"inner\", on = \"id\")"
   ]
  },
  {
   "cell_type": "markdown",
   "metadata": {},
   "source": [
    "#### Drop The Records with Missing Values\n",
    "\n",
    "This needn't be done here. We can do this just before modelling using Impute in sklearn preprocessing if required. Currently put here for prototyping"
   ]
  },
  {
   "cell_type": "code",
   "execution_count": 54,
   "metadata": {},
   "outputs": [
    {
     "data": {
      "text/plain": [
       "host_response_rate      18111\n",
       "review_scores_rating    16675\n",
       "first_review            15822\n",
       "last_review             15791\n",
       "zipcode                   580\n",
       "dtype: int64"
      ]
     },
     "execution_count": 54,
     "metadata": {},
     "output_type": "execute_result"
    }
   ],
   "source": [
    "show_cols_with_missing(listings)"
   ]
  },
  {
   "cell_type": "code",
   "execution_count": 55,
   "metadata": {},
   "outputs": [
    {
     "data": {
      "text/plain": [
       "host_response_rate      18111\n",
       "review_scores_rating    16675\n",
       "first_review            15822\n",
       "last_review             15791\n",
       "zipcode                   580\n",
       "dtype: int64"
      ]
     },
     "execution_count": 55,
     "metadata": {},
     "output_type": "execute_result"
    }
   ],
   "source": [
    "# Store a copy of the original data \n",
    "listings_with_missing = listings.copy()\n",
    "\n",
    "# Drop the Missing Values\n",
    "#listings.dropna(inplace = True)\n",
    "\n",
    "#Print out the counts again\n",
    "show_cols_with_missing(listings)"
   ]
  },
  {
   "cell_type": "markdown",
   "metadata": {},
   "source": [
    "### Data Visualization"
   ]
  },
  {
   "cell_type": "code",
   "execution_count": 56,
   "metadata": {},
   "outputs": [
    {
     "data": {
      "text/plain": [
       "<matplotlib.collections.PathCollection at 0x1e9a6346630>"
      ]
     },
     "execution_count": 56,
     "metadata": {},
     "output_type": "execute_result"
    },
    {
     "data": {
      "image/png": "[encoded data removed]",
      "text/plain": [
       "<Figure size 432x288 with 1 Axes>"
      ]
     },
     "metadata": {},
     "output_type": "display_data"
    }
   ],
   "source": [
    "plt.scatter(listings.year_of_listing, listings.log_price)"
   ]
  },
  {
   "cell_type": "code",
   "execution_count": 57,
   "metadata": {},
   "outputs": [
    {
     "data": {
      "text/plain": [
       "<matplotlib.axes._subplots.AxesSubplot at 0x1e988c47c88>"
      ]
     },
     "execution_count": 57,
     "metadata": {},
     "output_type": "execute_result"
    },
    {
     "data": {
      "image/png": "[encoded data removed]",
      "text/plain": [
       "<Figure size 864x864 with 2 Axes>"
      ]
     },
     "metadata": {},
     "output_type": "display_data"
    }
   ],
   "source": [
    "## Generating the heatmap for visualization - using Seaborn\n",
    "fig = plt.figure(figsize= (12,12))\n",
    "sns.heatmap(listings_selected_amenities.corr(), annot=False, vmax=1, cmap='viridis', square=False)"
   ]
  },
  {
   "cell_type": "markdown",
   "metadata": {},
   "source": [
    "### Visualization of target variables"
   ]
  },
  {
   "cell_type": "code",
   "execution_count": 58,
   "metadata": {},
   "outputs": [
    {
     "data": {
      "image/png": "[encoded data removed]",
      "text/plain": [
       "<Figure size 720x288 with 2 Axes>"
      ]
     },
     "metadata": {},
     "output_type": "display_data"
    }
   ],
   "source": [
    "# The Log Price column\n",
    "fig = plt.figure(figsize = (10,4))\n",
    "\n",
    "ax1 = fig.add_subplot(1,2,1)\n",
    "ax2 = fig.add_subplot(1,2,2)\n",
    "\n",
    "listings.log_price.hist(ax = ax1)\n",
    "ax1.set_title('Distribution of Log-Price')\n",
    "ax1.set_xlabel('log-price')\n",
    "ax1.set_ylabel('count')\n",
    "\n",
    "# The Log Price column\n",
    "plot = listings.log_price.plot(kind = 'box', ax = ax2)\n",
    "ax2.set_title('Distribution of Log-Price')\n",
    "\n",
    "plt.show()"
   ]
  },
  {
   "cell_type": "code",
   "execution_count": 59,
   "metadata": {},
   "outputs": [
    {
     "data": {
      "image/png": "[encoded data removed]",
      "text/plain": [
       "<Figure size 720x288 with 2 Axes>"
      ]
     },
     "metadata": {},
     "output_type": "display_data"
    }
   ],
   "source": [
    "# The Log Price column\n",
    "fig = plt.figure(figsize = (10,4))\n",
    "\n",
    "ax1 = fig.add_subplot(1,2,1)\n",
    "ax2 = fig.add_subplot(1,2,2)\n",
    "\n",
    "listings.review_scores_rating.hist(ax = ax1)\n",
    "ax1.set_title('Distribution of Rating Score')\n",
    "ax1.set_xlabel('Rating Score')\n",
    "ax1.set_ylabel('count')\n",
    "\n",
    "# The Log Price column\n",
    "plot = listings.review_scores_rating.plot(kind = 'box', ax = ax2)\n",
    "ax2.set_title('Distribution of Rating Score')\n",
    "\n",
    "plt.show()"
   ]
  },
  {
   "cell_type": "markdown",
   "metadata": {},
   "source": [
    "## Modelling - Listing Price"
   ]
  },
  {
   "cell_type": "code",
   "execution_count": 60,
   "metadata": {},
   "outputs": [
    {
     "data": {
      "text/plain": [
       "Index(['id', 'log_price', 'property_type', 'room_type', 'amenities',\n",
       "       'accommodates', 'bathrooms', 'bed_type', 'cancellation_policy',\n",
       "       'cleaning_fee', 'city', 'first_review', 'host_has_profile_pic',\n",
       "       'host_identity_verified', 'host_response_rate', 'host_since',\n",
       "       'instant_bookable', 'last_review', 'latitude', 'longitude', 'name',\n",
       "       'Neighbourhood', 'number_of_reviews', 'review_scores_rating',\n",
       "       'thumbnail_url', 'zipcode', 'bedrooms', 'beds', 'dist_to_attr1',\n",
       "       'dist_to_attr2', 'dist_to_attr3', 'dist_to_station', 'year_of_listing',\n",
       "       'month_of_listing', 'days_since_hosted', 'price', 'bedroom_share',\n",
       "       'bathroom_share', 'room_type_Entire home/apt', 'room_type_Private room',\n",
       "       'room_type_Shared room', 'city_Boston', 'city_Chicago', 'city_DC',\n",
       "       'city_LA', 'city_NYC', 'city_SF', 'property_type_Apartment',\n",
       "       'property_type_House', 'property_type_other_prop_type',\n",
       "       'bed_type_Real Bed', 'bed_type_other_bed_type',\n",
       "       'cancellation_policy_flexible', 'cancellation_policy_moderate',\n",
       "       'cancellation_policy_strict', 'description_length',\n",
       "       'sentiment_intensity', 'lda_attractions', 'lda_transport',\n",
       "       'lda_amenities', 'lda_property_desc', '24-hour check-in', 'Bathtub',\n",
       "       'Breakfast', 'Cooking Allowed', 'Elevator', 'Essentials',\n",
       "       'Family/kid friendly', 'Fire and Safety Features', 'Free parking',\n",
       "       'Gym', 'Hair dryer', 'Hangers', 'Internet', 'Iron',\n",
       "       'Laptop friendly workspace', 'Laundry Facility', 'Lockbox',\n",
       "       'Pet Friendly', 'Pets live on this property', 'Pool', 'Privacy Centric',\n",
       "       'Security', 'Smoking allowed', 'Suitable for events', 'TV'],\n",
       "      dtype='object')"
      ]
     },
     "execution_count": 60,
     "metadata": {},
     "output_type": "execute_result"
    }
   ],
   "source": [
    "listings.columns"
   ]
  },
  {
   "cell_type": "code",
   "execution_count": 61,
   "metadata": {},
   "outputs": [],
   "source": [
    "np.random.seed(2018)\n",
    "train = np.random.choice([True, False], listings.shape[0], replace=True, p=[0.5, 0.5])\n",
    "listings_train = listings.iloc[train,:]\n",
    "listings_test = listings.iloc[~train,:]\n"
   ]
  },
  {
   "cell_type": "code",
   "execution_count": 144,
   "metadata": {},
   "outputs": [
    {
     "name": "stdout",
     "output_type": "stream",
     "text": [
      "(37068, 46) (36855, 46) (37068,) (36855,)\n"
     ]
    }
   ],
   "source": [
    "train_cols = [\n",
    "       'accommodates', 'description_length', 'dist_to_attr1',\n",
    "       'dist_to_attr2', 'dist_to_attr3', 'dist_to_station',  'days_since_hosted','city_Boston', 'city_Chicago', 'city_DC',\n",
    "       'city_LA', 'city_NYC', 'room_type_Entire home/apt', 'room_type_Private room','property_type_Apartment',\n",
    "       'property_type_House', 'cancellation_policy_flexible', 'cancellation_policy_moderate', 'cancellation_policy_strict', '24-hour check-in', 'Bathtub',\n",
    "       'Breakfast', 'Cooking Allowed', 'Elevator', 'Essentials',\n",
    "       'Family/kid friendly', 'Fire and Safety Features', 'Free parking',\n",
    "       'Gym', 'Hair dryer', 'Hangers', 'Internet', 'Iron',\n",
    "       'Laptop friendly workspace', 'Laundry Facility', 'Lockbox',\n",
    "       'Pet Friendly', 'Pets live on this property', 'Pool', 'Privacy Centric',\n",
    "       'Security', 'Smoking allowed', 'Suitable for events', 'TV','bed_type_Real Bed','bedroom_share'\n",
    "       \n",
    "        ]\n",
    "target_col = 'log_price'\n",
    "removed_cols = ['id', 'log_price', 'property_type', 'room_type', 'amenities','bathrooms', 'bed_type', 'cancellation_policy'\n",
    "       , 'city', 'first_review', 'host_has_profile_pic','year_of_listing', 'last_review', 'latitude', 'longitude', 'name',\n",
    "       'Neighbourhood', 'number_of_reviews', 'review_scores_rating',\n",
    "       'thumbnail_url', 'zipcode', 'bedrooms', 'beds',\n",
    "       'month_of_listing','host_identity_verified', 'host_response_rate', 'host_since',  'days_since_hosted', 'price', \n",
    "       'bed_type_other_bed_type'\n",
    "       , 'property_type_other_prop_type','instant_bookable',\n",
    "       'room_type_Shared room','bathroom_share','cleaning_fee'\n",
    "       ]\n",
    "x_train = listings_train[train_cols].values\n",
    "x_test = listings_test[train_cols].values\n",
    "y_train = listings_train[target_col].values\n",
    "y_test = listings_test[target_col].values\n",
    "\n",
    "print(x_train.shape, x_test.shape, y_train.shape, y_test.shape)"
   ]
  },
  {
   "cell_type": "markdown",
   "metadata": {},
   "source": [
    "### Linear Regression Model"
   ]
  },
  {
   "cell_type": "code",
   "execution_count": 145,
   "metadata": {},
   "outputs": [
    {
     "data": {
      "text/plain": [
       "LinearRegression(copy_X=True, fit_intercept=True, n_jobs=None,\n",
       "         normalize=False)"
      ]
     },
     "execution_count": 145,
     "metadata": {},
     "output_type": "execute_result"
    }
   ],
   "source": [
    "# Declare an instance of the Linear Regression model.\n",
    "lm = LinearRegression()\n",
    "\n",
    "# Fit the model on to the training data( Train the model ).\n",
    "lm.fit(x_train, y_train)"
   ]
  },
  {
   "cell_type": "code",
   "execution_count": 146,
   "metadata": {},
   "outputs": [
    {
     "name": "stdout",
     "output_type": "stream",
     "text": [
      "R^2 value using score fn: 0.581\n"
     ]
    }
   ],
   "source": [
    "# Check the R^2 value of the model.\n",
    "print(\"R^2 value using score fn: %.3f\" % lm.score(x_test,y_test))"
   ]
  },
  {
   "cell_type": "code",
   "execution_count": 147,
   "metadata": {},
   "outputs": [],
   "source": [
    "# Use the model to predict values\n",
    "y_pred = lm.predict(x_test)"
   ]
  },
  {
   "cell_type": "code",
   "execution_count": 148,
   "metadata": {},
   "outputs": [
    {
     "data": {
      "text/plain": [
       "0.21475595279842785"
      ]
     },
     "execution_count": 148,
     "metadata": {},
     "output_type": "execute_result"
    }
   ],
   "source": [
    "# Calculate the Mean Squared Error using the mean_squared_error function.\n",
    "mean_squared_error(y_test,y_pred)\n"
   ]
  },
  {
   "cell_type": "code",
   "execution_count": 149,
   "metadata": {},
   "outputs": [
    {
     "name": "stdout",
     "output_type": "stream",
     "text": [
      "3925.3333336179144 [ 1.26815324e-01 -5.49311460e-04 -5.61073333e-03 -1.78711887e-02\n",
      " -1.15914527e-02  3.04460886e-02  3.57072015e-05 -3.32568867e-01\n",
      " -5.66970325e-01 -3.29492661e-01  2.25499503e-01 -1.94753929e-01\n",
      "  1.05978158e+00  4.90656511e-01 -1.19933715e-01  1.34053857e-02\n",
      " -3.92116496e+03 -3.92121792e+03 -3.92120300e+03 -5.46869224e-02\n",
      "  1.95394156e-02  4.61940820e-02 -5.51597475e-02  6.13839414e-02\n",
      " -1.64363348e-02  1.80054298e-02 -2.24759500e-02  5.04569691e-03\n",
      "  6.66096126e-02  4.32355247e-02 -3.46915127e-02 -1.12523776e-01\n",
      " -1.04000759e-02 -5.32956099e-03  7.58863788e-02 -3.82974965e-02\n",
      " -5.17412919e-03  1.06028138e-02  7.81669813e-02 -3.32843038e-02\n",
      "  3.38313178e-02 -4.13225313e-02  7.72237145e-02  1.36887291e-01\n",
      "  1.03114417e-02  1.99135582e-01]\n"
     ]
    }
   ],
   "source": [
    "print(lm.intercept_, lm.coef_)"
   ]
  },
  {
   "cell_type": "code",
   "execution_count": 150,
   "metadata": {},
   "outputs": [
    {
     "data": {
      "text/plain": [
       "(36855,)"
      ]
     },
     "execution_count": 150,
     "metadata": {},
     "output_type": "execute_result"
    }
   ],
   "source": [
    "y_pred.shape"
   ]
  },
  {
   "cell_type": "code",
   "execution_count": 152,
   "metadata": {},
   "outputs": [
    {
     "name": "stderr",
     "output_type": "stream",
     "text": [
      "C:\\Users\\Manu\\Anaconda3\\lib\\site-packages\\scipy\\stats\\stats.py:1713: FutureWarning: Using a non-tuple sequence for multidimensional indexing is deprecated; use `arr[tuple(seq)]` instead of `arr[seq]`. In the future this will be interpreted as an array index, `arr[np.array(seq)]`, which will result either in an error or a different result.\n",
      "  return np.add.reduce(sorted[indexer] * weights, axis=axis) / sumval\n"
     ]
    },
    {
     "data": {
      "text/plain": [
       "Text(0.5,1,'Residuals for the model')"
      ]
     },
     "execution_count": 152,
     "metadata": {},
     "output_type": "execute_result"
    },
    {
     "data": {
      "image/png": "[encoded data removed]",
      "text/plain": [
       "<Figure size 720x216 with 1 Axes>"
      ]
     },
     "metadata": {},
     "output_type": "display_data"
    }
   ],
   "source": [
    "# Plot of Casual and Registered model's residuals:\n",
    "fig = plt.figure(figsize=(10,3))\n",
    "\n",
    "sns.regplot(y_test,y_test - y_pred)\n",
    "plt.title(\"Residuals for the model\")\n"
   ]
  },
  {
   "cell_type": "markdown",
   "metadata": {},
   "source": [
    "## Modelling - Review Rating Score"
   ]
  },
  {
   "cell_type": "markdown",
   "metadata": {},
   "source": [
    "### Binning Review Ratings "
   ]
  },
  {
   "cell_type": "code",
   "execution_count": 153,
   "metadata": {},
   "outputs": [],
   "source": [
    "#Drop rows with missing values in RATINGS columns\n",
    "listings_classification = listings.dropna(axis=0, subset = ['review_scores_rating'])"
   ]
  },
  {
   "cell_type": "markdown",
   "metadata": {},
   "source": [
    "We can bin the Review ratings based on 3 approaches\n",
    "- Based on values\n",
    "- Based on number of data points in the bins\n",
    "- Based on Clustering"
   ]
  },
  {
   "cell_type": "code",
   "execution_count": 154,
   "metadata": {},
   "outputs": [
    {
     "data": {
      "text/plain": [
       "<matplotlib.axes._subplots.AxesSubplot at 0x1e9a3721e48>"
      ]
     },
     "execution_count": 154,
     "metadata": {},
     "output_type": "execute_result"
    },
    {
     "data": {
      "image/png": "[encoded data removed]",
      "text/plain": [
       "<Figure size 432x288 with 1 Axes>"
      ]
     },
     "metadata": {},
     "output_type": "display_data"
    }
   ],
   "source": [
    "# Create equal probability bins at the PENTILES of RATING\n",
    "listings_classification = listings_classification.assign(\n",
    "    rating_bin_ep = pd.qcut(\n",
    "        listings_classification['review_scores_rating'],\n",
    "        q=3,\n",
    "        duplicates='drop',\n",
    "        labels=['below_93', '93_to_98', '99_to_100']\n",
    "    )\n",
    ")\n",
    "\n",
    "# Visualize the Split\n",
    "sns.countplot(listings_classification['rating_bin_ep'])"
   ]
  },
  {
   "cell_type": "code",
   "execution_count": 155,
   "metadata": {},
   "outputs": [
    {
     "data": {
      "text/plain": [
       "below_93     19614\n",
       "93_to_98     18833\n",
       "99_to_100    18801\n",
       "Name: rating_bin_ep, dtype: int64"
      ]
     },
     "execution_count": 155,
     "metadata": {},
     "output_type": "execute_result"
    }
   ],
   "source": [
    "listings_classification['rating_bin_ep'].value_counts()"
   ]
  },
  {
   "cell_type": "markdown",
   "metadata": {},
   "source": [
    "### Regression as Classification\n"
   ]
  },
  {
   "cell_type": "code",
   "execution_count": 156,
   "metadata": {},
   "outputs": [
    {
     "data": {
      "text/plain": [
       "host_response_rate    9245\n",
       "zipcode                413\n",
       "first_review             1\n",
       "last_review              1\n",
       "dtype: int64"
      ]
     },
     "execution_count": 156,
     "metadata": {},
     "output_type": "execute_result"
    }
   ],
   "source": [
    "show_cols_with_missing(listings_classification)\n"
   ]
  },
  {
   "cell_type": "code",
   "execution_count": 157,
   "metadata": {},
   "outputs": [
    {
     "data": {
      "text/plain": [
       "Index(['id', 'log_price', 'property_type', 'room_type', 'amenities',\n",
       "       'accommodates', 'bathrooms', 'bed_type', 'cancellation_policy',\n",
       "       'cleaning_fee', 'city', 'first_review', 'host_has_profile_pic',\n",
       "       'host_identity_verified', 'host_response_rate', 'host_since',\n",
       "       'instant_bookable', 'last_review', 'latitude', 'longitude', 'name',\n",
       "       'Neighbourhood', 'number_of_reviews', 'review_scores_rating',\n",
       "       'thumbnail_url', 'zipcode', 'bedrooms', 'beds', 'dist_to_attr1',\n",
       "       'dist_to_attr2', 'dist_to_attr3', 'dist_to_station', 'year_of_listing',\n",
       "       'month_of_listing', 'days_since_hosted', 'price', 'bedroom_share',\n",
       "       'bathroom_share', 'room_type_Entire home/apt', 'room_type_Private room',\n",
       "       'room_type_Shared room', 'city_Boston', 'city_Chicago', 'city_DC',\n",
       "       'city_LA', 'city_NYC', 'city_SF', 'property_type_Apartment',\n",
       "       'property_type_House', 'property_type_other_prop_type',\n",
       "       'bed_type_Real Bed', 'bed_type_other_bed_type',\n",
       "       'cancellation_policy_flexible', 'cancellation_policy_moderate',\n",
       "       'cancellation_policy_strict', 'description_length',\n",
       "       'sentiment_intensity', 'lda_attractions', 'lda_transport',\n",
       "       'lda_amenities', 'lda_property_desc', '24-hour check-in', 'Bathtub',\n",
       "       'Breakfast', 'Cooking Allowed', 'Elevator', 'Essentials',\n",
       "       'Family/kid friendly', 'Fire and Safety Features', 'Free parking',\n",
       "       'Gym', 'Hair dryer', 'Hangers', 'Internet', 'Iron',\n",
       "       'Laptop friendly workspace', 'Laundry Facility', 'Lockbox',\n",
       "       'Pet Friendly', 'Pets live on this property', 'Pool', 'Privacy Centric',\n",
       "       'Security', 'Smoking allowed', 'Suitable for events', 'TV',\n",
       "       'rating_bin_ep'],\n",
       "      dtype='object')"
      ]
     },
     "execution_count": 157,
     "metadata": {},
     "output_type": "execute_result"
    }
   ],
   "source": [
    "listings_classification.columns"
   ]
  },
  {
   "cell_type": "code",
   "execution_count": 158,
   "metadata": {},
   "outputs": [],
   "source": [
    "# Drop the rows with missing values for particular columns\n",
    "listings_classification.dropna(subset = ['host_response_rate'], inplace = True)"
   ]
  },
  {
   "cell_type": "markdown",
   "metadata": {},
   "source": [
    "listings_classification.rating_bin_ew = listings_classification.rating_bin_ew.astype(str)\n",
    "listings_classification.rating_bin_km = listings_classification.rating_bin_km.astype(str)"
   ]
  },
  {
   "cell_type": "code",
   "execution_count": 160,
   "metadata": {},
   "outputs": [
    {
     "name": "stdout",
     "output_type": "stream",
     "text": [
      "(33765, 64) (14238, 64) (33765,) (14238,)\n"
     ]
    }
   ],
   "source": [
    "np.random.seed(2018)\n",
    "train = np.random.choice([True, False], listings_classification.shape[0], replace=True, p=[0.7, 0.3])\n",
    "\n",
    "listings_classification_train = listings_classification.iloc[train,:]\n",
    "listings_classification_test = listings_classification.iloc[~train,:]\n",
    "\n",
    "train_cols = listings_classification.select_dtypes([np.number,bool]).columns.drop(['review_scores_rating', 'number_of_reviews','latitude', 'longitude',\n",
    "                                                                                   'month_of_listing','year_of_listing', 'lda_transport','lda_amenities',\n",
    "                                                                                   'lda_property_desc'])\n",
    "target_col = 'rating_bin_ep'\n",
    "\n",
    "x_train = listings_classification_train[train_cols].values\n",
    "x_test = listings_classification_test[train_cols].values\n",
    "y_train = listings_classification_train[target_col].values\n",
    "y_test = listings_classification_test[target_col].values\n",
    "\n",
    "print(x_train.shape, x_test.shape, y_train.shape, y_test.shape)\n",
    "           "
   ]
  },
  {
   "cell_type": "markdown",
   "metadata": {},
   "source": [
    "## Decision tree"
   ]
  },
  {
   "cell_type": "code",
   "execution_count": 161,
   "metadata": {},
   "outputs": [
    {
     "data": {
      "text/plain": [
       "<matplotlib.axes._subplots.AxesSubplot at 0x1e9a2304320>"
      ]
     },
     "execution_count": 161,
     "metadata": {},
     "output_type": "execute_result"
    },
    {
     "data": {
      "image/png": "[encoded data removed]",
      "text/plain": [
       "<Figure size 432x288 with 1 Axes>"
      ]
     },
     "metadata": {},
     "output_type": "display_data"
    }
   ],
   "source": [
    "#Make the decision tree\n",
    "dtree = DecisionTreeClassifier(\n",
    "    class_weight=\"balanced\",\n",
    "    min_weight_fraction_leaf=0.01)\n",
    "\n",
    "dtree.fit(x_train,y_train)\n",
    "\n",
    "importances = dtree.feature_importances_\n",
    "feat_names = train_cols\n",
    "tree_result = pd.DataFrame({'feature': feat_names, 'importance': importances})\n",
    "tree_result.sort_values(by='importance',ascending=False)[:15].plot(x='feature', y='importance', kind='bar')"
   ]
  },
  {
   "cell_type": "code",
   "execution_count": 162,
   "metadata": {},
   "outputs": [
    {
     "name": "stdout",
     "output_type": "stream",
     "text": [
      "Score: 0.441\n",
      "Precision: 0.44 \n",
      "Recall: 0.44 \n",
      "F1 Score: 0.44\n"
     ]
    },
    {
     "data": {
      "text/html": [
       "<div>\n",
       "<style scoped>\n",
       "    .dataframe tbody tr th:only-of-type {\n",
       "        vertical-align: middle;\n",
       "    }\n",
       "\n",
       "    .dataframe tbody tr th {\n",
       "        vertical-align: top;\n",
       "    }\n",
       "\n",
       "    .dataframe thead th {\n",
       "        text-align: right;\n",
       "    }\n",
       "</style>\n",
       "<table border=\"1\" class=\"dataframe\">\n",
       "  <thead>\n",
       "    <tr style=\"text-align: right;\">\n",
       "      <th></th>\n",
       "      <th>p_below_93</th>\n",
       "      <th>p_93_to_98</th>\n",
       "      <th>p_99_to_100</th>\n",
       "    </tr>\n",
       "  </thead>\n",
       "  <tbody>\n",
       "    <tr>\n",
       "      <th>below_93</th>\n",
       "      <td>1990</td>\n",
       "      <td>1467</td>\n",
       "      <td>1704</td>\n",
       "    </tr>\n",
       "    <tr>\n",
       "      <th>93_to_98</th>\n",
       "      <td>1122</td>\n",
       "      <td>1927</td>\n",
       "      <td>1262</td>\n",
       "    </tr>\n",
       "    <tr>\n",
       "      <th>99_to_100</th>\n",
       "      <td>1137</td>\n",
       "      <td>1264</td>\n",
       "      <td>2365</td>\n",
       "    </tr>\n",
       "  </tbody>\n",
       "</table>\n",
       "</div>"
      ],
      "text/plain": [
       "           p_below_93  p_93_to_98  p_99_to_100\n",
       "below_93         1990        1467         1704\n",
       "93_to_98         1122        1927         1262\n",
       "99_to_100        1137        1264         2365"
      ]
     },
     "execution_count": 162,
     "metadata": {},
     "output_type": "execute_result"
    }
   ],
   "source": [
    "#Get Decision Tree mean squared error on test dataset\n",
    "dtree_y_predict = dtree.predict(x_test)\n",
    "\n",
    "print(\"Score: %.3f\" % dtree.score(x_test,y_test))\n",
    "\n",
    "print('Precision: %0.2f \\nRecall: %0.2f \\nF1 Score: %0.2f' %\n",
    "      (precision_score(y_test, dtree_y_predict, average='weighted'),\n",
    "       recall_score(y_test, dtree_y_predict, average='weighted'),\n",
    "       f1_score(y_test, dtree_y_predict, average='weighted'))\n",
    "     )\n",
    "\n",
    "conf_mat_df = pd.DataFrame(data=confusion_matrix(y_test, dtree_y_predict), \n",
    "                           columns=['p_below_93', 'p_93_to_98', 'p_99_to_100'],\n",
    "                           index=['below_93', '93_to_98', '99_to_100'])\n",
    "conf_mat_df"
   ]
  },
  {
   "cell_type": "markdown",
   "metadata": {},
   "source": [
    "## Random Forest"
   ]
  },
  {
   "cell_type": "code",
   "execution_count": 163,
   "metadata": {},
   "outputs": [
    {
     "data": {
      "text/plain": [
       "<matplotlib.axes._subplots.AxesSubplot at 0x1e99f513780>"
      ]
     },
     "execution_count": 163,
     "metadata": {},
     "output_type": "execute_result"
    },
    {
     "data": {
      "image/png": "[encoded data removed]",
      "text/plain": [
       "<Figure size 432x288 with 1 Axes>"
      ]
     },
     "metadata": {},
     "output_type": "display_data"
    }
   ],
   "source": [
    "# Random Forest Model\n",
    "rf = RandomForestClassifier(\n",
    "    n_estimators=1000, \n",
    "    max_depth=30, \n",
    "    min_samples_split=10, \n",
    "    class_weight=\"balanced\"\n",
    "    )\n",
    "\n",
    "rf.fit(x_train, y_train)\n",
    "importances = rf.feature_importances_\n",
    "feat_names = train_cols\n",
    "tree_result = pd.DataFrame({'feature': feat_names, 'importance': importances})\n",
    "tree_result.sort_values(by='importance',ascending=False)[:10].plot(x='feature', y='importance', kind='bar')"
   ]
  },
  {
   "cell_type": "code",
   "execution_count": 164,
   "metadata": {},
   "outputs": [
    {
     "name": "stdout",
     "output_type": "stream",
     "text": [
      "Score: 0.504\n",
      "Precision: 0.5037887031429578 Recall: 0.504424778761062 F1 Score: 0.5036846309506656\n"
     ]
    },
    {
     "data": {
      "text/html": [
       "<div>\n",
       "<style scoped>\n",
       "    .dataframe tbody tr th:only-of-type {\n",
       "        vertical-align: middle;\n",
       "    }\n",
       "\n",
       "    .dataframe tbody tr th {\n",
       "        vertical-align: top;\n",
       "    }\n",
       "\n",
       "    .dataframe thead th {\n",
       "        text-align: right;\n",
       "    }\n",
       "</style>\n",
       "<table border=\"1\" class=\"dataframe\">\n",
       "  <thead>\n",
       "    <tr style=\"text-align: right;\">\n",
       "      <th></th>\n",
       "      <th>p_below_93</th>\n",
       "      <th>p_93_to_98</th>\n",
       "      <th>p_99_to_100</th>\n",
       "    </tr>\n",
       "  </thead>\n",
       "  <tbody>\n",
       "    <tr>\n",
       "      <th>below_93</th>\n",
       "      <td>2733</td>\n",
       "      <td>1086</td>\n",
       "      <td>1342</td>\n",
       "    </tr>\n",
       "    <tr>\n",
       "      <th>93_to_98</th>\n",
       "      <td>1442</td>\n",
       "      <td>1904</td>\n",
       "      <td>965</td>\n",
       "    </tr>\n",
       "    <tr>\n",
       "      <th>99_to_100</th>\n",
       "      <td>1267</td>\n",
       "      <td>954</td>\n",
       "      <td>2545</td>\n",
       "    </tr>\n",
       "  </tbody>\n",
       "</table>\n",
       "</div>"
      ],
      "text/plain": [
       "           p_below_93  p_93_to_98  p_99_to_100\n",
       "below_93         2733        1086         1342\n",
       "93_to_98         1442        1904          965\n",
       "99_to_100        1267         954         2545"
      ]
     },
     "execution_count": 164,
     "metadata": {},
     "output_type": "execute_result"
    }
   ],
   "source": [
    "#Get Random Forest mean squared error on test dataset\n",
    "rf_y_predict = rf.predict(x_test)\n",
    "\n",
    "print(\"Score: %.3f\" % rf.score(x_test,y_test))\n",
    "\n",
    "print('Precision:', precision_score(y_test, rf_y_predict, average='weighted'),\n",
    "      \"Recall:\", recall_score(y_test, rf_y_predict, average='weighted'), \n",
    "      \"F1 Score:\", f1_score(y_test, rf_y_predict, average='weighted'))\n",
    "\n",
    "conf_mat_df = pd.DataFrame(data=confusion_matrix(y_test, rf_y_predict), \n",
    "                           columns=['p_below_93', 'p_93_to_98', 'p_99_to_100'],\n",
    "                           index=['below_93', '93_to_98', '99_to_100'])\n",
    "conf_mat_df"
   ]
  },
  {
   "cell_type": "markdown",
   "metadata": {},
   "source": [
    "show_cols_with_missinglistings_classification.info()\n"
   ]
  }
 ],
 "metadata": {
  "kernelspec": {
   "display_name": "Python 3",
   "language": "python",
   "name": "python3"
  },
  "language_info": {
   "codemirror_mode": {
    "name": "ipython",
    "version": 3
   },
   "file_extension": ".py",
   "mimetype": "text/x-python",
   "name": "python",
   "nbconvert_exporter": "python",
   "pygments_lexer": "ipython3",
   "version": "3.6.5"
  }
 },
 "nbformat": 4,
 "nbformat_minor": 2
}
